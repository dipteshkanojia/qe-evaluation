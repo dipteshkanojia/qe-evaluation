{
 "cells": [
  {
   "cell_type": "code",
   "execution_count": 1,
   "id": "4a2e1580-a1e4-4429-ad6b-314e538706ce",
   "metadata": {},
   "outputs": [],
   "source": [
    "# !pip install transquest nlpaug nltk numpy requests nlpaug colorama Pygments==2.0 sphinx jupyter spacy pandas plotly torch\n",
    "# !python -m spacy download en_core_web_sm EXECUTE THIS THE VRERY FIRST TIME\n",
    "\n",
    "# EXECUTE ONCE FOR INSTALLTION OF ALL THE REQUIRED LIBRARIES"
   ]
  },
  {
   "cell_type": "code",
   "execution_count": 2,
   "id": "88d87da0-842c-49d1-bad5-c47b9b1252c0",
   "metadata": {},
   "outputs": [],
   "source": [
    "tqmodel = \"mono\" ## You should use, siamese for Siamese TransQuest models, mono for MonoTransQuest models, and multi for Multlingual MonoTransquest models.\n",
    "source_lang = \"ne\" ## ru, si, et, ro, ne (Russian, Sinhala, Estonian, Romanian, Nepali)"
   ]
  },
  {
   "cell_type": "code",
   "execution_count": 3,
   "id": "583f3148-a3fe-42bc-9049-56ef0cad9b9a",
   "metadata": {},
   "outputs": [],
   "source": [
    "import torch\n",
    "import pandas as pd\n",
    "import io, sys, os\n",
    "from functools import reduce\n",
    "import spacy\n",
    "import string\n",
    "from spacy.lang.en.stop_words import STOP_WORDS\n",
    "from spacy.lang.en import English\n",
    "import numpy as np\n",
    "import random\n",
    "import re\n",
    "nlp = English()\n",
    "tokenizer = nlp.tokenizer\n",
    "from tqdm.notebook import tqdm\n",
    "import plotly.express as px"
   ]
  },
  {
   "cell_type": "code",
   "execution_count": 4,
   "id": "c9430bed-1d05-4a18-a81e-1c04b2739c28",
   "metadata": {},
   "outputs": [
    {
     "name": "stderr",
     "output_type": "stream",
     "text": [
      "/home/diptesh/anaconda3/envs/newtemp/lib/python3.8/site-packages/transquest/algo/sentence_level/monotransquest/run_model.py:251: UserWarning: use_multiprocessing automatically disabled as xlmroberta fails when using multiprocessing for feature conversion.\n",
      "  warnings.warn(\n"
     ]
    }
   ],
   "source": [
    "if tqmodel == \"siamese\":\n",
    "    from transquest.algo.sentence_level.siamesetransquest.run_model import SiameseTransQuestModel\n",
    "    if source_lang == \"ru\":\n",
    "        model = SiameseTransQuestModel(\"TransQuest/siamesetransquest-da-\"+source_lang+\"_en-reddit_wikiquotes\")\n",
    "    elif (source_lang == \"et\" or source_lang == \"si\" or source_lang == \"ne\" or source_lang == \"ro\"):\n",
    "        model = SiameseTransQuestModel(\"TransQuest/siamesetransquest-da-\"+source_lang+\"_en-wiki\")\n",
    "    else:\n",
    "        print(\"Source language should be selected correctly for model loading. Use ru, si, et, ro, ne (Russian, Sinhala, Estonian, Romanian, Nepali) as your choice of source language\")\n",
    "elif tqmodel == \"mono\":\n",
    "    from transquest.algo.sentence_level.monotransquest.run_model import MonoTransQuestModel\n",
    "    if source_lang == \"ru\":\n",
    "        model = MonoTransQuestModel(\"xlmroberta\", \"TransQuest/monotransquest-da-\"+source_lang+\"_en-reddit_wikiquotes\", num_labels=1, use_cuda=torch.cuda.is_available())\n",
    "    elif (source_lang == \"et\" or source_lang == \"si\" or source_lang == \"ne\" or source_lang == \"ro\"):\n",
    "        model = MonoTransQuestModel(\"xlmroberta\", \"TransQuest/monotransquest-da-\"+source_lang+\"_en-wiki\", num_labels=1, use_cuda=torch.cuda.is_available())\n",
    "    else:\n",
    "        print(\"Source language should be selected correctly for model loading. Use ru, si, et, ro, ne (Russian, Sinhala, Estonian, Romanian, Nepali) as your choice of source language\")\n",
    "elif tqmodel == \"multi\":\n",
    "    if (source_lang == \"ru\" or source_lang == \"et\" or source_lang == \"si\" or source_lang == \"ne\" or source_lang == \"ro\"):\n",
    "        from transquest.algo.sentence_level.monotransquest.run_model import MonoTransQuestModel\n",
    "        model = MonoTransQuestModel(\"xlmroberta\", \"TransQuest/monotransquest-da-multilingual\", num_labels=1, use_cuda=torch.cuda.is_available())\n",
    "    else:\n",
    "        print(\"Source language should be selected correctly for model loading. Use ru, si, et, ro, ne (Russian, Sinhala, Estonian, Romanian, Nepali) as your choice of source language\")\n",
    "else:\n",
    "    print(\"Please use the values 'mono', 'siamese', or 'multi' for the correct selection of the TransQuest model\")"
   ]
  },
  {
   "cell_type": "code",
   "execution_count": 5,
   "id": "31328ea8-6c3e-45a3-a8f2-ce84f908e0b5",
   "metadata": {},
   "outputs": [],
   "source": [
    "dfdev = pd.read_csv(source_lang+\"_en_data/dev.\"+source_lang+\"en.df.short.tsv\",sep='\\t')\n",
    "dftest = pd.read_csv(source_lang+\"_en_data/test20.\"+source_lang+\"en.df.short.tsv\", sep='\\t')\n",
    "frames = [dfdev, dftest]\n",
    "final = pd.concat(frames)\n",
    "comb = final.reset_index(drop=True)\n",
    "if(source_lang!=\"ru\"):\n",
    "    devtestComb = comb.drop(columns=['index', 'mean', 'z_scores', 'z_mean', 'model_scores', 'scores'])\n",
    "else:\n",
    "    devtestComb = comb.drop(columns=['segid', 'mean', 'z_scores', 'z_mean', 'model_scores', 'scores'])"
   ]
  },
  {
   "cell_type": "code",
   "execution_count": 6,
   "id": "c53ef10d-3895-4198-9030-1a5e9a6523a8",
   "metadata": {},
   "outputs": [
    {
     "data": {
      "application/vnd.jupyter.widget-view+json": {
       "model_id": "740369a6b0764495be4e97f4c59f6f80",
       "version_major": 2,
       "version_minor": 0
      },
      "text/plain": [
       "  0%|          | 0/2000 [00:00<?, ?it/s]"
      ]
     },
     "metadata": {},
     "output_type": "display_data"
    },
    {
     "data": {
      "application/vnd.jupyter.widget-view+json": {
       "model_id": "2383ffc42a954ceeb91e970e31a22497",
       "version_major": 2,
       "version_minor": 0
      },
      "text/plain": [
       "  0%|          | 0/250 [00:00<?, ?it/s]"
      ]
     },
     "metadata": {},
     "output_type": "display_data"
    }
   ],
   "source": [
    "dtlol = devtestComb.values.tolist()\n",
    "if tqmodel == \"siamese\":\n",
    "    nppredictions = model.predict(dtlol)\n",
    "else:\n",
    "    nppredictions, raw = model.predict(dtlol)\n",
    "\n",
    "df_orig_trans_score = devtestComb\n",
    "df_orig_trans_score['trans_score'] = nppredictions"
   ]
  },
  {
   "cell_type": "code",
   "execution_count": 7,
   "id": "84ad005f-3fb9-4b55-9ade-957d0f05cda0",
   "metadata": {},
   "outputs": [],
   "source": [
    "####### BELOW CODE CALCULATES THE AVERAGE SCORE FOR HUMAN DA AND SUBSTITUTES IT IN THE TRANS_SCORE COLUMN INSTEAD OF THE PREDICTED SCORE #########\n",
    "l = comb['scores'].tolist()\n",
    "newlist = []\n",
    "for sublist in l:\n",
    "    sublist = sublist.split(\", \")\n",
    "    sublist = [i.strip('[]') for i in sublist]\n",
    "    sublist = [float(i) for i in sublist]\n",
    "    newlist.append(sublist)\n",
    "\n",
    "newlistnparray = np.array(newlist)\n",
    "newlistmeans = np.mean(newlistnparray, axis=1)\n",
    "newlistmeans = newlistmeans/100\n",
    "newlistmeans = newlistmeans.tolist()\n",
    "df_orig_trans_score['trans_score_hum'] = newlistmeans\n",
    "####### ABOVE CODE CALCULATES THE AVERAGE SCORE FOR HUMAN DA AND SUBSTITUTES IT IN THE TRANS_SCORE COLUMN INSTEAD OF THE PREDICTED SCORE #########\n",
    "\n",
    "def trans_threshold(df, th=0.7):\n",
    "  trans_score_np = np.array(list(df['trans_score_hum'])) ## CHANGE HERE BASED ON WHICH COLUMN SHOULD THE THRESHOLDING BE APPLIED\n",
    "  trans_score_idx_ = np.argwhere(trans_score_np >= th)\n",
    "  trans_score_idx = trans_score_idx_.reshape(trans_score_idx_.shape[0])\n",
    "  return df.iloc[trans_score_idx]"
   ]
  },
  {
   "cell_type": "code",
   "execution_count": 8,
   "id": "9009fabd-3741-4ace-a2bb-7c2e75f2ea39",
   "metadata": {},
   "outputs": [],
   "source": [
    "df_trans_thres = trans_threshold(df_orig_trans_score, 0.7) #Selection of threshold 0.7\n",
    "df_trans_thres = df_trans_thres.drop(columns=['trans_score_hum'])"
   ]
  },
  {
   "cell_type": "code",
   "execution_count": 9,
   "id": "15c28c3e-d4a3-46d8-848d-97b6fd0f3058",
   "metadata": {},
   "outputs": [],
   "source": [
    "class Vocabulary:\n",
    "    def __init__(self, name):\n",
    "        PAD_token = 0   # Used for padding short sentences\n",
    "        SOS_token = 1   # Start-of-sentence token\n",
    "        EOS_token = 2   # End-of-sentence token\n",
    "        self.name = name\n",
    "        self.word2index = {}\n",
    "        self.word2count = {}\n",
    "        self.index2word = {PAD_token: \"PAD\", SOS_token: \"SOS\", EOS_token: \"EOS\"}\n",
    "        self.num_words = 3\n",
    "        self.num_sentences = 0\n",
    "        self.longest_sentence = 0\n",
    "\n",
    "    def add_word(self, word):\n",
    "        if word not in self.word2index:\n",
    "            # First entry of word into vocabulary\n",
    "            self.word2index[word] = self.num_words\n",
    "            self.word2count[word] = 1\n",
    "            self.index2word[self.num_words] = word\n",
    "            self.num_words += 1\n",
    "        else:\n",
    "            # Word exists; increase word count\n",
    "            self.word2count[word] += 1\n",
    "            \n",
    "    def add_sentence(self, sentence):\n",
    "        sentence_len = 0\n",
    "        for word in sentence.split(' '):\n",
    "            sentence_len += 1\n",
    "            self.add_word(word)\n",
    "        if sentence_len > self.longest_sentence:\n",
    "            # This is the longest sentence\n",
    "            self.longest_sentence = sentence_len\n",
    "        # Count the number of sentences\n",
    "        self.num_sentences += 1\n",
    "\n",
    "    def to_word(self, index):\n",
    "        return self.index2word[index]\n",
    "\n",
    "    def to_index(self, word):\n",
    "        return self.word2index[word]"
   ]
  },
  {
   "cell_type": "code",
   "execution_count": 10,
   "id": "64a17a42-8aac-45df-8977-380fe8df78e4",
   "metadata": {},
   "outputs": [
    {
     "data": {
      "text/plain": [
       "(7311, 6945)"
      ]
     },
     "execution_count": 10,
     "metadata": {},
     "output_type": "execute_result"
    }
   ],
   "source": [
    "voc = Vocabulary('corpusVocab')\n",
    "for sentence in devtestComb['translation']:\n",
    "    voc.add_sentence(sentence.translate(str.maketrans('', '', string.punctuation))) ## removing puntuations\n",
    "\n",
    "# vocab with stopwords \n",
    "vocab = []\n",
    "for word in range(voc.num_words):\n",
    "    vocab.append(voc.to_word(word))\n",
    "# vocab without stopwords \n",
    "vocab_wo_stopw = []\n",
    "for word in vocab:\n",
    "    if(word.lower() not in STOP_WORDS):\n",
    "        vocab_wo_stopw.append(word)\n",
    "\n",
    "len(vocab), len(vocab_wo_stopw)"
   ]
  },
  {
   "cell_type": "code",
   "execution_count": 11,
   "id": "6f05c5fe-d306-4803-8be1-0d3be88b8da0",
   "metadata": {},
   "outputs": [],
   "source": [
    "def generate_map1_sents(df, nTrials):\n",
    "    ## returns the list of perturbed translation based on the removal of negation markers - \"not, no, and n't\"\n",
    "    print(\"Generating sentences for MAP1\")\n",
    "    new_sents_lol = [] \n",
    "    map1_orig_sents_lol = []\n",
    "    for i in range(nTrials):\n",
    "        new_sents  = []\n",
    "        map1_orig_sents = []\n",
    "        for original, sentence in zip(df['original'], df['translation']):\n",
    "            tempSentVoc = sentence.split()\n",
    "\n",
    "            sentVoc = []\n",
    "            for token in tempSentVoc:\n",
    "                token = token.replace(\"n't\", \"\", 1)\n",
    "                sentVoc.append(token)\n",
    "            \n",
    "            sentVoc = [token for token in sentVoc if (token.lower() != \"not\" and token.lower() != \"no\")]\n",
    "            \n",
    "            \n",
    "            if(sentence != ' '.join(sentVoc)):\n",
    "                tempL=[]\n",
    "                tempL.append(original)\n",
    "                tempL.append(' '.join(sentVoc))\n",
    "                new_sents.append(tempL)\n",
    "                tempL=[]\n",
    "                tempL.append(original)\n",
    "                tempL.append(sentence)\n",
    "                map1_orig_sents.append(tempL)\n",
    "        new_sents_lol.append(new_sents)\n",
    "        map1_orig_sents_lol.append(map1_orig_sents)\n",
    "\n",
    "    return new_sents_lol, map1_orig_sents_lol"
   ]
  },
  {
   "cell_type": "code",
   "execution_count": 12,
   "id": "82cd97dc-fe69-449f-8cdc-394b40abae1b",
   "metadata": {},
   "outputs": [],
   "source": [
    "def generate_map2_sents(df, nTrials):\n",
    "    ## returns the list of perturbed translations based on removal of random content words\n",
    "    print(\"Generating sentences for MAP2\")\n",
    "    puncts = list(set(string.punctuation))\n",
    "    new_sents_lol = [] \n",
    "    vocab_ = vocab_wo_stopw\n",
    "    for i in range(nTrials):\n",
    "        new_sents  = []\n",
    "        for sentence in df['translation']:\n",
    "            sentVoc = [str(i) for i in tokenizer(sentence)]\n",
    "            sentVoc_wo_punct = []\n",
    "\n",
    "            for v in sentVoc:\n",
    "                if(v not in puncts):\n",
    "                    sentVoc_wo_punct.append(v)\n",
    "\n",
    "            sentVoc = sentVoc_wo_punct\n",
    "            \n",
    "            sentVoc_wo_stop_word = []\n",
    "            for v in sentVoc:\n",
    "                if(v.lower() not in STOP_WORDS):\n",
    "                    sentVoc_wo_stop_word.append(v)\n",
    "            \n",
    "            sentVoc = sentVoc_wo_stop_word\n",
    "       \n",
    "            new_word = \"\" \n",
    "            old_word = random.choice(sentVoc)\n",
    "          \n",
    "            flag = 0\n",
    "            while(flag == 0):\n",
    "                if(new_word not in sentVoc):\n",
    "                    new_sents.append(sentence.replace(old_word, new_word, 1))\n",
    "                    flag = 1\n",
    "                else:\n",
    "                    new_word = random.choice(vocab_)\n",
    "    \n",
    "        new_sents_lol.append(new_sents)\n",
    "    return new_sents_lol"
   ]
  },
  {
   "cell_type": "code",
   "execution_count": 13,
   "id": "7e21de49-1a62-4a1b-90eb-4a3baaffa520",
   "metadata": {},
   "outputs": [],
   "source": [
    "def generate_map3_sents(df, nTrials):\n",
    "    ## returns the list of perturbed translations based on duplication of a random content word\n",
    "    print(\"Generating sentences for MAP3\")\n",
    "    puncts = list(set(string.punctuation))\n",
    "    new_sents_lol = []\n",
    "    vocab_ = vocab_wo_stopw\n",
    "    for i in range(nTrials):\n",
    "        new_sents  = []\n",
    "        for sentence in df['translation']:\n",
    "            sentVoc = [str(i) for i in tokenizer(sentence)]\n",
    "            sentVoc_wo_punct = []\n",
    "\n",
    "            for v in sentVoc:\n",
    "                if(v not in puncts):\n",
    "                    sentVoc_wo_punct.append(v)\n",
    "            sentVoc = sentVoc_wo_punct\n",
    "\n",
    "            sentVoc_wo_stop_word = []\n",
    "            for v in sentVoc:\n",
    "                if(v.lower() not in STOP_WORDS):\n",
    "                    sentVoc_wo_stop_word.append(v)\n",
    "            sentVoc = sentVoc_wo_stop_word\n",
    "        \n",
    "            old_word = random.choice(sentVoc)\n",
    "            new_word = old_word + \" \" + old_word \n",
    "          \n",
    "            flag = 0\n",
    "            while (flag == 0):\n",
    "                if(new_word not in sentVoc):\n",
    "                    new_sents.append(sentence.replace(old_word, new_word, 1))\n",
    "                    flag = 1\n",
    "                else:\n",
    "                    new_word = random.choice(vocab_)\n",
    "    \n",
    "        new_sents_lol.append(new_sents)\n",
    "    return new_sents_lol"
   ]
  },
  {
   "cell_type": "code",
   "execution_count": 14,
   "id": "2a9d5000-5672-460a-b318-b213ea9853f2",
   "metadata": {},
   "outputs": [],
   "source": [
    "def generate_map4_sents(df, nTrials):\n",
    "    ## returns the list of perturbed translations based on insertion of random content word\n",
    "    print(\"Generating sentences for MAP4\")\n",
    "    puncts = list(set(string.punctuation))\n",
    "    new_sents_lol = []\n",
    "    vocab_ = vocab_wo_stopw\n",
    "    for i in range(nTrials):\n",
    "        new_sents  = []\n",
    "        for sentence in df['translation']:\n",
    "            sentVoc = [str(i) for i in tokenizer(sentence)]\n",
    "            sentVoc_wo_punct = []\n",
    "\n",
    "            for v in sentVoc:\n",
    "                if(v not in puncts):\n",
    "                    sentVoc_wo_punct.append(v)\n",
    "            sentVoc = sentVoc_wo_punct\n",
    "\n",
    "            sentVoc_wo_stop_word = []\n",
    "            for v in sentVoc:\n",
    "                if(v.lower() not in STOP_WORDS):\n",
    "                    sentVoc_wo_stop_word.append(v)\n",
    "            sentVoc = sentVoc_wo_stop_word\n",
    "        \n",
    "            new_word = random.choice(vocab_)\n",
    "            old_word = random.choice(sentVoc)\n",
    "            new_word = old_word + \" \" + new_word \n",
    "          \n",
    "            flag = 0\n",
    "            while (flag == 0):\n",
    "                if(new_word not in sentVoc):\n",
    "                    new_sents.append(sentence.replace(old_word, new_word, 1))\n",
    "                    flag = 1\n",
    "                else:\n",
    "                    new_word = random.choice(vocab_)\n",
    "    \n",
    "        new_sents_lol.append(new_sents)\n",
    "    return new_sents_lol"
   ]
  },
  {
   "cell_type": "code",
   "execution_count": 15,
   "id": "f57f9191-e4ff-4244-b57d-f81f90a93ec1",
   "metadata": {},
   "outputs": [],
   "source": [
    "def generate_map5_sents(df, nTrials):\n",
    "    ## returns the list of perturbed translations based on random replacements of words\n",
    "    print(\"Generating sentences for MAP5\")\n",
    "    puncts = list(set(string.punctuation))\n",
    "    new_sents_lol = []\n",
    "    vocab_ = vocab\n",
    "    for i in range(nTrials):\n",
    "        new_sents  = []\n",
    "        for sentence in df['translation']:\n",
    "            sentVoc = [str(i) for i in tokenizer(sentence)]\n",
    "            sentVoc_wo_punct = []\n",
    "\n",
    "            for v in sentVoc:\n",
    "                if(v not in puncts):\n",
    "                    sentVoc_wo_punct.append(v)\n",
    "            sentVoc = sentVoc_wo_punct\n",
    "\n",
    "            sentVoc_wo_stop_word = []\n",
    "            for v in sentVoc:\n",
    "                if(v.lower() not in STOP_WORDS):\n",
    "                    sentVoc_wo_stop_word.append(v)\n",
    "            sentVoc = sentVoc_wo_stop_word\n",
    "            \n",
    "            new_word = random.choice(vocab_)\n",
    "            old_word = random.choice(sentVoc)\n",
    "          \n",
    "            flag = 0\n",
    "            while (flag == 0):\n",
    "                if(new_word not in sentVoc):\n",
    "                    new_sents.append(sentence.replace(old_word, new_word, 1))\n",
    "                    flag = 1\n",
    "                else:\n",
    "                    new_word = random.choice(vocab_)\n",
    "    \n",
    "        new_sents_lol.append(new_sents)\n",
    "    return new_sents_lol"
   ]
  },
  {
   "cell_type": "code",
   "execution_count": 16,
   "id": "3b795d09-e493-481b-a4f8-60edb29c4c65",
   "metadata": {},
   "outputs": [],
   "source": [
    "## For NLP Augmentation Library ##\n",
    "# import nlpaug.augmenter.char as nac\n",
    "import nlpaug.augmenter.word as naw\n",
    "# import nlpaug.augmenter.sentence as nas\n",
    "import nlpaug.flow as nafc\n",
    "from nlpaug.util import Action\n",
    "## For NLP Augmentation Library ##"
   ]
  },
  {
   "cell_type": "code",
   "execution_count": 17,
   "id": "94dfc4c5-20f2-490c-934d-8a997f7c41ef",
   "metadata": {},
   "outputs": [],
   "source": [
    "## For NLP Augmentation Library ##\n",
    "\n",
    "## This takes time ##\n",
    "\n",
    "aug = naw.ContextualWordEmbsAug( model_path='bert-base-uncased', action=\"substitute\" )\n",
    "\n",
    "## For NLP Augmentation Library ##"
   ]
  },
  {
   "cell_type": "code",
   "execution_count": 18,
   "id": "bafcddde-8a67-499f-9424-4317ad9bef9b",
   "metadata": {},
   "outputs": [],
   "source": [
    "## This function uses the NLP Augmentation Library##\n",
    "\n",
    "def generate_map6_sents(df, nTrials):\n",
    "    ## returns the list of perturbed translations based on synonymy replacement using BERT, considered an MAP as BERT-based replacements\n",
    "    ## have been shown to replace important content words, which do change the meaning.\n",
    "    print(\"Generating sentences for MAP6 - This takes some time for all the 20 trials.\")\n",
    "    new_sents_lol = []\n",
    "    map6_orig_sents_lol = []\n",
    "    for i in range(nTrials):\n",
    "        new_sents  = []\n",
    "        map6_orig_sents = []\n",
    "\n",
    "        for original, sentence in zip(df['original'], df['translation']):    \n",
    "            origSent = sentence.split()\n",
    "            augmented_text = aug.augment(sentence)\n",
    "\n",
    "            if((' '.join(origSent)) != augmented_text):\n",
    "                tempL=[]\n",
    "                tempL.append(original)\n",
    "                tempL.append(augmented_text)\n",
    "                new_sents.append(tempL)\n",
    "                tempL=[]\n",
    "                tempL.append(original)\n",
    "                tempL.append(' '.join(origSent))\n",
    "                map6_orig_sents.append(tempL)\n",
    "         \n",
    "        new_sents_lol.append(new_sents)\n",
    "        map6_orig_sents_lol.append(map6_orig_sents)\n",
    "    \n",
    "    return new_sents_lol, map6_orig_sents_lol"
   ]
  },
  {
   "cell_type": "code",
   "execution_count": 19,
   "id": "359752bb-73ab-41b1-b20c-21e7a3ccc5d9",
   "metadata": {},
   "outputs": [],
   "source": [
    "augAntonym = naw.AntonymAug()\n",
    "\n",
    "def generate_map7_sents(df, nTrials, stopwords=True):\n",
    "    ## returns the list of perturbed translations where words are replace by their Antonyms\n",
    "    print(\"Generating sentences for MAP7\")\n",
    "    new_sents_lol = [] \n",
    "    map7_orig_sents_lol = []\n",
    "    for i in range(nTrials):\n",
    "        new_sents  = []\n",
    "        map7_orig_sents = []\n",
    "\n",
    "        for original, sentence in zip(df['original'], df['translation']):     \n",
    "            origSent = sentence.split()\n",
    "            augmented_text = augAntonym.augment(sentence)\n",
    "            \n",
    "            if((' '.join(origSent)) != augmented_text):  \n",
    "                tempL=[]\n",
    "                tempL.append(original)\n",
    "                tempL.append(augmented_text)\n",
    "                new_sents.append(tempL)\n",
    "                tempL=[]\n",
    "                tempL.append(original)\n",
    "                tempL.append(' '.join(origSent))\n",
    "                map7_orig_sents.append(tempL)\n",
    "        new_sents_lol.append(new_sents)\n",
    "        map7_orig_sents_lol.append(map7_orig_sents)\n",
    "\n",
    "    return new_sents_lol, map7_orig_sents_lol"
   ]
  },
  {
   "cell_type": "code",
   "execution_count": 20,
   "id": "71b54164-51fb-4d1e-b1ce-5bc4ab508a44",
   "metadata": {},
   "outputs": [],
   "source": [
    "def generate_map8_sents(df, nTrials):\n",
    "    # returns a list of perturbed translations where it copyies source sentence instead of target\n",
    "    print(\"Generating sentences for MAP8\")\n",
    "    new_sents_lol = [] \n",
    "    for i in range(nTrials):\n",
    "        new_sents  = []\n",
    "        for sentence in df['original']:      \n",
    "            new_sents.append(sentence)\n",
    "        new_sents_lol.append(new_sents)\n",
    "\n",
    "    return new_sents_lol"
   ]
  },
  {
   "cell_type": "code",
   "execution_count": 21,
   "id": "0d97144d-d8fc-420d-b885-20d0af9a2d7e",
   "metadata": {},
   "outputs": [
    {
     "name": "stdout",
     "output_type": "stream",
     "text": [
      "Generating sentences for MAP1\n",
      "Generating sentences for MAP2\n",
      "Generating sentences for MAP3\n",
      "Generating sentences for MAP4\n",
      "Generating sentences for MAP5\n",
      "Generating sentences for MAP6 - This takes some time for all the 20 trials.\n"
     ]
    },
    {
     "ename": "KeyboardInterrupt",
     "evalue": "",
     "output_type": "error",
     "traceback": [
      "\u001b[0;31m---------------------------------------------------------------------------\u001b[0m",
      "\u001b[0;31mKeyboardInterrupt\u001b[0m                         Traceback (most recent call last)",
      "\u001b[0;32m/tmp/ipykernel_3338339/3749460724.py\u001b[0m in \u001b[0;36m<module>\u001b[0;34m\u001b[0m\n\u001b[1;32m      7\u001b[0m \u001b[0;31m## For MAP6, each trial takes ~1 minute over 16 core machine. This library uses CPU cores, and you are passing 20 trials, so this takes time.\u001b[0m\u001b[0;34m\u001b[0m\u001b[0;34m\u001b[0m\u001b[0;34m\u001b[0m\u001b[0m\n\u001b[1;32m      8\u001b[0m \u001b[0;34m\u001b[0m\u001b[0m\n\u001b[0;32m----> 9\u001b[0;31m \u001b[0mnew_sents_lol_map6\u001b[0m\u001b[0;34m,\u001b[0m \u001b[0mmap6_orig_sents\u001b[0m \u001b[0;34m=\u001b[0m \u001b[0mgenerate_map6_sents\u001b[0m\u001b[0;34m(\u001b[0m\u001b[0mdf_trans_thres\u001b[0m\u001b[0;34m,\u001b[0m \u001b[0;36m20\u001b[0m\u001b[0;34m)\u001b[0m \u001b[0;31m## Perturbations for replacing target by source\u001b[0m\u001b[0;34m\u001b[0m\u001b[0;34m\u001b[0m\u001b[0m\n\u001b[0m\u001b[1;32m     10\u001b[0m \u001b[0;34m\u001b[0m\u001b[0m\n\u001b[1;32m     11\u001b[0m \u001b[0;31m## For MAP6, each trial takes ~1 minute over 16 core machine. This library uses CPU cores, and you are passing 20 trials, so this takes time.\u001b[0m\u001b[0;34m\u001b[0m\u001b[0;34m\u001b[0m\u001b[0;34m\u001b[0m\u001b[0m\n",
      "\u001b[0;32m/tmp/ipykernel_3338339/148492298.py\u001b[0m in \u001b[0;36mgenerate_map6_sents\u001b[0;34m(df, nTrials)\u001b[0m\n\u001b[1;32m     13\u001b[0m         \u001b[0;32mfor\u001b[0m \u001b[0moriginal\u001b[0m\u001b[0;34m,\u001b[0m \u001b[0msentence\u001b[0m \u001b[0;32min\u001b[0m \u001b[0mzip\u001b[0m\u001b[0;34m(\u001b[0m\u001b[0mdf\u001b[0m\u001b[0;34m[\u001b[0m\u001b[0;34m'original'\u001b[0m\u001b[0;34m]\u001b[0m\u001b[0;34m,\u001b[0m \u001b[0mdf\u001b[0m\u001b[0;34m[\u001b[0m\u001b[0;34m'translation'\u001b[0m\u001b[0;34m]\u001b[0m\u001b[0;34m)\u001b[0m\u001b[0;34m:\u001b[0m\u001b[0;34m\u001b[0m\u001b[0;34m\u001b[0m\u001b[0m\n\u001b[1;32m     14\u001b[0m             \u001b[0morigSent\u001b[0m \u001b[0;34m=\u001b[0m \u001b[0msentence\u001b[0m\u001b[0;34m.\u001b[0m\u001b[0msplit\u001b[0m\u001b[0;34m(\u001b[0m\u001b[0;34m)\u001b[0m\u001b[0;34m\u001b[0m\u001b[0;34m\u001b[0m\u001b[0m\n\u001b[0;32m---> 15\u001b[0;31m             \u001b[0maugmented_text\u001b[0m \u001b[0;34m=\u001b[0m \u001b[0maug\u001b[0m\u001b[0;34m.\u001b[0m\u001b[0maugment\u001b[0m\u001b[0;34m(\u001b[0m\u001b[0msentence\u001b[0m\u001b[0;34m)\u001b[0m\u001b[0;34m\u001b[0m\u001b[0;34m\u001b[0m\u001b[0m\n\u001b[0m\u001b[1;32m     16\u001b[0m \u001b[0;34m\u001b[0m\u001b[0m\n\u001b[1;32m     17\u001b[0m             \u001b[0;32mif\u001b[0m\u001b[0;34m(\u001b[0m\u001b[0;34m(\u001b[0m\u001b[0;34m' '\u001b[0m\u001b[0;34m.\u001b[0m\u001b[0mjoin\u001b[0m\u001b[0;34m(\u001b[0m\u001b[0morigSent\u001b[0m\u001b[0;34m)\u001b[0m\u001b[0;34m)\u001b[0m \u001b[0;34m!=\u001b[0m \u001b[0maugmented_text\u001b[0m\u001b[0;34m)\u001b[0m\u001b[0;34m:\u001b[0m\u001b[0;34m\u001b[0m\u001b[0;34m\u001b[0m\u001b[0m\n",
      "\u001b[0;32m~/anaconda3/envs/newtemp/lib/python3.8/site-packages/nlpaug/base_augmenter.py\u001b[0m in \u001b[0;36maugment\u001b[0;34m(self, data, n, num_thread)\u001b[0m\n\u001b[1;32m     93\u001b[0m             \u001b[0;32melif\u001b[0m \u001b[0mself\u001b[0m\u001b[0;34m.\u001b[0m\u001b[0m__class__\u001b[0m\u001b[0;34m.\u001b[0m\u001b[0m__name__\u001b[0m \u001b[0;32min\u001b[0m \u001b[0;34m[\u001b[0m\u001b[0;34m'AbstSummAug'\u001b[0m\u001b[0;34m,\u001b[0m \u001b[0;34m'BackTranslationAug'\u001b[0m\u001b[0;34m,\u001b[0m \u001b[0;34m'ContextualWordEmbsAug'\u001b[0m\u001b[0;34m,\u001b[0m \u001b[0;34m'ContextualWordEmbsForSentenceAug'\u001b[0m\u001b[0;34m]\u001b[0m\u001b[0;34m:\u001b[0m\u001b[0;34m\u001b[0m\u001b[0;34m\u001b[0m\u001b[0m\n\u001b[1;32m     94\u001b[0m                 \u001b[0;32mfor\u001b[0m \u001b[0m_\u001b[0m \u001b[0;32min\u001b[0m \u001b[0mrange\u001b[0m\u001b[0;34m(\u001b[0m\u001b[0maug_num\u001b[0m\u001b[0;34m)\u001b[0m\u001b[0;34m:\u001b[0m\u001b[0;34m\u001b[0m\u001b[0;34m\u001b[0m\u001b[0m\n\u001b[0;32m---> 95\u001b[0;31m                     \u001b[0mresult\u001b[0m \u001b[0;34m=\u001b[0m \u001b[0maction_fx\u001b[0m\u001b[0;34m(\u001b[0m\u001b[0mclean_data\u001b[0m\u001b[0;34m)\u001b[0m\u001b[0;34m\u001b[0m\u001b[0;34m\u001b[0m\u001b[0m\n\u001b[0m\u001b[1;32m     96\u001b[0m                     \u001b[0;32mif\u001b[0m \u001b[0misinstance\u001b[0m\u001b[0;34m(\u001b[0m\u001b[0mresult\u001b[0m\u001b[0;34m,\u001b[0m \u001b[0mlist\u001b[0m\u001b[0;34m)\u001b[0m\u001b[0;34m:\u001b[0m\u001b[0;34m\u001b[0m\u001b[0;34m\u001b[0m\u001b[0m\n\u001b[1;32m     97\u001b[0m                         \u001b[0maugmented_results\u001b[0m\u001b[0;34m.\u001b[0m\u001b[0mextend\u001b[0m\u001b[0;34m(\u001b[0m\u001b[0mresult\u001b[0m\u001b[0;34m)\u001b[0m\u001b[0;34m\u001b[0m\u001b[0;34m\u001b[0m\u001b[0m\n",
      "\u001b[0;32m~/anaconda3/envs/newtemp/lib/python3.8/site-packages/nlpaug/augmenter/word/context_word_embs.py\u001b[0m in \u001b[0;36msubstitute\u001b[0;34m(self, data)\u001b[0m\n\u001b[1;32m    406\u001b[0m                 \u001b[0;32mcontinue\u001b[0m\u001b[0;34m\u001b[0m\u001b[0;34m\u001b[0m\u001b[0m\n\u001b[1;32m    407\u001b[0m \u001b[0;34m\u001b[0m\u001b[0m\n\u001b[0;32m--> 408\u001b[0;31m             \u001b[0moutputs\u001b[0m \u001b[0;34m=\u001b[0m \u001b[0mself\u001b[0m\u001b[0;34m.\u001b[0m\u001b[0mmodel\u001b[0m\u001b[0;34m.\u001b[0m\u001b[0mpredict\u001b[0m\u001b[0;34m(\u001b[0m\u001b[0mmasked_texts\u001b[0m\u001b[0;34m,\u001b[0m \u001b[0mtarget_words\u001b[0m\u001b[0;34m=\u001b[0m\u001b[0moriginal_tokens\u001b[0m\u001b[0;34m,\u001b[0m \u001b[0mn\u001b[0m\u001b[0;34m=\u001b[0m\u001b[0;36m2\u001b[0m\u001b[0;34m)\u001b[0m\u001b[0;34m\u001b[0m\u001b[0;34m\u001b[0m\u001b[0m\n\u001b[0m\u001b[1;32m    409\u001b[0m \u001b[0;34m\u001b[0m\u001b[0m\n\u001b[1;32m    410\u001b[0m             \u001b[0;31m# Update doc\u001b[0m\u001b[0;34m\u001b[0m\u001b[0;34m\u001b[0m\u001b[0;34m\u001b[0m\u001b[0m\n",
      "\u001b[0;32m~/anaconda3/envs/newtemp/lib/python3.8/site-packages/nlpaug/model/lang_models/fill_mask_transformers.py\u001b[0m in \u001b[0;36mpredict\u001b[0;34m(self, texts, target_words, n)\u001b[0m\n\u001b[1;32m     72\u001b[0m         \u001b[0;32mwith\u001b[0m \u001b[0mtorch\u001b[0m\u001b[0;34m.\u001b[0m\u001b[0mno_grad\u001b[0m\u001b[0;34m(\u001b[0m\u001b[0;34m)\u001b[0m\u001b[0;34m:\u001b[0m\u001b[0;34m\u001b[0m\u001b[0;34m\u001b[0m\u001b[0m\n\u001b[1;32m     73\u001b[0m             \u001b[0;32mfor\u001b[0m \u001b[0mi\u001b[0m \u001b[0;32min\u001b[0m \u001b[0mrange\u001b[0m\u001b[0;34m(\u001b[0m\u001b[0;36m0\u001b[0m\u001b[0;34m,\u001b[0m \u001b[0mlen\u001b[0m\u001b[0;34m(\u001b[0m\u001b[0mtexts\u001b[0m\u001b[0;34m)\u001b[0m\u001b[0;34m,\u001b[0m \u001b[0mself\u001b[0m\u001b[0;34m.\u001b[0m\u001b[0mbatch_size\u001b[0m\u001b[0;34m)\u001b[0m\u001b[0;34m:\u001b[0m\u001b[0;34m\u001b[0m\u001b[0;34m\u001b[0m\u001b[0m\n\u001b[0;32m---> 74\u001b[0;31m                 \u001b[0mpredict_result\u001b[0m \u001b[0;34m=\u001b[0m \u001b[0mself\u001b[0m\u001b[0;34m.\u001b[0m\u001b[0mmodel\u001b[0m\u001b[0;34m(\u001b[0m\u001b[0mtexts\u001b[0m\u001b[0;34m[\u001b[0m\u001b[0mi\u001b[0m\u001b[0;34m:\u001b[0m\u001b[0mi\u001b[0m\u001b[0;34m+\u001b[0m\u001b[0mself\u001b[0m\u001b[0;34m.\u001b[0m\u001b[0mbatch_size\u001b[0m\u001b[0;34m]\u001b[0m\u001b[0;34m)\u001b[0m\u001b[0;34m\u001b[0m\u001b[0;34m\u001b[0m\u001b[0m\n\u001b[0m\u001b[1;32m     75\u001b[0m                 \u001b[0;32mif\u001b[0m \u001b[0misinstance\u001b[0m\u001b[0;34m(\u001b[0m\u001b[0mpredict_result\u001b[0m\u001b[0;34m,\u001b[0m \u001b[0mlist\u001b[0m\u001b[0;34m)\u001b[0m \u001b[0;32mand\u001b[0m \u001b[0mlen\u001b[0m\u001b[0;34m(\u001b[0m\u001b[0mpredict_result\u001b[0m\u001b[0;34m)\u001b[0m \u001b[0;34m>\u001b[0m \u001b[0;36m0\u001b[0m\u001b[0;34m:\u001b[0m\u001b[0;34m\u001b[0m\u001b[0;34m\u001b[0m\u001b[0m\n\u001b[1;32m     76\u001b[0m                     \u001b[0;32mif\u001b[0m \u001b[0misinstance\u001b[0m\u001b[0;34m(\u001b[0m\u001b[0mpredict_result\u001b[0m\u001b[0;34m[\u001b[0m\u001b[0;36m0\u001b[0m\u001b[0;34m]\u001b[0m\u001b[0;34m,\u001b[0m \u001b[0mlist\u001b[0m\u001b[0;34m)\u001b[0m\u001b[0;34m:\u001b[0m\u001b[0;34m\u001b[0m\u001b[0;34m\u001b[0m\u001b[0m\n",
      "\u001b[0;32m~/anaconda3/envs/newtemp/lib/python3.8/site-packages/transformers/pipelines/fill_mask.py\u001b[0m in \u001b[0;36m__call__\u001b[0;34m(self, inputs, targets, top_k, *args, **kwargs)\u001b[0m\n\u001b[1;32m    167\u001b[0m             \u001b[0mbatch_size\u001b[0m \u001b[0;34m=\u001b[0m \u001b[0mlen\u001b[0m\u001b[0;34m(\u001b[0m\u001b[0mmodel_inputs\u001b[0m\u001b[0;34m)\u001b[0m\u001b[0;34m\u001b[0m\u001b[0;34m\u001b[0m\u001b[0m\n\u001b[1;32m    168\u001b[0m         \u001b[0;32melse\u001b[0m\u001b[0;34m:\u001b[0m\u001b[0;34m\u001b[0m\u001b[0;34m\u001b[0m\u001b[0m\n\u001b[0;32m--> 169\u001b[0;31m             \u001b[0moutputs\u001b[0m \u001b[0;34m=\u001b[0m \u001b[0mself\u001b[0m\u001b[0;34m.\u001b[0m\u001b[0m_forward\u001b[0m\u001b[0;34m(\u001b[0m\u001b[0mmodel_inputs\u001b[0m\u001b[0;34m,\u001b[0m \u001b[0mreturn_tensors\u001b[0m\u001b[0;34m=\u001b[0m\u001b[0;32mTrue\u001b[0m\u001b[0;34m)\u001b[0m\u001b[0;34m\u001b[0m\u001b[0;34m\u001b[0m\u001b[0m\n\u001b[0m\u001b[1;32m    170\u001b[0m             \u001b[0mbatch_size\u001b[0m \u001b[0;34m=\u001b[0m \u001b[0moutputs\u001b[0m\u001b[0;34m.\u001b[0m\u001b[0mshape\u001b[0m\u001b[0;34m[\u001b[0m\u001b[0;36m0\u001b[0m\u001b[0;34m]\u001b[0m \u001b[0;32mif\u001b[0m \u001b[0mself\u001b[0m\u001b[0;34m.\u001b[0m\u001b[0mframework\u001b[0m \u001b[0;34m==\u001b[0m \u001b[0;34m\"tf\"\u001b[0m \u001b[0;32melse\u001b[0m \u001b[0moutputs\u001b[0m\u001b[0;34m.\u001b[0m\u001b[0msize\u001b[0m\u001b[0;34m(\u001b[0m\u001b[0;36m0\u001b[0m\u001b[0;34m)\u001b[0m\u001b[0;34m\u001b[0m\u001b[0;34m\u001b[0m\u001b[0m\n\u001b[1;32m    171\u001b[0m \u001b[0;34m\u001b[0m\u001b[0m\n",
      "\u001b[0;32m~/anaconda3/envs/newtemp/lib/python3.8/site-packages/transformers/pipelines/base.py\u001b[0m in \u001b[0;36m_forward\u001b[0;34m(self, inputs, return_tensors)\u001b[0m\n\u001b[1;32m    796\u001b[0m                 \u001b[0;32mwith\u001b[0m \u001b[0mtorch\u001b[0m\u001b[0;34m.\u001b[0m\u001b[0mno_grad\u001b[0m\u001b[0;34m(\u001b[0m\u001b[0;34m)\u001b[0m\u001b[0;34m:\u001b[0m\u001b[0;34m\u001b[0m\u001b[0;34m\u001b[0m\u001b[0m\n\u001b[1;32m    797\u001b[0m                     \u001b[0minputs\u001b[0m \u001b[0;34m=\u001b[0m \u001b[0mself\u001b[0m\u001b[0;34m.\u001b[0m\u001b[0mensure_tensor_on_device\u001b[0m\u001b[0;34m(\u001b[0m\u001b[0;34m**\u001b[0m\u001b[0minputs\u001b[0m\u001b[0;34m)\u001b[0m\u001b[0;34m\u001b[0m\u001b[0;34m\u001b[0m\u001b[0m\n\u001b[0;32m--> 798\u001b[0;31m                     \u001b[0mpredictions\u001b[0m \u001b[0;34m=\u001b[0m \u001b[0mself\u001b[0m\u001b[0;34m.\u001b[0m\u001b[0mmodel\u001b[0m\u001b[0;34m(\u001b[0m\u001b[0;34m**\u001b[0m\u001b[0minputs\u001b[0m\u001b[0;34m)\u001b[0m\u001b[0;34m[\u001b[0m\u001b[0;36m0\u001b[0m\u001b[0;34m]\u001b[0m\u001b[0;34m.\u001b[0m\u001b[0mcpu\u001b[0m\u001b[0;34m(\u001b[0m\u001b[0;34m)\u001b[0m\u001b[0;34m\u001b[0m\u001b[0;34m\u001b[0m\u001b[0m\n\u001b[0m\u001b[1;32m    799\u001b[0m \u001b[0;34m\u001b[0m\u001b[0m\n\u001b[1;32m    800\u001b[0m         \u001b[0;32mif\u001b[0m \u001b[0mreturn_tensors\u001b[0m\u001b[0;34m:\u001b[0m\u001b[0;34m\u001b[0m\u001b[0;34m\u001b[0m\u001b[0m\n",
      "\u001b[0;32m~/anaconda3/envs/newtemp/lib/python3.8/site-packages/torch/nn/modules/module.py\u001b[0m in \u001b[0;36m_call_impl\u001b[0;34m(self, *input, **kwargs)\u001b[0m\n\u001b[1;32m   1049\u001b[0m         if not (self._backward_hooks or self._forward_hooks or self._forward_pre_hooks or _global_backward_hooks\n\u001b[1;32m   1050\u001b[0m                 or _global_forward_hooks or _global_forward_pre_hooks):\n\u001b[0;32m-> 1051\u001b[0;31m             \u001b[0;32mreturn\u001b[0m \u001b[0mforward_call\u001b[0m\u001b[0;34m(\u001b[0m\u001b[0;34m*\u001b[0m\u001b[0minput\u001b[0m\u001b[0;34m,\u001b[0m \u001b[0;34m**\u001b[0m\u001b[0mkwargs\u001b[0m\u001b[0;34m)\u001b[0m\u001b[0;34m\u001b[0m\u001b[0;34m\u001b[0m\u001b[0m\n\u001b[0m\u001b[1;32m   1052\u001b[0m         \u001b[0;31m# Do not call functions when jit is used\u001b[0m\u001b[0;34m\u001b[0m\u001b[0;34m\u001b[0m\u001b[0;34m\u001b[0m\u001b[0m\n\u001b[1;32m   1053\u001b[0m         \u001b[0mfull_backward_hooks\u001b[0m\u001b[0;34m,\u001b[0m \u001b[0mnon_full_backward_hooks\u001b[0m \u001b[0;34m=\u001b[0m \u001b[0;34m[\u001b[0m\u001b[0;34m]\u001b[0m\u001b[0;34m,\u001b[0m \u001b[0;34m[\u001b[0m\u001b[0;34m]\u001b[0m\u001b[0;34m\u001b[0m\u001b[0;34m\u001b[0m\u001b[0m\n",
      "\u001b[0;32m~/anaconda3/envs/newtemp/lib/python3.8/site-packages/transformers/models/bert/modeling_bert.py\u001b[0m in \u001b[0;36mforward\u001b[0;34m(self, input_ids, attention_mask, token_type_ids, position_ids, head_mask, inputs_embeds, encoder_hidden_states, encoder_attention_mask, labels, output_attentions, output_hidden_states, return_dict)\u001b[0m\n\u001b[1;32m   1326\u001b[0m         \u001b[0mreturn_dict\u001b[0m \u001b[0;34m=\u001b[0m \u001b[0mreturn_dict\u001b[0m \u001b[0;32mif\u001b[0m \u001b[0mreturn_dict\u001b[0m \u001b[0;32mis\u001b[0m \u001b[0;32mnot\u001b[0m \u001b[0;32mNone\u001b[0m \u001b[0;32melse\u001b[0m \u001b[0mself\u001b[0m\u001b[0;34m.\u001b[0m\u001b[0mconfig\u001b[0m\u001b[0;34m.\u001b[0m\u001b[0muse_return_dict\u001b[0m\u001b[0;34m\u001b[0m\u001b[0;34m\u001b[0m\u001b[0m\n\u001b[1;32m   1327\u001b[0m \u001b[0;34m\u001b[0m\u001b[0m\n\u001b[0;32m-> 1328\u001b[0;31m         outputs = self.bert(\n\u001b[0m\u001b[1;32m   1329\u001b[0m             \u001b[0minput_ids\u001b[0m\u001b[0;34m,\u001b[0m\u001b[0;34m\u001b[0m\u001b[0;34m\u001b[0m\u001b[0m\n\u001b[1;32m   1330\u001b[0m             \u001b[0mattention_mask\u001b[0m\u001b[0;34m=\u001b[0m\u001b[0mattention_mask\u001b[0m\u001b[0;34m,\u001b[0m\u001b[0;34m\u001b[0m\u001b[0;34m\u001b[0m\u001b[0m\n",
      "\u001b[0;32m~/anaconda3/envs/newtemp/lib/python3.8/site-packages/torch/nn/modules/module.py\u001b[0m in \u001b[0;36m_call_impl\u001b[0;34m(self, *input, **kwargs)\u001b[0m\n\u001b[1;32m   1049\u001b[0m         if not (self._backward_hooks or self._forward_hooks or self._forward_pre_hooks or _global_backward_hooks\n\u001b[1;32m   1050\u001b[0m                 or _global_forward_hooks or _global_forward_pre_hooks):\n\u001b[0;32m-> 1051\u001b[0;31m             \u001b[0;32mreturn\u001b[0m \u001b[0mforward_call\u001b[0m\u001b[0;34m(\u001b[0m\u001b[0;34m*\u001b[0m\u001b[0minput\u001b[0m\u001b[0;34m,\u001b[0m \u001b[0;34m**\u001b[0m\u001b[0mkwargs\u001b[0m\u001b[0;34m)\u001b[0m\u001b[0;34m\u001b[0m\u001b[0;34m\u001b[0m\u001b[0m\n\u001b[0m\u001b[1;32m   1052\u001b[0m         \u001b[0;31m# Do not call functions when jit is used\u001b[0m\u001b[0;34m\u001b[0m\u001b[0;34m\u001b[0m\u001b[0;34m\u001b[0m\u001b[0m\n\u001b[1;32m   1053\u001b[0m         \u001b[0mfull_backward_hooks\u001b[0m\u001b[0;34m,\u001b[0m \u001b[0mnon_full_backward_hooks\u001b[0m \u001b[0;34m=\u001b[0m \u001b[0;34m[\u001b[0m\u001b[0;34m]\u001b[0m\u001b[0;34m,\u001b[0m \u001b[0;34m[\u001b[0m\u001b[0;34m]\u001b[0m\u001b[0;34m\u001b[0m\u001b[0;34m\u001b[0m\u001b[0m\n",
      "\u001b[0;32m~/anaconda3/envs/newtemp/lib/python3.8/site-packages/transformers/models/bert/modeling_bert.py\u001b[0m in \u001b[0;36mforward\u001b[0;34m(self, input_ids, attention_mask, token_type_ids, position_ids, head_mask, inputs_embeds, encoder_hidden_states, encoder_attention_mask, past_key_values, use_cache, output_attentions, output_hidden_states, return_dict)\u001b[0m\n\u001b[1;32m    988\u001b[0m             \u001b[0mpast_key_values_length\u001b[0m\u001b[0;34m=\u001b[0m\u001b[0mpast_key_values_length\u001b[0m\u001b[0;34m,\u001b[0m\u001b[0;34m\u001b[0m\u001b[0;34m\u001b[0m\u001b[0m\n\u001b[1;32m    989\u001b[0m         )\n\u001b[0;32m--> 990\u001b[0;31m         encoder_outputs = self.encoder(\n\u001b[0m\u001b[1;32m    991\u001b[0m             \u001b[0membedding_output\u001b[0m\u001b[0;34m,\u001b[0m\u001b[0;34m\u001b[0m\u001b[0;34m\u001b[0m\u001b[0m\n\u001b[1;32m    992\u001b[0m             \u001b[0mattention_mask\u001b[0m\u001b[0;34m=\u001b[0m\u001b[0mextended_attention_mask\u001b[0m\u001b[0;34m,\u001b[0m\u001b[0;34m\u001b[0m\u001b[0;34m\u001b[0m\u001b[0m\n",
      "\u001b[0;32m~/anaconda3/envs/newtemp/lib/python3.8/site-packages/torch/nn/modules/module.py\u001b[0m in \u001b[0;36m_call_impl\u001b[0;34m(self, *input, **kwargs)\u001b[0m\n\u001b[1;32m   1049\u001b[0m         if not (self._backward_hooks or self._forward_hooks or self._forward_pre_hooks or _global_backward_hooks\n\u001b[1;32m   1050\u001b[0m                 or _global_forward_hooks or _global_forward_pre_hooks):\n\u001b[0;32m-> 1051\u001b[0;31m             \u001b[0;32mreturn\u001b[0m \u001b[0mforward_call\u001b[0m\u001b[0;34m(\u001b[0m\u001b[0;34m*\u001b[0m\u001b[0minput\u001b[0m\u001b[0;34m,\u001b[0m \u001b[0;34m**\u001b[0m\u001b[0mkwargs\u001b[0m\u001b[0;34m)\u001b[0m\u001b[0;34m\u001b[0m\u001b[0;34m\u001b[0m\u001b[0m\n\u001b[0m\u001b[1;32m   1052\u001b[0m         \u001b[0;31m# Do not call functions when jit is used\u001b[0m\u001b[0;34m\u001b[0m\u001b[0;34m\u001b[0m\u001b[0;34m\u001b[0m\u001b[0m\n\u001b[1;32m   1053\u001b[0m         \u001b[0mfull_backward_hooks\u001b[0m\u001b[0;34m,\u001b[0m \u001b[0mnon_full_backward_hooks\u001b[0m \u001b[0;34m=\u001b[0m \u001b[0;34m[\u001b[0m\u001b[0;34m]\u001b[0m\u001b[0;34m,\u001b[0m \u001b[0;34m[\u001b[0m\u001b[0;34m]\u001b[0m\u001b[0;34m\u001b[0m\u001b[0;34m\u001b[0m\u001b[0m\n",
      "\u001b[0;32m~/anaconda3/envs/newtemp/lib/python3.8/site-packages/transformers/models/bert/modeling_bert.py\u001b[0m in \u001b[0;36mforward\u001b[0;34m(self, hidden_states, attention_mask, head_mask, encoder_hidden_states, encoder_attention_mask, past_key_values, use_cache, output_attentions, output_hidden_states, return_dict)\u001b[0m\n\u001b[1;32m    580\u001b[0m                 )\n\u001b[1;32m    581\u001b[0m             \u001b[0;32melse\u001b[0m\u001b[0;34m:\u001b[0m\u001b[0;34m\u001b[0m\u001b[0;34m\u001b[0m\u001b[0m\n\u001b[0;32m--> 582\u001b[0;31m                 layer_outputs = layer_module(\n\u001b[0m\u001b[1;32m    583\u001b[0m                     \u001b[0mhidden_states\u001b[0m\u001b[0;34m,\u001b[0m\u001b[0;34m\u001b[0m\u001b[0;34m\u001b[0m\u001b[0m\n\u001b[1;32m    584\u001b[0m                     \u001b[0mattention_mask\u001b[0m\u001b[0;34m,\u001b[0m\u001b[0;34m\u001b[0m\u001b[0;34m\u001b[0m\u001b[0m\n",
      "\u001b[0;32m~/anaconda3/envs/newtemp/lib/python3.8/site-packages/torch/nn/modules/module.py\u001b[0m in \u001b[0;36m_call_impl\u001b[0;34m(self, *input, **kwargs)\u001b[0m\n\u001b[1;32m   1049\u001b[0m         if not (self._backward_hooks or self._forward_hooks or self._forward_pre_hooks or _global_backward_hooks\n\u001b[1;32m   1050\u001b[0m                 or _global_forward_hooks or _global_forward_pre_hooks):\n\u001b[0;32m-> 1051\u001b[0;31m             \u001b[0;32mreturn\u001b[0m \u001b[0mforward_call\u001b[0m\u001b[0;34m(\u001b[0m\u001b[0;34m*\u001b[0m\u001b[0minput\u001b[0m\u001b[0;34m,\u001b[0m \u001b[0;34m**\u001b[0m\u001b[0mkwargs\u001b[0m\u001b[0;34m)\u001b[0m\u001b[0;34m\u001b[0m\u001b[0;34m\u001b[0m\u001b[0m\n\u001b[0m\u001b[1;32m   1052\u001b[0m         \u001b[0;31m# Do not call functions when jit is used\u001b[0m\u001b[0;34m\u001b[0m\u001b[0;34m\u001b[0m\u001b[0;34m\u001b[0m\u001b[0m\n\u001b[1;32m   1053\u001b[0m         \u001b[0mfull_backward_hooks\u001b[0m\u001b[0;34m,\u001b[0m \u001b[0mnon_full_backward_hooks\u001b[0m \u001b[0;34m=\u001b[0m \u001b[0;34m[\u001b[0m\u001b[0;34m]\u001b[0m\u001b[0;34m,\u001b[0m \u001b[0;34m[\u001b[0m\u001b[0;34m]\u001b[0m\u001b[0;34m\u001b[0m\u001b[0;34m\u001b[0m\u001b[0m\n",
      "\u001b[0;32m~/anaconda3/envs/newtemp/lib/python3.8/site-packages/transformers/models/bert/modeling_bert.py\u001b[0m in \u001b[0;36mforward\u001b[0;34m(self, hidden_states, attention_mask, head_mask, encoder_hidden_states, encoder_attention_mask, past_key_value, output_attentions)\u001b[0m\n\u001b[1;32m    468\u001b[0m         \u001b[0;31m# decoder uni-directional self-attention cached key/values tuple is at positions 1,2\u001b[0m\u001b[0;34m\u001b[0m\u001b[0;34m\u001b[0m\u001b[0;34m\u001b[0m\u001b[0m\n\u001b[1;32m    469\u001b[0m         \u001b[0mself_attn_past_key_value\u001b[0m \u001b[0;34m=\u001b[0m \u001b[0mpast_key_value\u001b[0m\u001b[0;34m[\u001b[0m\u001b[0;34m:\u001b[0m\u001b[0;36m2\u001b[0m\u001b[0;34m]\u001b[0m \u001b[0;32mif\u001b[0m \u001b[0mpast_key_value\u001b[0m \u001b[0;32mis\u001b[0m \u001b[0;32mnot\u001b[0m \u001b[0;32mNone\u001b[0m \u001b[0;32melse\u001b[0m \u001b[0;32mNone\u001b[0m\u001b[0;34m\u001b[0m\u001b[0;34m\u001b[0m\u001b[0m\n\u001b[0;32m--> 470\u001b[0;31m         self_attention_outputs = self.attention(\n\u001b[0m\u001b[1;32m    471\u001b[0m             \u001b[0mhidden_states\u001b[0m\u001b[0;34m,\u001b[0m\u001b[0;34m\u001b[0m\u001b[0;34m\u001b[0m\u001b[0m\n\u001b[1;32m    472\u001b[0m             \u001b[0mattention_mask\u001b[0m\u001b[0;34m,\u001b[0m\u001b[0;34m\u001b[0m\u001b[0;34m\u001b[0m\u001b[0m\n",
      "\u001b[0;32m~/anaconda3/envs/newtemp/lib/python3.8/site-packages/torch/nn/modules/module.py\u001b[0m in \u001b[0;36m_call_impl\u001b[0;34m(self, *input, **kwargs)\u001b[0m\n\u001b[1;32m   1049\u001b[0m         if not (self._backward_hooks or self._forward_hooks or self._forward_pre_hooks or _global_backward_hooks\n\u001b[1;32m   1050\u001b[0m                 or _global_forward_hooks or _global_forward_pre_hooks):\n\u001b[0;32m-> 1051\u001b[0;31m             \u001b[0;32mreturn\u001b[0m \u001b[0mforward_call\u001b[0m\u001b[0;34m(\u001b[0m\u001b[0;34m*\u001b[0m\u001b[0minput\u001b[0m\u001b[0;34m,\u001b[0m \u001b[0;34m**\u001b[0m\u001b[0mkwargs\u001b[0m\u001b[0;34m)\u001b[0m\u001b[0;34m\u001b[0m\u001b[0;34m\u001b[0m\u001b[0m\n\u001b[0m\u001b[1;32m   1052\u001b[0m         \u001b[0;31m# Do not call functions when jit is used\u001b[0m\u001b[0;34m\u001b[0m\u001b[0;34m\u001b[0m\u001b[0;34m\u001b[0m\u001b[0m\n\u001b[1;32m   1053\u001b[0m         \u001b[0mfull_backward_hooks\u001b[0m\u001b[0;34m,\u001b[0m \u001b[0mnon_full_backward_hooks\u001b[0m \u001b[0;34m=\u001b[0m \u001b[0;34m[\u001b[0m\u001b[0;34m]\u001b[0m\u001b[0;34m,\u001b[0m \u001b[0;34m[\u001b[0m\u001b[0;34m]\u001b[0m\u001b[0;34m\u001b[0m\u001b[0;34m\u001b[0m\u001b[0m\n",
      "\u001b[0;32m~/anaconda3/envs/newtemp/lib/python3.8/site-packages/transformers/models/bert/modeling_bert.py\u001b[0m in \u001b[0;36mforward\u001b[0;34m(self, hidden_states, attention_mask, head_mask, encoder_hidden_states, encoder_attention_mask, past_key_value, output_attentions)\u001b[0m\n\u001b[1;32m    399\u001b[0m         \u001b[0moutput_attentions\u001b[0m\u001b[0;34m=\u001b[0m\u001b[0;32mFalse\u001b[0m\u001b[0;34m,\u001b[0m\u001b[0;34m\u001b[0m\u001b[0;34m\u001b[0m\u001b[0m\n\u001b[1;32m    400\u001b[0m     ):\n\u001b[0;32m--> 401\u001b[0;31m         self_outputs = self.self(\n\u001b[0m\u001b[1;32m    402\u001b[0m             \u001b[0mhidden_states\u001b[0m\u001b[0;34m,\u001b[0m\u001b[0;34m\u001b[0m\u001b[0;34m\u001b[0m\u001b[0m\n\u001b[1;32m    403\u001b[0m             \u001b[0mattention_mask\u001b[0m\u001b[0;34m,\u001b[0m\u001b[0;34m\u001b[0m\u001b[0;34m\u001b[0m\u001b[0m\n",
      "\u001b[0;32m~/anaconda3/envs/newtemp/lib/python3.8/site-packages/torch/nn/modules/module.py\u001b[0m in \u001b[0;36m_call_impl\u001b[0;34m(self, *input, **kwargs)\u001b[0m\n\u001b[1;32m   1049\u001b[0m         if not (self._backward_hooks or self._forward_hooks or self._forward_pre_hooks or _global_backward_hooks\n\u001b[1;32m   1050\u001b[0m                 or _global_forward_hooks or _global_forward_pre_hooks):\n\u001b[0;32m-> 1051\u001b[0;31m             \u001b[0;32mreturn\u001b[0m \u001b[0mforward_call\u001b[0m\u001b[0;34m(\u001b[0m\u001b[0;34m*\u001b[0m\u001b[0minput\u001b[0m\u001b[0;34m,\u001b[0m \u001b[0;34m**\u001b[0m\u001b[0mkwargs\u001b[0m\u001b[0;34m)\u001b[0m\u001b[0;34m\u001b[0m\u001b[0;34m\u001b[0m\u001b[0m\n\u001b[0m\u001b[1;32m   1052\u001b[0m         \u001b[0;31m# Do not call functions when jit is used\u001b[0m\u001b[0;34m\u001b[0m\u001b[0;34m\u001b[0m\u001b[0;34m\u001b[0m\u001b[0m\n\u001b[1;32m   1053\u001b[0m         \u001b[0mfull_backward_hooks\u001b[0m\u001b[0;34m,\u001b[0m \u001b[0mnon_full_backward_hooks\u001b[0m \u001b[0;34m=\u001b[0m \u001b[0;34m[\u001b[0m\u001b[0;34m]\u001b[0m\u001b[0;34m,\u001b[0m \u001b[0;34m[\u001b[0m\u001b[0;34m]\u001b[0m\u001b[0;34m\u001b[0m\u001b[0;34m\u001b[0m\u001b[0m\n",
      "\u001b[0;32m~/anaconda3/envs/newtemp/lib/python3.8/site-packages/transformers/models/bert/modeling_bert.py\u001b[0m in \u001b[0;36mforward\u001b[0;34m(self, hidden_states, attention_mask, head_mask, encoder_hidden_states, encoder_attention_mask, past_key_value, output_attentions)\u001b[0m\n\u001b[1;32m    288\u001b[0m         \u001b[0;32melse\u001b[0m\u001b[0;34m:\u001b[0m\u001b[0;34m\u001b[0m\u001b[0;34m\u001b[0m\u001b[0m\n\u001b[1;32m    289\u001b[0m             \u001b[0mkey_layer\u001b[0m \u001b[0;34m=\u001b[0m \u001b[0mself\u001b[0m\u001b[0;34m.\u001b[0m\u001b[0mtranspose_for_scores\u001b[0m\u001b[0;34m(\u001b[0m\u001b[0mself\u001b[0m\u001b[0;34m.\u001b[0m\u001b[0mkey\u001b[0m\u001b[0;34m(\u001b[0m\u001b[0mhidden_states\u001b[0m\u001b[0;34m)\u001b[0m\u001b[0;34m)\u001b[0m\u001b[0;34m\u001b[0m\u001b[0;34m\u001b[0m\u001b[0m\n\u001b[0;32m--> 290\u001b[0;31m             \u001b[0mvalue_layer\u001b[0m \u001b[0;34m=\u001b[0m \u001b[0mself\u001b[0m\u001b[0;34m.\u001b[0m\u001b[0mtranspose_for_scores\u001b[0m\u001b[0;34m(\u001b[0m\u001b[0mself\u001b[0m\u001b[0;34m.\u001b[0m\u001b[0mvalue\u001b[0m\u001b[0;34m(\u001b[0m\u001b[0mhidden_states\u001b[0m\u001b[0;34m)\u001b[0m\u001b[0;34m)\u001b[0m\u001b[0;34m\u001b[0m\u001b[0;34m\u001b[0m\u001b[0m\n\u001b[0m\u001b[1;32m    291\u001b[0m \u001b[0;34m\u001b[0m\u001b[0m\n\u001b[1;32m    292\u001b[0m         \u001b[0mquery_layer\u001b[0m \u001b[0;34m=\u001b[0m \u001b[0mself\u001b[0m\u001b[0;34m.\u001b[0m\u001b[0mtranspose_for_scores\u001b[0m\u001b[0;34m(\u001b[0m\u001b[0mmixed_query_layer\u001b[0m\u001b[0;34m)\u001b[0m\u001b[0;34m\u001b[0m\u001b[0;34m\u001b[0m\u001b[0m\n",
      "\u001b[0;32m~/anaconda3/envs/newtemp/lib/python3.8/site-packages/torch/nn/modules/module.py\u001b[0m in \u001b[0;36m_call_impl\u001b[0;34m(self, *input, **kwargs)\u001b[0m\n\u001b[1;32m   1049\u001b[0m         if not (self._backward_hooks or self._forward_hooks or self._forward_pre_hooks or _global_backward_hooks\n\u001b[1;32m   1050\u001b[0m                 or _global_forward_hooks or _global_forward_pre_hooks):\n\u001b[0;32m-> 1051\u001b[0;31m             \u001b[0;32mreturn\u001b[0m \u001b[0mforward_call\u001b[0m\u001b[0;34m(\u001b[0m\u001b[0;34m*\u001b[0m\u001b[0minput\u001b[0m\u001b[0;34m,\u001b[0m \u001b[0;34m**\u001b[0m\u001b[0mkwargs\u001b[0m\u001b[0;34m)\u001b[0m\u001b[0;34m\u001b[0m\u001b[0;34m\u001b[0m\u001b[0m\n\u001b[0m\u001b[1;32m   1052\u001b[0m         \u001b[0;31m# Do not call functions when jit is used\u001b[0m\u001b[0;34m\u001b[0m\u001b[0;34m\u001b[0m\u001b[0;34m\u001b[0m\u001b[0m\n\u001b[1;32m   1053\u001b[0m         \u001b[0mfull_backward_hooks\u001b[0m\u001b[0;34m,\u001b[0m \u001b[0mnon_full_backward_hooks\u001b[0m \u001b[0;34m=\u001b[0m \u001b[0;34m[\u001b[0m\u001b[0;34m]\u001b[0m\u001b[0;34m,\u001b[0m \u001b[0;34m[\u001b[0m\u001b[0;34m]\u001b[0m\u001b[0;34m\u001b[0m\u001b[0;34m\u001b[0m\u001b[0m\n",
      "\u001b[0;32m~/anaconda3/envs/newtemp/lib/python3.8/site-packages/torch/nn/modules/linear.py\u001b[0m in \u001b[0;36mforward\u001b[0;34m(self, input)\u001b[0m\n\u001b[1;32m     94\u001b[0m \u001b[0;34m\u001b[0m\u001b[0m\n\u001b[1;32m     95\u001b[0m     \u001b[0;32mdef\u001b[0m \u001b[0mforward\u001b[0m\u001b[0;34m(\u001b[0m\u001b[0mself\u001b[0m\u001b[0;34m,\u001b[0m \u001b[0minput\u001b[0m\u001b[0;34m:\u001b[0m \u001b[0mTensor\u001b[0m\u001b[0;34m)\u001b[0m \u001b[0;34m->\u001b[0m \u001b[0mTensor\u001b[0m\u001b[0;34m:\u001b[0m\u001b[0;34m\u001b[0m\u001b[0;34m\u001b[0m\u001b[0m\n\u001b[0;32m---> 96\u001b[0;31m         \u001b[0;32mreturn\u001b[0m \u001b[0mF\u001b[0m\u001b[0;34m.\u001b[0m\u001b[0mlinear\u001b[0m\u001b[0;34m(\u001b[0m\u001b[0minput\u001b[0m\u001b[0;34m,\u001b[0m \u001b[0mself\u001b[0m\u001b[0;34m.\u001b[0m\u001b[0mweight\u001b[0m\u001b[0;34m,\u001b[0m \u001b[0mself\u001b[0m\u001b[0;34m.\u001b[0m\u001b[0mbias\u001b[0m\u001b[0;34m)\u001b[0m\u001b[0;34m\u001b[0m\u001b[0;34m\u001b[0m\u001b[0m\n\u001b[0m\u001b[1;32m     97\u001b[0m \u001b[0;34m\u001b[0m\u001b[0m\n\u001b[1;32m     98\u001b[0m     \u001b[0;32mdef\u001b[0m \u001b[0mextra_repr\u001b[0m\u001b[0;34m(\u001b[0m\u001b[0mself\u001b[0m\u001b[0;34m)\u001b[0m \u001b[0;34m->\u001b[0m \u001b[0mstr\u001b[0m\u001b[0;34m:\u001b[0m\u001b[0;34m\u001b[0m\u001b[0;34m\u001b[0m\u001b[0m\n",
      "\u001b[0;32m~/anaconda3/envs/newtemp/lib/python3.8/site-packages/torch/nn/functional.py\u001b[0m in \u001b[0;36mlinear\u001b[0;34m(input, weight, bias)\u001b[0m\n\u001b[1;32m   1845\u001b[0m     \u001b[0;32mif\u001b[0m \u001b[0mhas_torch_function_variadic\u001b[0m\u001b[0;34m(\u001b[0m\u001b[0minput\u001b[0m\u001b[0;34m,\u001b[0m \u001b[0mweight\u001b[0m\u001b[0;34m)\u001b[0m\u001b[0;34m:\u001b[0m\u001b[0;34m\u001b[0m\u001b[0;34m\u001b[0m\u001b[0m\n\u001b[1;32m   1846\u001b[0m         \u001b[0;32mreturn\u001b[0m \u001b[0mhandle_torch_function\u001b[0m\u001b[0;34m(\u001b[0m\u001b[0mlinear\u001b[0m\u001b[0;34m,\u001b[0m \u001b[0;34m(\u001b[0m\u001b[0minput\u001b[0m\u001b[0;34m,\u001b[0m \u001b[0mweight\u001b[0m\u001b[0;34m)\u001b[0m\u001b[0;34m,\u001b[0m \u001b[0minput\u001b[0m\u001b[0;34m,\u001b[0m \u001b[0mweight\u001b[0m\u001b[0;34m,\u001b[0m \u001b[0mbias\u001b[0m\u001b[0;34m=\u001b[0m\u001b[0mbias\u001b[0m\u001b[0;34m)\u001b[0m\u001b[0;34m\u001b[0m\u001b[0;34m\u001b[0m\u001b[0m\n\u001b[0;32m-> 1847\u001b[0;31m     \u001b[0;32mreturn\u001b[0m \u001b[0mtorch\u001b[0m\u001b[0;34m.\u001b[0m\u001b[0m_C\u001b[0m\u001b[0;34m.\u001b[0m\u001b[0m_nn\u001b[0m\u001b[0;34m.\u001b[0m\u001b[0mlinear\u001b[0m\u001b[0;34m(\u001b[0m\u001b[0minput\u001b[0m\u001b[0;34m,\u001b[0m \u001b[0mweight\u001b[0m\u001b[0;34m,\u001b[0m \u001b[0mbias\u001b[0m\u001b[0;34m)\u001b[0m\u001b[0;34m\u001b[0m\u001b[0;34m\u001b[0m\u001b[0m\n\u001b[0m\u001b[1;32m   1848\u001b[0m \u001b[0;34m\u001b[0m\u001b[0m\n\u001b[1;32m   1849\u001b[0m \u001b[0;34m\u001b[0m\u001b[0m\n",
      "\u001b[0;31mKeyboardInterrupt\u001b[0m: "
     ]
    }
   ],
   "source": [
    "new_sents_lol_map1, map1_orig_sents = generate_map1_sents(df_trans_thres, 20) ## Perturbations for removing negation markers\n",
    "new_sents_lol_map2  = generate_map2_sents(df_trans_thres, 20) ## Perturbations for removing random content words\n",
    "new_sents_lol_map3  = generate_map3_sents(df_trans_thres, 20) ## Perturbations for duplicating random content words\n",
    "new_sents_lol_map4  = generate_map4_sents(df_trans_thres, 20) ## Perturbations for inserting random content words\n",
    "new_sents_lol_map5  = generate_map5_sents(df_trans_thres, 20) ## Perturbations for replacing random content words\n",
    "\n",
    "## For MAP6, each trial takes ~1 minute over 16 core machine. This library uses CPU cores, and you are passing 20 trials, so this takes time.\n",
    "\n",
    "new_sents_lol_map6, map6_orig_sents = generate_map6_sents(df_trans_thres, 20) ## Perturbations for replacing target by source\n",
    "\n",
    "## For MAP6, each trial takes ~1 minute over 16 core machine. This library uses CPU cores, and you are passing 20 trials, so this takes time.\n",
    "\n",
    "new_sents_lol_map7, map7_orig_sents = generate_map7_sents(df_trans_thres, 20) ## Perturbations for replacing words by their Antonyms\n",
    "new_sents_lol_map8  = generate_map8_sents(df_trans_thres, 20) ## Perturbations for replacing translation with source sentence"
   ]
  },
  {
   "cell_type": "code",
   "execution_count": 25,
   "id": "84a33b0a-cd06-4c43-8d9f-c6dc4761bd3b",
   "metadata": {},
   "outputs": [],
   "source": [
    "def generate_mpp1_sents(df, nTrials):\n",
    "    ##returns the list of perturbed translations based removal of punctuations\n",
    "    print(\"Generating sentences for MPP1\")\n",
    "    exclude = set(string.punctuation)\n",
    "    new_sents_lol = [] \n",
    "    mpp1_orig_sents_lol = []\n",
    "    \n",
    "    for i in range(nTrials):\n",
    "        new_sents  = []\n",
    "        mpp1_orig_sents = []\n",
    "\n",
    "        for original, sentence in zip(df['original'], df['translation']):\n",
    "            newSentence = ''.join(ch for ch in sentence if ch not in exclude)\n",
    "            sentVoc = newSentence.split()\n",
    "            origSent = sentence.split()\n",
    "      \n",
    "            if((' '.join(origSent)) != (' '.join(sentVoc))):\n",
    "                tempL=[]\n",
    "                tempL.append(original)\n",
    "                tempL.append(' '.join(sentVoc))\n",
    "                new_sents.append(tempL)\n",
    "                tempL=[]\n",
    "                tempL.append(original)\n",
    "                tempL.append(sentence)\n",
    "                mpp1_orig_sents.append(tempL)\n",
    "        \n",
    "        new_sents_lol.append(new_sents)\n",
    "        mpp1_orig_sents_lol.append(mpp1_orig_sents)\n",
    "    \n",
    "    return new_sents_lol, mpp1_orig_sents_lol"
   ]
  },
  {
   "cell_type": "code",
   "execution_count": 26,
   "id": "896eecda-62f5-402f-a151-e158326fd818",
   "metadata": {},
   "outputs": [],
   "source": [
    "def generate_mpp2_sents(df, nTrials):\n",
    "    ## returns the list of perturbed translations based on replacement of punctuations\n",
    "    print(\"Generating sentences for MPP2\")\n",
    "    puncts = list(set(string.punctuation))\n",
    "    new_sents_lol = [] \n",
    "    mpp2_orig_sents_lol = []\n",
    "\n",
    "    for i in range(nTrials):\n",
    "        new_sents  = []\n",
    "        mpp2_orig_sents = []\n",
    "\n",
    "        for original, sentence in zip(df['original'], df['translation']):\n",
    "            for i in range(len(sentence)):\n",
    "                if(sentence[i] in puncts): #Found punctuation, replacing here.\n",
    "                    new_punct = random.choice(puncts)\n",
    "                    if(new_punct!=sentence[i]):\n",
    "                        newSentence = sentence.replace(sentence[i], new_punct)\n",
    "            sentVoc = newSentence.split()\n",
    "            origSent = sentence.split()\n",
    "      \n",
    "            if((' '.join(origSent)) != (' '.join(sentVoc))):\n",
    "                tempL=[]\n",
    "                tempL.append(original)\n",
    "                tempL.append(' '.join(sentVoc))\n",
    "                new_sents.append(tempL)\n",
    "                tempL=[]\n",
    "                tempL.append(original)\n",
    "                tempL.append(sentence)\n",
    "                mpp2_orig_sents.append(tempL)\n",
    "                \n",
    "        new_sents_lol.append(new_sents)\n",
    "        mpp2_orig_sents_lol.append(mpp2_orig_sents)\n",
    "    \n",
    "    return new_sents_lol, mpp2_orig_sents_lol"
   ]
  },
  {
   "cell_type": "code",
   "execution_count": 29,
   "id": "e696cd4c-97fd-43be-9576-0628a64834c0",
   "metadata": {},
   "outputs": [],
   "source": [
    "## Required for MPP3/4 ##\n",
    "nlp = spacy.load('en_core_web_sm')\n",
    "## Required for MPP3/4 ##"
   ]
  },
  {
   "cell_type": "code",
   "execution_count": 31,
   "id": "e14f3408-a4ed-420a-8078-7d41a01b1044",
   "metadata": {},
   "outputs": [],
   "source": [
    "def generate_mpp3_sents(df, nTrials):\n",
    "    ## returns the list of perturbed translations based on removal of determiners\n",
    "    print(\"Generating sentences for MPP3\")\n",
    "    puncts = list(set(string.punctuation))\n",
    "    new_sents_lol = []\n",
    "    mpp3_orig_sents_lol = []\n",
    "    \n",
    "    for i in range(nTrials):\n",
    "        new_sents  = []\n",
    "        mpp3_orig_sents = []\n",
    "\n",
    "        for original, sentence in zip(df['original'], df['translation']):\n",
    "            doc = nlp(sentence)\n",
    "            sentVoc = [token.text for token in doc if token.pos_ != \"DET\"]\n",
    "            origSent = sentence.split()\n",
    "            indices = []\n",
    "            for i in range(len(sentVoc)):\n",
    "                if(sentVoc[i] in puncts):\n",
    "                    sentVoc[i-1] = sentVoc[i-1]+sentVoc[i]\n",
    "                    indices.append(i)\n",
    "            iter=0\n",
    "            for idx in indices:\n",
    "                sentVoc.pop(idx-iter)\n",
    "                iter+=1\n",
    "            if((' '.join(origSent)) != (' '.join(sentVoc))):\n",
    "                tempL=[]\n",
    "                tempL.append(original)\n",
    "                tempL.append(' '.join(sentVoc))\n",
    "                new_sents.append(tempL)\n",
    "                tempL=[]\n",
    "                tempL.append(original)\n",
    "                tempL.append(sentence)\n",
    "                mpp3_orig_sents.append(tempL)\n",
    "        new_sents_lol.append(new_sents)\n",
    "        mpp3_orig_sents_lol.append(mpp3_orig_sents)\n",
    "    \n",
    "    return new_sents_lol, mpp3_orig_sents_lol"
   ]
  },
  {
   "cell_type": "code",
   "execution_count": 32,
   "id": "e6974fcb-949d-4ff8-bcbb-3df93dc9ddd8",
   "metadata": {},
   "outputs": [],
   "source": [
    "def generate_mpp4_sents(df, nTrials):\n",
    "    ## returns the list of perturbed translations based on replacement of determiners from a list\n",
    "    print(\"Generating sentences for MPP4\")\n",
    "    detList =  [\"the\", \"a\", \"an\", \"this\", \"that\", \"these\", \"those\", \"my\", \"your\", \"his\", \"her\", \"its\", \"our\", \"their\", \"some\", \"any\", \"enough\", \"all\", \"each\", \"every\", \"other\", \"another\", \"such\"]\n",
    "    new_sents_lol = [] \n",
    "    mpp4_orig_sents_lol = []\n",
    "\n",
    "    for i in range(nTrials):\n",
    "        new_sents  = []\n",
    "        mpp4_orig_sents = []\n",
    "\n",
    "        for original, sentence in zip(df['original'], df['translation']):\n",
    "            doc = nlp(sentence)\n",
    "            sentVoc = []\n",
    "            origSent = sentence.split()\n",
    "            for i in range(len(doc)):\n",
    "                if(doc[i].pos_ == \"DET\"):\n",
    "                    sentVoc.append(random.choice(detList))\n",
    "                else:\n",
    "                    sentVoc.append(str(doc[i]))\n",
    "\n",
    "            if((' '.join(origSent)) != (' '.join(sentVoc))):  \n",
    "                tempL=[]\n",
    "                tempL.append(original)\n",
    "                tempL.append(' '.join(sentVoc))\n",
    "                new_sents.append(tempL)\n",
    "                tempL=[]\n",
    "                tempL.append(original)\n",
    "                tempL.append(sentence)\n",
    "                mpp4_orig_sents.append(tempL)\n",
    "\n",
    "        new_sents_lol.append(new_sents)\n",
    "        mpp4_orig_sents_lol.append(mpp4_orig_sents)\n",
    "    \n",
    "    return new_sents_lol, mpp4_orig_sents_lol"
   ]
  },
  {
   "cell_type": "code",
   "execution_count": 33,
   "id": "bd3d1409-1b7e-4c88-97d1-2a58fc845190",
   "metadata": {},
   "outputs": [],
   "source": [
    "def generate_mpp5_sents(df, nTrials):\n",
    "    ## returns the list of perturbed translations based on uppercasing words\n",
    "    print(\"Generating sentences for MPP5\")\n",
    "    new_sents_lol = []\n",
    "\n",
    "    for i in range(nTrials):\n",
    "        new_sents  = []\n",
    "        for sentence in df['translation']:\n",
    "            sentVoc = sentence.split()\n",
    "            for i in range(len(sentVoc)):\n",
    "                wordswithUC = []\n",
    "                wordswithUC.append(str(sentVoc[i]))\n",
    "                wordswithUC.append(str(sentVoc[i].upper()))\n",
    "                sentVoc[i] = random.choice(wordswithUC)\n",
    "          \n",
    "            new_sents.append(' '.join(sentVoc))\n",
    "        new_sents_lol.append(new_sents)\n",
    "\n",
    "    return new_sents_lol"
   ]
  },
  {
   "cell_type": "code",
   "execution_count": 34,
   "id": "e3c26dbf-2c00-4077-95e5-ababdf0350f2",
   "metadata": {},
   "outputs": [],
   "source": [
    "def generate_mpp6_sents(df, nTrials):\n",
    "    ## returns the list of perturbed translations based on lowercasing words\n",
    "    print(\"Generating sentences for MPP6\")\n",
    "    new_sents_lol = []\n",
    "\n",
    "    for i in range(nTrials):\n",
    "        new_sents  = []\n",
    "        for sentence in df['translation']:\n",
    "            sentVoc = sentence.split()\n",
    "            for i in range(len(sentVoc)):\n",
    "                wordswithUC = []\n",
    "                wordswithUC.append(str(sentVoc[i]))\n",
    "                wordswithUC.append(str(sentVoc[i].lower()))\n",
    "                sentVoc[i] = random.choice(wordswithUC)\n",
    "          \n",
    "            new_sents.append(' '.join(sentVoc))\n",
    "        new_sents_lol.append(new_sents)\n",
    "\n",
    "    return new_sents_lol"
   ]
  },
  {
   "cell_type": "code",
   "execution_count": 35,
   "id": "93a887ba-aa05-4cdd-84fe-f6e2c4169b27",
   "metadata": {},
   "outputs": [
    {
     "name": "stdout",
     "output_type": "stream",
     "text": [
      "Generating sentences for MPP1\n",
      "Generating sentences for MPP2\n",
      "Generating sentences for MPP3\n",
      "Generating sentences for MPP4\n",
      "Generating sentences for MPP5\n",
      "Generating sentences for MPP6\n"
     ]
    }
   ],
   "source": [
    "new_sents_lol_mpp1, mpp1_orig_sents = generate_mpp1_sents(df_trans_thres, 20) ## Perturbations for removing punctuations\n",
    "new_sents_lol_mpp2, mpp2_orig_sents = generate_mpp2_sents(df_trans_thres, 20) ## Perturbations for replacing punctuations\n",
    "new_sents_lol_mpp3, mpp3_orig_sents = generate_mpp3_sents(df_trans_thres, 20) ## Perturbations for removing determiners\n",
    "new_sents_lol_mpp4, mpp4_orig_sents = generate_mpp4_sents(df_trans_thres, 20) ## Perturbations for replacing determiners\n",
    "new_sents_lol_mpp5 = generate_mpp5_sents(df_trans_thres, 20) ## Perturbations for random uppercasing\n",
    "new_sents_lol_mpp6 = generate_mpp6_sents(df_trans_thres, 20) ## Perturbations for random lowercasing"
   ]
  },
  {
   "cell_type": "code",
   "execution_count": 36,
   "id": "7825fc38-0c06-4c61-9363-25764a9f225f",
   "metadata": {},
   "outputs": [],
   "source": [
    "def predict_scores_1(df, new_sents, nTrials):\n",
    "    scores = np.zeros((nTrials + 1 , df.shape[0]))\n",
    "    scores[0] = df['trans_score'].to_numpy() # storing prediction for original translations at index 0\n",
    "\n",
    "    for i in range(nTrials):\n",
    "        print(\"Computing Scores on Perturbed Sentence Trial \"+str(i+1))\n",
    "        df_perturbed = df.drop(columns=['translation','trans_score'])\n",
    "        df_perturbed['perturbed'] = new_sents[i]\n",
    "\n",
    "        dtlol2 = df_perturbed.values.tolist()\n",
    "        p1predictions, p1raw_outputs = model.predict(dtlol2)\n",
    "\n",
    "        scores[1+i] = p1predictions\n",
    "\n",
    "    return scores"
   ]
  },
  {
   "cell_type": "code",
   "execution_count": 37,
   "id": "2cfeb102-b498-4110-b3aa-869498f6eb04",
   "metadata": {},
   "outputs": [],
   "source": [
    "def predict_scores_2(orig_list_lol, new_sents_lol, nTrials):\n",
    "    x = len(orig_list_lol)\n",
    "    y = max(map(len, orig_list_lol))\n",
    "    scores_orig = np.zeros([x,y])\n",
    "    for i in range(len(orig_list_lol)):\n",
    "        print(\"Original Sentence Pairs - Trial \"+str(i+1))\n",
    "        nppredictions, npraw_outputs = model.predict(orig_list_lol[i])\n",
    "        scores_orig[i,:len(nppredictions)] = nppredictions\n",
    "  \n",
    "    x = len(new_sents_lol)\n",
    "    y = max(map(len, new_sents_lol))\n",
    "    scores_pert = np.zeros([x,y])    \n",
    "    for j in range(len(new_sents_lol)):\n",
    "        print(\"Perturbed Sentence Pairs - Trial \"+str(j+1))\n",
    "        p1predictions, p1raw_outputs = model.predict(new_sents_lol[j])\n",
    "        scores_pert[j,:len(p1predictions)] = p1predictions\n",
    "        \n",
    "    return scores_orig, scores_pert"
   ]
  },
  {
   "cell_type": "code",
   "execution_count": 44,
   "id": "062c53c7-2f81-43f5-be5d-1a70d88a8af9",
   "metadata": {
    "scrolled": true,
    "tags": []
   },
   "outputs": [],
   "source": [
    "# ## This will take some time, score computation uses the models to get scores for each sentence pair in each trial  ##\n",
    "\n",
    "# scores_map1_orig, scores_map1_perts = predict_scores_2(map1_orig_sents, new_sents_lol_map1, 20)\n",
    "# scores_map2 = predict_scores_1(df_trans_thres, new_sents_lol_map2, 20)\n",
    "# scores_map3 = predict_scores_1(df_trans_thres, new_sents_lol_map3, 20)\n",
    "# scores_map4 = predict_scores_1(df_trans_thres, new_sents_lol_map4, 20)\n",
    "# scores_map5 = predict_scores_1(df_trans_thres, new_sents_lol_map5, 20)\n",
    "# scores_map6_orig, scores_map6_perts = predict_scores_2(map6_orig_sents, new_sents_lol_map6, 20)\n",
    "# scores_map7_orig, scores_map7_perts = predict_scores_2(map7_orig_sents, new_sents_lol_map7, 20)\n",
    "# scores_map8 = predict_scores_1(df_trans_thres, new_sents_lol_map8, 20)\n",
    "\n",
    "# ## This will take some time, score computation uses the models to get scores for each sentence pair in each trial  ##"
   ]
  },
  {
   "cell_type": "code",
   "execution_count": 45,
   "id": "221a6d8d-25d6-4d6e-83b5-d2a3a7db4c4d",
   "metadata": {},
   "outputs": [],
   "source": [
    "# ################## MAP1 - Dumping the score into a dataframe for computation and in a CSV file for retrieving later ##################\n",
    "# columnsList = []\n",
    "# for i in range(len(scores_map1_perts)):\n",
    "#     columnsList.append('pert'+str(i+1))\n",
    "\n",
    "# scores_map1_perts_df = pd.DataFrame(list(map(list, zip(*scores_map1_perts))), columns = columnsList)\n",
    "# scores_map1_perts_df.to_csv('generated_data_'+source_lang+'_en/scores_map1_perts_df.csv', index = False, sep=';')\n",
    "\n",
    "# columnsList = []\n",
    "# for i in range(len(scores_map1_orig)):\n",
    "#     columnsList.append('orig'+str(i+1))\n",
    "\n",
    "# scores_map1_orig_df = pd.DataFrame(list(map(list, zip(*scores_map1_orig))), columns = columnsList)\n",
    "# scores_map1_orig_df.to_csv('generated_data_'+source_lang+'_en/scores_map1_orig_df.csv', index = False, sep=';')\n",
    "# ######################################################################################################################################\n",
    "\n",
    "# ################## MAP2 - Dumping the score into a dataframe for computation and in a CSV file for retrieving later ##################\n",
    "# columnsList = []\n",
    "# for i in range(len(scores_map2)):\n",
    "#     columnsList.append('pert'+str(i+1))\n",
    "\n",
    "# scores_map2_df = pd.DataFrame(list(map(list, zip(*scores_map2))), columns = columnsList)\n",
    "# scores_map2_df.to_csv('generated_data_'+source_lang+'_en/scores_map2_df.csv', index = False, sep=';')\n",
    "# ######################################################################################################################################\n",
    "\n",
    "# ################## MAP3 - Dumping the score into a dataframe for computation and in a CSV file for retrieving later ##################\n",
    "# columnsList = []\n",
    "# for i in range(len(scores_map3)):\n",
    "#     columnsList.append('pert'+str(i+1))\n",
    "\n",
    "# scores_map3_df = pd.DataFrame(list(map(list, zip(*scores_map3))), columns = columnsList)\n",
    "# scores_map3_df.to_csv('generated_data_'+source_lang+'_en/scores_map3_df.csv', index = False, sep=';')\n",
    "\n",
    "# ######################################################################################################################################\n",
    "\n",
    "# ################## MAP4 - Dumping the score into a dataframe for computation and in a CSV file for retrieving later ##################\n",
    "# columnsList = []\n",
    "# for i in range(len(scores_map4)):\n",
    "#     columnsList.append('pert'+str(i+1))\n",
    "\n",
    "# scores_map4_df = pd.DataFrame(list(map(list, zip(*scores_map4))), columns = columnsList)\n",
    "# scores_map4_df.to_csv('generated_data_'+source_lang+'_en/scores_map4_df.csv', index = False, sep=';')\n",
    "# ######################################################################################################################################\n",
    "\n",
    "# ################## MAP5 - Dumping the score into a dataframe for computation and in a CSV file for retrieving later ##################\n",
    "# columnsList = []\n",
    "# for i in range(len(scores_map5)):\n",
    "#     columnsList.append('pert'+str(i+1))\n",
    "\n",
    "# scores_map5_df = pd.DataFrame(list(map(list, zip(*scores_map5))), columns = columnsList)\n",
    "# scores_map5_df.to_csv('generated_data_'+source_lang+'_en/scores_map5_df.csv', index = False, sep=';')\n",
    "# ######################################################################################################################################\n",
    "\n",
    "# ################## MAP6 - Dumping the score into a dataframe for computation and in a CSV file for retrieving later ##################\n",
    "# columnsList = []\n",
    "# for i in range(len(scores_map6_perts)):\n",
    "#     columnsList.append('pert'+str(i+1))\n",
    "\n",
    "# scores_map6_perts_df = pd.DataFrame(list(map(list, zip(*scores_map6_perts))), columns = columnsList)\n",
    "# scores_map6_perts_df.to_csv('generated_data_'+source_lang+'_en/scores_map6_perts_df.csv', index = False, sep=';')\n",
    "\n",
    "# columnsList = []\n",
    "# for i in range(len(scores_map6_orig)):\n",
    "#     columnsList.append('orig'+str(i+1))\n",
    "\n",
    "# scores_map6_orig_df = pd.DataFrame(list(map(list, zip(*scores_map6_orig))), columns = columnsList)\n",
    "# scores_map6_orig_df.to_csv('generated_data_'+source_lang+'_en/scores_map6_orig_df.csv', index = False, sep=';')\n",
    "# ######################################################################################################################################\n",
    "\n",
    "# ################## MAP7 - Dumping the score into a dataframe for computation and in a CSV file for retrieving later ##################\n",
    "# columnsList = []\n",
    "# for i in range(len(scores_map7_perts)):\n",
    "#     columnsList.append('pert'+str(i+1))\n",
    "\n",
    "# scores_map7_perts_df = pd.DataFrame(list(map(list, zip(*scores_map7_perts))), columns = columnsList)\n",
    "# scores_map7_perts_df.to_csv('generated_data_'+source_lang+'_en/scores_map7_perts_df.csv', index = False, sep=';')\n",
    "\n",
    "# columnsList = []\n",
    "# for i in range(len(scores_map7_orig)):\n",
    "#     columnsList.append('orig'+str(i+1))\n",
    "\n",
    "# scores_map7_orig_df = pd.DataFrame(list(map(list, zip(*scores_map7_orig))), columns = columnsList)\n",
    "# scores_map7_orig_df.to_csv('generated_data_'+source_lang+'_en/scores_map7_orig_df.csv', index = False, sep=';')\n",
    "# ######################################################################################################################################\n",
    "\n",
    "# ################## MAP8 - Dumping the score into a dataframe for computation and in a CSV file for retrieving later ##################\n",
    "# columnsList = []\n",
    "# for i in range(len(scores_map8)):\n",
    "#     columnsList.append('pert'+str(i+1))\n",
    "\n",
    "# scores_map8_df = pd.DataFrame(list(map(list, zip(*scores_map8))), columns = columnsList)\n",
    "# scores_map8_df.to_csv('generated_data_'+source_lang+'_en/scores_map8_df.csv', index = False, sep=';')\n",
    "# ######################################################################################################################################"
   ]
  },
  {
   "cell_type": "code",
   "execution_count": 46,
   "id": "414e16c5-33e3-4710-92ed-57843dba4fb7",
   "metadata": {
    "scrolled": true,
    "tags": []
   },
   "outputs": [],
   "source": [
    "# ## This will take some time, score computation uses the models to get scores for each sentence pair in each trial  ##\n",
    "\n",
    "# scores_mpp1_orig, scores_mpp1_perts = predict_scores_2(mpp1_orig_sents, new_sents_lol_mpp1, 20)\n",
    "# scores_mpp2_orig, scores_mpp2_perts = predict_scores_2(mpp2_orig_sents, new_sents_lol_mpp2, 20)\n",
    "# scores_mpp3_orig, scores_mpp3_perts = predict_scores_2(mpp3_orig_sents, new_sents_lol_mpp3, 20)\n",
    "# scores_mpp4_orig, scores_mpp4_perts = predict_scores_2(mpp4_orig_sents, new_sents_lol_mpp4, 20)\n",
    "\n",
    "# scores_mpp5 = predict_scores_1(df_trans_thres, new_sents_lol_mpp5, 20)\n",
    "# scores_mpp6 = predict_scores_1(df_trans_thres, new_sents_lol_mpp6, 20)\n",
    "\n",
    "# ## This will take some time, score computation uses the models to get scores for each sentence pair in each trial  ##"
   ]
  },
  {
   "cell_type": "code",
   "execution_count": 47,
   "id": "d914a905-7f43-4c3e-aaf7-0fbc78fa0a1b",
   "metadata": {},
   "outputs": [],
   "source": [
    "# ################## MPP1 - Dumping the score into a dataframe for computation and in a CSV file for retrieving later ##################\n",
    "# columnsList = []\n",
    "# for i in range(len(scores_mpp1_perts)):\n",
    "#     columnsList.append('pert'+str(i+1))\n",
    "\n",
    "# scores_mpp1_perts_df = pd.DataFrame(list(map(list, zip(*scores_mpp1_perts))), columns = columnsList)\n",
    "# scores_mpp1_perts_df.to_csv('generated_data_'+source_lang+'_en/scores_mpp1_perts_df.csv', index = False, sep=';')\n",
    "\n",
    "# columnsList = []\n",
    "# for i in range(len(scores_mpp1_orig)):\n",
    "#     columnsList.append('orig'+str(i+1))\n",
    "\n",
    "# scores_mpp1_orig_df = pd.DataFrame(list(map(list, zip(*scores_mpp1_orig))), columns = columnsList)\n",
    "# scores_mpp1_orig_df.to_csv('generated_data_'+source_lang+'_en/scores_mpp1_orig_df.csv', index = False, sep=';')\n",
    "# ######################################################################################################################################\n",
    "\n",
    "# ################## MPP2 - Dumping the score into a dataframe for computation and in a CSV file for retrieving later ##################\n",
    "# columnsList = []\n",
    "# for i in range(len(scores_mpp2_perts)):\n",
    "#     columnsList.append('pert'+str(i+1))\n",
    "\n",
    "# scores_mpp2_perts_df = pd.DataFrame(list(map(list, zip(*scores_mpp2_perts))), columns = columnsList)\n",
    "# scores_mpp2_perts_df.to_csv('generated_data_'+source_lang+'_en/scores_mpp2_perts_df.csv', index = False, sep=';')\n",
    "\n",
    "# columnsList = []\n",
    "# for i in range(len(scores_mpp2_orig)):\n",
    "#     columnsList.append('orig'+str(i+1))\n",
    "\n",
    "# scores_mpp2_orig_df = pd.DataFrame(list(map(list, zip(*scores_mpp2_orig))), columns = columnsList)\n",
    "# scores_mpp2_orig_df.to_csv('generated_data_'+source_lang+'_en/scores_mpp2_orig_df.csv', index = False, sep=';')\n",
    "# ######################################################################################################################################\n",
    "\n",
    "# ################## MPP3 - Dumping the score into a dataframe for computation and in a CSV file for retrieving later ##################\n",
    "# columnsList = []\n",
    "# for i in range(len(scores_mpp3_perts)):\n",
    "#     columnsList.append('pert'+str(i+1))\n",
    "\n",
    "# scores_mpp3_perts_df = pd.DataFrame(list(map(list, zip(*scores_mpp3_perts))), columns = columnsList)\n",
    "# scores_mpp3_perts_df.to_csv('generated_data_'+source_lang+'_en/scores_mpp3_perts_df.csv', index = False, sep=';')\n",
    "\n",
    "# columnsList = []\n",
    "# for i in range(len(scores_mpp3_orig)):\n",
    "#     columnsList.append('orig'+str(i+1))\n",
    "\n",
    "# scores_mpp3_orig_df = pd.DataFrame(list(map(list, zip(*scores_mpp3_orig))), columns = columnsList)\n",
    "# scores_mpp3_orig_df.to_csv('generated_data_'+source_lang+'_en/scores_mpp3_orig_df.csv', index = False, sep=';')\n",
    "# ######################################################################################################################################\n",
    "\n",
    "# ################## MPP4 - Dumping the score into a dataframe for computation and in a CSV file for retrieving later ##################\n",
    "# columnsList = []\n",
    "# for i in range(len(scores_mpp4_perts)):\n",
    "#     columnsList.append('pert'+str(i+1))\n",
    "\n",
    "# scores_mpp4_perts_df = pd.DataFrame(list(map(list, zip(*scores_mpp4_perts))), columns = columnsList)\n",
    "# scores_mpp4_perts_df.to_csv('generated_data_'+source_lang+'_en/scores_mpp4_perts_df.csv', index = False, sep=';')\n",
    "\n",
    "# columnsList = []\n",
    "# for i in range(len(scores_mpp4_orig)):\n",
    "#     columnsList.append('orig'+str(i+1))\n",
    "\n",
    "# scores_mpp4_orig_df = pd.DataFrame(list(map(list, zip(*scores_mpp4_orig))), columns = columnsList)\n",
    "# scores_mpp4_orig_df.to_csv('generated_data_'+source_lang+'_en/scores_mpp4_orig_df.csv', index = False, sep=';')\n",
    "# ######################################################################################################################################\n",
    "\n",
    "# ################## MPP5 - Dumping the score into a dataframe for computation and in a CSV file for retrieving later ##################\n",
    "# columnsList = []\n",
    "# for i in range(len(scores_mpp5)):\n",
    "#     columnsList.append('pert'+str(i+1))\n",
    "\n",
    "# scores_mpp5_df = pd.DataFrame(list(map(list, zip(*scores_mpp5))), columns = columnsList)\n",
    "# scores_mpp5_df.to_csv('generated_data_'+source_lang+'_en/scores_mpp5_df.csv', index = False, sep=';')\n",
    "# ######################################################################################################################################\n",
    "\n",
    "# ################## MPP6 - Dumping the score into a dataframe for computation and in a CSV file for retrieving later ##################\n",
    "# columnsList = []\n",
    "# for i in range(len(scores_mpp6)):\n",
    "#     columnsList.append('pert'+str(i+1))\n",
    "\n",
    "# scores_mpp6_df = pd.DataFrame(list(map(list, zip(*scores_mpp6))), columns = columnsList)\n",
    "# scores_mpp6_df.to_csv('generated_data_'+source_lang+'_en/scores_mpp6_df.csv', index = False, sep=';')\n",
    "# ######################################################################################################################################"
   ]
  },
  {
   "cell_type": "code",
   "execution_count": 48,
   "id": "f97bfaca-3e01-4ef0-8592-c07348f115cc",
   "metadata": {},
   "outputs": [],
   "source": [
    "scores_map1_perts_df = pd.read_csv('generated_data_'+source_lang+'_en/scores_map1_perts_df.csv', sep=';')\n",
    "scores_map1_perts = scores_map1_perts_df.transpose().to_numpy()\n",
    "scores_map1_orig_df = pd.read_csv('generated_data_'+source_lang+'_en/scores_map1_orig_df.csv', sep=';')\n",
    "scores_map1_orig = scores_map1_orig_df.transpose().to_numpy()\n",
    "\n",
    "scores_map2_df = pd.read_csv('generated_data_'+source_lang+'_en/scores_map2_df.csv', sep=';')\n",
    "scores_map2 = scores_map2_df.transpose().to_numpy()\n",
    "\n",
    "scores_map3_df = pd.read_csv('generated_data_'+source_lang+'_en/scores_map3_df.csv', sep=';')\n",
    "scores_map3 = scores_map3_df.transpose().to_numpy()\n",
    "\n",
    "scores_map3_df = pd.read_csv('generated_data_'+source_lang+'_en/scores_map3_df.csv', sep=';')\n",
    "scores_map3 = scores_map3_df.transpose().to_numpy()\n",
    "\n",
    "scores_map4_df = pd.read_csv('generated_data_'+source_lang+'_en/scores_map4_df.csv', sep=';')\n",
    "scores_map4 = scores_map4_df.transpose().to_numpy()\n",
    "\n",
    "scores_map5_df = pd.read_csv('generated_data_'+source_lang+'_en/scores_map5_df.csv', sep=';')\n",
    "scores_map5 = scores_map5_df.transpose().to_numpy()\n",
    "\n",
    "scores_map6_perts_df = pd.read_csv('generated_data_'+source_lang+'_en/scores_map6_perts_df.csv', sep=';')\n",
    "scores_map6_perts = scores_map6_perts_df.transpose().to_numpy()\n",
    "scores_map6_orig_df = pd.read_csv('generated_data_'+source_lang+'_en/scores_map6_orig_df.csv', sep=';')\n",
    "scores_map6_orig = scores_map6_orig_df.transpose().to_numpy()\n",
    "\n",
    "scores_map7_perts_df = pd.read_csv('generated_data_'+source_lang+'_en/scores_map7_perts_df.csv', sep=';')\n",
    "scores_map7_perts = scores_map7_perts_df.transpose().to_numpy()\n",
    "scores_map7_orig_df = pd.read_csv('generated_data_'+source_lang+'_en/scores_map7_orig_df.csv', sep=';')\n",
    "scores_map7_orig = scores_map7_orig_df.transpose().to_numpy()\n",
    "\n",
    "scores_map8_df = pd.read_csv('generated_data_'+source_lang+'_en/scores_map8_df.csv', sep=';')\n",
    "scores_map8 = scores_map8_df.transpose().to_numpy()"
   ]
  },
  {
   "cell_type": "code",
   "execution_count": 49,
   "id": "1ee59b6d-2716-4c67-b3b9-b1f505c1fd68",
   "metadata": {},
   "outputs": [],
   "source": [
    "scores_mpp1_perts_df = pd.read_csv('generated_data_'+source_lang+'_en/scores_mpp1_perts_df.csv', sep=';')\n",
    "scores_mpp1_perts = scores_mpp1_perts_df.transpose().to_numpy()\n",
    "scores_mpp1_orig_df = pd.read_csv('generated_data_'+source_lang+'_en/scores_mpp1_orig_df.csv', sep=';')\n",
    "scores_mpp1_orig = scores_mpp1_orig_df.transpose().to_numpy()\n",
    "\n",
    "scores_mpp2_perts_df = pd.read_csv('generated_data_'+source_lang+'_en/scores_mpp2_perts_df.csv', sep=';')\n",
    "scores_mpp2_perts = scores_mpp2_perts_df.transpose().to_numpy()\n",
    "scores_mpp2_orig_df = pd.read_csv('generated_data_'+source_lang+'_en/scores_mpp2_orig_df.csv', sep=';')\n",
    "scores_mpp2_orig = scores_mpp2_orig_df.transpose().to_numpy()\n",
    "\n",
    "scores_mpp3_perts_df = pd.read_csv('generated_data_'+source_lang+'_en/scores_mpp3_perts_df.csv', sep=';')\n",
    "scores_mpp3_perts = scores_mpp3_perts_df.transpose().to_numpy()\n",
    "scores_mpp3_orig_df = pd.read_csv('generated_data_'+source_lang+'_en/scores_mpp3_orig_df.csv', sep=';')\n",
    "scores_mpp3_orig = scores_mpp3_orig_df.transpose().to_numpy()\n",
    "\n",
    "scores_mpp4_perts_df = pd.read_csv('generated_data_'+source_lang+'_en/scores_mpp4_perts_df.csv', sep=';')\n",
    "scores_mpp4_perts = scores_mpp4_perts_df.transpose().to_numpy()\n",
    "scores_mpp4_orig_df = pd.read_csv('generated_data_'+source_lang+'_en/scores_mpp4_orig_df.csv', sep=';')\n",
    "scores_mpp4_orig = scores_mpp4_orig_df.transpose().to_numpy()\n",
    "\n",
    "scores_mpp5_df = pd.read_csv('generated_data_'+source_lang+'_en/scores_mpp5_df.csv', sep=';')\n",
    "scores_mpp5 = scores_mpp5_df.transpose().to_numpy()\n",
    "\n",
    "scores_mpp6_df = pd.read_csv('generated_data_'+source_lang+'_en/scores_mpp6_df.csv', sep=';')\n",
    "scores_mpp6 = scores_mpp6_df.transpose().to_numpy()"
   ]
  },
  {
   "cell_type": "code",
   "execution_count": 60,
   "id": "baa9fa25-c5ed-408b-9f7d-d0517c958169",
   "metadata": {},
   "outputs": [],
   "source": [
    "scores_mean_map1_perts = np.mean(scores_map1_perts[0:],axis=0) ## Mean of 20 trials of perturbed scores.\n",
    "scores_mean_map1_orig = np.mean(scores_map1_orig[0:],axis=0) ## Mean of 20 trails of original translation scores\n",
    "scores_relative_diff_map1 = scores_mean_map1_orig - scores_mean_map1_perts ## Computing relative difference among the original translation scores and scores (mean) obtained after perturbations.\n",
    "\n",
    "scores_mean_map2 = np.mean(scores_map2[1:],axis=0) ## Computing means for the 20 perturbed scores.\n",
    "scores_relative_diff_map2 = scores_map2[0] - scores_mean_map2 ## Computing relative difference among the original translation scores and scores (mean) obtained after perturbations.\n",
    "\n",
    "scores_mean_map3 = np.mean(scores_map3[1:],axis=0) ## Computing means for the 20 perturbed scores.\n",
    "scores_relative_diff_map3 = scores_map3[0] - scores_mean_map3 ## Computing relative difference among the original translation scores and scores (mean) obtained after perturbations.\n",
    "\n",
    "scores_mean_map4 = np.mean(scores_map4[1:],axis=0) ## Computing means for the 20 perturbed scores.\n",
    "scores_relative_diff_map4 = scores_map4[0] - scores_mean_map4 ## Computing relative difference among the original translation scores and scores (mean) obtained after perturbations.\n",
    "\n",
    "scores_mean_map5 = np.mean(scores_map5[1:],axis=0) ## Computing means for the 20 perturbed scores.\n",
    "scores_relative_diff_map5 = scores_map5[0] - scores_mean_map5 ## Computing relative difference among the original translation scores and scores (mean) obtained after perturbations.\n",
    "\n",
    "scores_mean_map6_perts = np.mean(scores_map6_perts[0:],axis=0) ## Mean of 20 trials of perturbed scores.\n",
    "scores_mean_map6_orig = np.mean(scores_map6_orig[0:],axis=0) ## Mean of 20 trails of original translation scores\n",
    "scores_relative_diff_map6 = scores_mean_map6_orig - scores_mean_map6_perts ## Computing relative difference \n",
    "\n",
    "scores_mean_map7_perts = np.mean(scores_map7_perts[0:],axis=0) ## Mean of 20 trials of perturbed scores.\n",
    "scores_mean_map7_orig = np.mean(scores_map7_orig[0:],axis=0) ## Mean of 20 trails of original translation scores\n",
    "scores_relative_diff_map7 = scores_mean_map7_orig - scores_mean_map7_perts ## Computing relative difference \n",
    "\n",
    "scores_mean_map8 = np.mean(scores_map8[1:],axis=0) ## Computing means for the 20 perturbed scores.\n",
    "scores_relative_diff_map8 = scores_map8[0] - scores_mean_map8 ## Computing relative difference among the original translation scores and scores (mean) obtained after perturbations."
   ]
  },
  {
   "cell_type": "code",
   "execution_count": 57,
   "id": "014abc39-d804-4c61-a81a-b57d37753fa2",
   "metadata": {},
   "outputs": [],
   "source": [
    "# len(scores_mean_map2), len(scores_map2[0])"
   ]
  },
  {
   "cell_type": "code",
   "execution_count": 63,
   "id": "8636efcf-e829-447b-92b3-5696691bcf97",
   "metadata": {},
   "outputs": [],
   "source": [
    "# len(scores_relative_diff_map7), len(scores_mean_map7_orig), len(scores_mean_map7_perts)"
   ]
  },
  {
   "cell_type": "code",
   "execution_count": 66,
   "id": "aa1fc895-1047-41af-af2b-d1bcd619d9a7",
   "metadata": {},
   "outputs": [],
   "source": [
    "scores_mean_mpp1_perts = np.mean(scores_mpp1_perts[0:],axis=0) ## Mean of 20 trials of perturbed scores.\n",
    "scores_mean_mpp1_orig = np.mean(scores_mpp1_orig[0:],axis=0) ## Mean of 20 trails of original translation scores\n",
    "scores_relative_diff_mpp1 = scores_mean_mpp1_orig - scores_mean_mpp1_perts ## Computing relative difference among the original translation scores and scores (mean) obtained after perturbations.\n",
    "\n",
    "scores_mean_mpp2_perts = np.mean(scores_mpp2_perts[0:],axis=0) ## Mean of 20 trials of perturbed scores.\n",
    "scores_mean_mpp2_orig = np.mean(scores_mpp2_orig[0:],axis=0) ## Mean of 20 trails of original translation scores\n",
    "scores_relative_diff_mpp2 = scores_mean_mpp2_orig - scores_mean_mpp2_perts ## Computing relative difference among the original translation scores and scores (mean) obtained after perturbations.\n",
    "\n",
    "scores_mean_mpp3_perts = np.mean(scores_mpp3_perts[0:],axis=0) ## Mean of 20 trials of perturbed scores.\n",
    "scores_mean_mpp3_orig = np.mean(scores_mpp3_orig[0:],axis=0) ## Mean of 20 trails of original translation scores\n",
    "scores_relative_diff_mpp3 = scores_mean_mpp3_orig - scores_mean_mpp3_perts ## Computing relative difference among the original translation scores and scores (mean) obtained after perturbations.\n",
    "\n",
    "scores_mean_mpp4_perts = np.mean(scores_mpp4_perts[0:],axis=0) ## Mean of 20 trials of perturbed scores.\n",
    "scores_mean_mpp4_orig = np.mean(scores_mpp4_orig[0:],axis=0) ## Mean of 20 trails of original translation scores\n",
    "scores_relative_diff_mpp4 = scores_mean_mpp4_orig - scores_mean_mpp4_perts ## Computing relative difference among the original translation scores and scores (mean) obtained after perturbations.\n",
    "\n",
    "scores_mean_mpp5 = np.mean(scores_mpp5[1:],axis=0) ## Computing means for the 20 perturbed scores.\n",
    "scores_relative_diff_mpp5 = scores_mpp5[0] - scores_mean_mpp5 ## Computing relative difference among the original translation scores and scores (mean) obtained after perturbations.\n",
    "\n",
    "scores_mean_mpp6 = np.mean(scores_mpp6[1:],axis=0) ## Computing means for the 20 perturbed scores.\n",
    "scores_relative_diff_mpp6 = scores_mpp6[0] - scores_mean_mpp6 ## Computing relative difference among the original translation scores and scores (mean) obtained after perturbations."
   ]
  },
  {
   "cell_type": "code",
   "execution_count": 78,
   "id": "80bea75d-901a-498a-9f56-1123e9f9c5e5",
   "metadata": {},
   "outputs": [],
   "source": [
    "map1_mean = np.mean(scores_relative_diff_map1)\n",
    "map2_mean = np.mean(scores_relative_diff_map2)\n",
    "map3_mean = np.mean(scores_relative_diff_map3)\n",
    "map4_mean = np.mean(scores_relative_diff_map4)\n",
    "map5_mean = np.mean(scores_relative_diff_map5)\n",
    "map6_mean = np.mean(scores_relative_diff_map6)\n",
    "map7_mean = np.mean(scores_relative_diff_map7)\n",
    "map8_mean = np.mean(scores_relative_diff_map8)\n",
    "\n",
    "mpp1_mean = np.mean(scores_relative_diff_mpp1)\n",
    "mpp2_mean = np.mean(scores_relative_diff_mpp2)\n",
    "mpp3_mean = np.mean(scores_relative_diff_mpp3)\n",
    "mpp4_mean = np.mean(scores_relative_diff_mpp4)\n",
    "mpp5_mean = np.mean(scores_relative_diff_mpp5)\n",
    "mpp6_mean = np.mean(scores_relative_diff_mpp6)"
   ]
  },
  {
   "cell_type": "code",
   "execution_count": 79,
   "id": "3997c25f-fde9-4818-b307-909efcaa2619",
   "metadata": {},
   "outputs": [],
   "source": [
    "map1_var = np.var(scores_relative_diff_map1)\n",
    "map2_var = np.var(scores_relative_diff_map2)\n",
    "map3_var = np.var(scores_relative_diff_map3)\n",
    "map4_var = np.var(scores_relative_diff_map4)\n",
    "map5_var = np.var(scores_relative_diff_map5)\n",
    "map6_var = np.var(scores_relative_diff_map6)\n",
    "map7_var = np.var(scores_relative_diff_map7)\n",
    "map8_var = np.var(scores_relative_diff_map8)\n",
    "\n",
    "mpp1_var = np.var(scores_relative_diff_mpp1)\n",
    "mpp2_var = np.var(scores_relative_diff_mpp2)\n",
    "mpp3_var = np.var(scores_relative_diff_mpp3)\n",
    "mpp4_var = np.var(scores_relative_diff_mpp4)\n",
    "mpp5_var = np.var(scores_relative_diff_mpp5)\n",
    "mpp6_var = np.var(scores_relative_diff_mpp6)"
   ]
  },
  {
   "cell_type": "code",
   "execution_count": 92,
   "id": "9fbd9ec6-b11b-425a-bd33-f67f02b53682",
   "metadata": {},
   "outputs": [
    {
     "data": {
      "application/vnd.plotly.v1+json": {
       "config": {
        "plotlyServerURL": "https://plot.ly"
       },
       "data": [
        {
         "error_y": {
          "array": [
           0.00031960161132399287,
           0.000309930162242475,
           0.0009732747311927071,
           0.001995457137326997,
           0.0008624427672265594,
           0.00015349535773751194
          ]
         },
         "hovertemplate": "Language=si<br>Perturbations=%{x}<br>Differences=%{y}<extra></extra>",
         "legendgroup": "si",
         "marker": {
          "color": "#636efa",
          "symbol": "circle"
         },
         "mode": "markers",
         "name": "si",
         "orientation": "v",
         "showlegend": true,
         "type": "scatter",
         "x": [
          "RemovePunctuation",
          "ReplacePunctuation",
          "RemoveDeterminers",
          "ReplaceDeterminers",
          "UPPERCASE",
          "lowercase"
         ],
         "xaxis": "x",
         "y": [
          0.009861105739480198,
          0.023959411016785268,
          0.02423650568181818,
          0.05562171652062656,
          0.03127791905167079,
          0.00553845698290532
         ],
         "yaxis": "y"
        }
       ],
       "layout": {
        "autosize": true,
        "legend": {
         "title": {
          "text": "Language"
         },
         "tracegroupgap": 0
        },
        "template": {
         "data": {
          "bar": [
           {
            "error_x": {
             "color": "#2a3f5f"
            },
            "error_y": {
             "color": "#2a3f5f"
            },
            "marker": {
             "line": {
              "color": "#E5ECF6",
              "width": 0.5
             }
            },
            "type": "bar"
           }
          ],
          "barpolar": [
           {
            "marker": {
             "line": {
              "color": "#E5ECF6",
              "width": 0.5
             }
            },
            "type": "barpolar"
           }
          ],
          "carpet": [
           {
            "aaxis": {
             "endlinecolor": "#2a3f5f",
             "gridcolor": "white",
             "linecolor": "white",
             "minorgridcolor": "white",
             "startlinecolor": "#2a3f5f"
            },
            "baxis": {
             "endlinecolor": "#2a3f5f",
             "gridcolor": "white",
             "linecolor": "white",
             "minorgridcolor": "white",
             "startlinecolor": "#2a3f5f"
            },
            "type": "carpet"
           }
          ],
          "choropleth": [
           {
            "colorbar": {
             "outlinewidth": 0,
             "ticks": ""
            },
            "type": "choropleth"
           }
          ],
          "contour": [
           {
            "colorbar": {
             "outlinewidth": 0,
             "ticks": ""
            },
            "colorscale": [
             [
              0,
              "#0d0887"
             ],
             [
              0.1111111111111111,
              "#46039f"
             ],
             [
              0.2222222222222222,
              "#7201a8"
             ],
             [
              0.3333333333333333,
              "#9c179e"
             ],
             [
              0.4444444444444444,
              "#bd3786"
             ],
             [
              0.5555555555555556,
              "#d8576b"
             ],
             [
              0.6666666666666666,
              "#ed7953"
             ],
             [
              0.7777777777777778,
              "#fb9f3a"
             ],
             [
              0.8888888888888888,
              "#fdca26"
             ],
             [
              1,
              "#f0f921"
             ]
            ],
            "type": "contour"
           }
          ],
          "contourcarpet": [
           {
            "colorbar": {
             "outlinewidth": 0,
             "ticks": ""
            },
            "type": "contourcarpet"
           }
          ],
          "heatmap": [
           {
            "colorbar": {
             "outlinewidth": 0,
             "ticks": ""
            },
            "colorscale": [
             [
              0,
              "#0d0887"
             ],
             [
              0.1111111111111111,
              "#46039f"
             ],
             [
              0.2222222222222222,
              "#7201a8"
             ],
             [
              0.3333333333333333,
              "#9c179e"
             ],
             [
              0.4444444444444444,
              "#bd3786"
             ],
             [
              0.5555555555555556,
              "#d8576b"
             ],
             [
              0.6666666666666666,
              "#ed7953"
             ],
             [
              0.7777777777777778,
              "#fb9f3a"
             ],
             [
              0.8888888888888888,
              "#fdca26"
             ],
             [
              1,
              "#f0f921"
             ]
            ],
            "type": "heatmap"
           }
          ],
          "heatmapgl": [
           {
            "colorbar": {
             "outlinewidth": 0,
             "ticks": ""
            },
            "colorscale": [
             [
              0,
              "#0d0887"
             ],
             [
              0.1111111111111111,
              "#46039f"
             ],
             [
              0.2222222222222222,
              "#7201a8"
             ],
             [
              0.3333333333333333,
              "#9c179e"
             ],
             [
              0.4444444444444444,
              "#bd3786"
             ],
             [
              0.5555555555555556,
              "#d8576b"
             ],
             [
              0.6666666666666666,
              "#ed7953"
             ],
             [
              0.7777777777777778,
              "#fb9f3a"
             ],
             [
              0.8888888888888888,
              "#fdca26"
             ],
             [
              1,
              "#f0f921"
             ]
            ],
            "type": "heatmapgl"
           }
          ],
          "histogram": [
           {
            "marker": {
             "colorbar": {
              "outlinewidth": 0,
              "ticks": ""
             }
            },
            "type": "histogram"
           }
          ],
          "histogram2d": [
           {
            "colorbar": {
             "outlinewidth": 0,
             "ticks": ""
            },
            "colorscale": [
             [
              0,
              "#0d0887"
             ],
             [
              0.1111111111111111,
              "#46039f"
             ],
             [
              0.2222222222222222,
              "#7201a8"
             ],
             [
              0.3333333333333333,
              "#9c179e"
             ],
             [
              0.4444444444444444,
              "#bd3786"
             ],
             [
              0.5555555555555556,
              "#d8576b"
             ],
             [
              0.6666666666666666,
              "#ed7953"
             ],
             [
              0.7777777777777778,
              "#fb9f3a"
             ],
             [
              0.8888888888888888,
              "#fdca26"
             ],
             [
              1,
              "#f0f921"
             ]
            ],
            "type": "histogram2d"
           }
          ],
          "histogram2dcontour": [
           {
            "colorbar": {
             "outlinewidth": 0,
             "ticks": ""
            },
            "colorscale": [
             [
              0,
              "#0d0887"
             ],
             [
              0.1111111111111111,
              "#46039f"
             ],
             [
              0.2222222222222222,
              "#7201a8"
             ],
             [
              0.3333333333333333,
              "#9c179e"
             ],
             [
              0.4444444444444444,
              "#bd3786"
             ],
             [
              0.5555555555555556,
              "#d8576b"
             ],
             [
              0.6666666666666666,
              "#ed7953"
             ],
             [
              0.7777777777777778,
              "#fb9f3a"
             ],
             [
              0.8888888888888888,
              "#fdca26"
             ],
             [
              1,
              "#f0f921"
             ]
            ],
            "type": "histogram2dcontour"
           }
          ],
          "mesh3d": [
           {
            "colorbar": {
             "outlinewidth": 0,
             "ticks": ""
            },
            "type": "mesh3d"
           }
          ],
          "parcoords": [
           {
            "line": {
             "colorbar": {
              "outlinewidth": 0,
              "ticks": ""
             }
            },
            "type": "parcoords"
           }
          ],
          "pie": [
           {
            "automargin": true,
            "type": "pie"
           }
          ],
          "scatter": [
           {
            "marker": {
             "colorbar": {
              "outlinewidth": 0,
              "ticks": ""
             }
            },
            "type": "scatter"
           }
          ],
          "scatter3d": [
           {
            "line": {
             "colorbar": {
              "outlinewidth": 0,
              "ticks": ""
             }
            },
            "marker": {
             "colorbar": {
              "outlinewidth": 0,
              "ticks": ""
             }
            },
            "type": "scatter3d"
           }
          ],
          "scattercarpet": [
           {
            "marker": {
             "colorbar": {
              "outlinewidth": 0,
              "ticks": ""
             }
            },
            "type": "scattercarpet"
           }
          ],
          "scattergeo": [
           {
            "marker": {
             "colorbar": {
              "outlinewidth": 0,
              "ticks": ""
             }
            },
            "type": "scattergeo"
           }
          ],
          "scattergl": [
           {
            "marker": {
             "colorbar": {
              "outlinewidth": 0,
              "ticks": ""
             }
            },
            "type": "scattergl"
           }
          ],
          "scattermapbox": [
           {
            "marker": {
             "colorbar": {
              "outlinewidth": 0,
              "ticks": ""
             }
            },
            "type": "scattermapbox"
           }
          ],
          "scatterpolar": [
           {
            "marker": {
             "colorbar": {
              "outlinewidth": 0,
              "ticks": ""
             }
            },
            "type": "scatterpolar"
           }
          ],
          "scatterpolargl": [
           {
            "marker": {
             "colorbar": {
              "outlinewidth": 0,
              "ticks": ""
             }
            },
            "type": "scatterpolargl"
           }
          ],
          "scatterternary": [
           {
            "marker": {
             "colorbar": {
              "outlinewidth": 0,
              "ticks": ""
             }
            },
            "type": "scatterternary"
           }
          ],
          "surface": [
           {
            "colorbar": {
             "outlinewidth": 0,
             "ticks": ""
            },
            "colorscale": [
             [
              0,
              "#0d0887"
             ],
             [
              0.1111111111111111,
              "#46039f"
             ],
             [
              0.2222222222222222,
              "#7201a8"
             ],
             [
              0.3333333333333333,
              "#9c179e"
             ],
             [
              0.4444444444444444,
              "#bd3786"
             ],
             [
              0.5555555555555556,
              "#d8576b"
             ],
             [
              0.6666666666666666,
              "#ed7953"
             ],
             [
              0.7777777777777778,
              "#fb9f3a"
             ],
             [
              0.8888888888888888,
              "#fdca26"
             ],
             [
              1,
              "#f0f921"
             ]
            ],
            "type": "surface"
           }
          ],
          "table": [
           {
            "cells": {
             "fill": {
              "color": "#EBF0F8"
             },
             "line": {
              "color": "white"
             }
            },
            "header": {
             "fill": {
              "color": "#C8D4E3"
             },
             "line": {
              "color": "white"
             }
            },
            "type": "table"
           }
          ]
         },
         "layout": {
          "annotationdefaults": {
           "arrowcolor": "#2a3f5f",
           "arrowhead": 0,
           "arrowwidth": 1
          },
          "autotypenumbers": "strict",
          "coloraxis": {
           "colorbar": {
            "outlinewidth": 0,
            "ticks": ""
           }
          },
          "colorscale": {
           "diverging": [
            [
             0,
             "#8e0152"
            ],
            [
             0.1,
             "#c51b7d"
            ],
            [
             0.2,
             "#de77ae"
            ],
            [
             0.3,
             "#f1b6da"
            ],
            [
             0.4,
             "#fde0ef"
            ],
            [
             0.5,
             "#f7f7f7"
            ],
            [
             0.6,
             "#e6f5d0"
            ],
            [
             0.7,
             "#b8e186"
            ],
            [
             0.8,
             "#7fbc41"
            ],
            [
             0.9,
             "#4d9221"
            ],
            [
             1,
             "#276419"
            ]
           ],
           "sequential": [
            [
             0,
             "#0d0887"
            ],
            [
             0.1111111111111111,
             "#46039f"
            ],
            [
             0.2222222222222222,
             "#7201a8"
            ],
            [
             0.3333333333333333,
             "#9c179e"
            ],
            [
             0.4444444444444444,
             "#bd3786"
            ],
            [
             0.5555555555555556,
             "#d8576b"
            ],
            [
             0.6666666666666666,
             "#ed7953"
            ],
            [
             0.7777777777777778,
             "#fb9f3a"
            ],
            [
             0.8888888888888888,
             "#fdca26"
            ],
            [
             1,
             "#f0f921"
            ]
           ],
           "sequentialminus": [
            [
             0,
             "#0d0887"
            ],
            [
             0.1111111111111111,
             "#46039f"
            ],
            [
             0.2222222222222222,
             "#7201a8"
            ],
            [
             0.3333333333333333,
             "#9c179e"
            ],
            [
             0.4444444444444444,
             "#bd3786"
            ],
            [
             0.5555555555555556,
             "#d8576b"
            ],
            [
             0.6666666666666666,
             "#ed7953"
            ],
            [
             0.7777777777777778,
             "#fb9f3a"
            ],
            [
             0.8888888888888888,
             "#fdca26"
            ],
            [
             1,
             "#f0f921"
            ]
           ]
          },
          "colorway": [
           "#636efa",
           "#EF553B",
           "#00cc96",
           "#ab63fa",
           "#FFA15A",
           "#19d3f3",
           "#FF6692",
           "#B6E880",
           "#FF97FF",
           "#FECB52"
          ],
          "font": {
           "color": "#2a3f5f"
          },
          "geo": {
           "bgcolor": "white",
           "lakecolor": "white",
           "landcolor": "#E5ECF6",
           "showlakes": true,
           "showland": true,
           "subunitcolor": "white"
          },
          "hoverlabel": {
           "align": "left"
          },
          "hovermode": "closest",
          "mapbox": {
           "style": "light"
          },
          "paper_bgcolor": "white",
          "plot_bgcolor": "#E5ECF6",
          "polar": {
           "angularaxis": {
            "gridcolor": "white",
            "linecolor": "white",
            "ticks": ""
           },
           "bgcolor": "#E5ECF6",
           "radialaxis": {
            "gridcolor": "white",
            "linecolor": "white",
            "ticks": ""
           }
          },
          "scene": {
           "xaxis": {
            "backgroundcolor": "#E5ECF6",
            "gridcolor": "white",
            "gridwidth": 2,
            "linecolor": "white",
            "showbackground": true,
            "ticks": "",
            "zerolinecolor": "white"
           },
           "yaxis": {
            "backgroundcolor": "#E5ECF6",
            "gridcolor": "white",
            "gridwidth": 2,
            "linecolor": "white",
            "showbackground": true,
            "ticks": "",
            "zerolinecolor": "white"
           },
           "zaxis": {
            "backgroundcolor": "#E5ECF6",
            "gridcolor": "white",
            "gridwidth": 2,
            "linecolor": "white",
            "showbackground": true,
            "ticks": "",
            "zerolinecolor": "white"
           }
          },
          "shapedefaults": {
           "line": {
            "color": "#2a3f5f"
           }
          },
          "ternary": {
           "aaxis": {
            "gridcolor": "white",
            "linecolor": "white",
            "ticks": ""
           },
           "baxis": {
            "gridcolor": "white",
            "linecolor": "white",
            "ticks": ""
           },
           "bgcolor": "#E5ECF6",
           "caxis": {
            "gridcolor": "white",
            "linecolor": "white",
            "ticks": ""
           }
          },
          "title": {
           "x": 0.05
          },
          "xaxis": {
           "automargin": true,
           "gridcolor": "white",
           "linecolor": "white",
           "ticks": "",
           "title": {
            "standoff": 15
           },
           "zerolinecolor": "white",
           "zerolinewidth": 2
          },
          "yaxis": {
           "automargin": true,
           "gridcolor": "white",
           "linecolor": "white",
           "ticks": "",
           "title": {
            "standoff": 15
           },
           "zerolinecolor": "white",
           "zerolinewidth": 2
          }
         }
        },
        "title": {
         "text": "Plotting Relative Difference in MPPs"
        },
        "xaxis": {
         "anchor": "y",
         "autorange": true,
         "domain": [
          0,
          1
         ],
         "range": [
          -0.29917822290703644,
          5.299178222907036
         ],
         "title": {
          "text": "Perturbations"
         },
         "type": "category"
        },
        "yaxis": {
         "anchor": "x",
         "autorange": true,
         "domain": [
          0,
          1
         ],
         "range": [
          0.0017835651850178296,
          0.06055578463021333
         ],
         "title": {
          "text": "Differences"
         },
         "type": "linear"
        }
       }
      },
      "image/png": "[encoded data removed]",
      "text/html": [
       "<div>                            <div id=\"aae41114-a596-4f1d-a150-3f2017cea394\" class=\"plotly-graph-div\" style=\"height:525px; width:100%;\"></div>            <script type=\"text/javascript\">                require([\"plotly\"], function(Plotly) {                    window.PLOTLYENV=window.PLOTLYENV || {};                                    if (document.getElementById(\"aae41114-a596-4f1d-a150-3f2017cea394\")) {                    Plotly.newPlot(                        \"aae41114-a596-4f1d-a150-3f2017cea394\",                        [{\"error_y\": {\"array\": [0.00031960161132399287, 0.000309930162242475, 0.0009732747311927071, 0.001995457137326997, 0.0008624427672265594, 0.00015349535773751194]}, \"hovertemplate\": \"Language=si<br>Perturbations=%{x}<br>Differences=%{y}<extra></extra>\", \"legendgroup\": \"si\", \"marker\": {\"color\": \"#636efa\", \"symbol\": \"circle\"}, \"mode\": \"markers\", \"name\": \"si\", \"orientation\": \"v\", \"showlegend\": true, \"type\": \"scatter\", \"x\": [\"RemovePunctuation\", \"ReplacePunctuation\", \"RemoveDeterminers\", \"ReplaceDeterminers\", \"UPPERCASE\", \"lowercase\"], \"xaxis\": \"x\", \"y\": [0.009861105739480198, 0.023959411016785268, 0.02423650568181818, 0.05562171652062656, 0.03127791905167079, 0.00553845698290532], \"yaxis\": \"y\"}],                        {\"legend\": {\"title\": {\"text\": \"Language\"}, \"tracegroupgap\": 0}, \"template\": {\"data\": {\"bar\": [{\"error_x\": {\"color\": \"#2a3f5f\"}, \"error_y\": {\"color\": \"#2a3f5f\"}, \"marker\": {\"line\": {\"color\": \"#E5ECF6\", \"width\": 0.5}}, \"type\": \"bar\"}], \"barpolar\": [{\"marker\": {\"line\": {\"color\": \"#E5ECF6\", \"width\": 0.5}}, \"type\": \"barpolar\"}], \"carpet\": [{\"aaxis\": {\"endlinecolor\": \"#2a3f5f\", \"gridcolor\": \"white\", \"linecolor\": \"white\", \"minorgridcolor\": \"white\", \"startlinecolor\": \"#2a3f5f\"}, \"baxis\": {\"endlinecolor\": \"#2a3f5f\", \"gridcolor\": \"white\", \"linecolor\": \"white\", \"minorgridcolor\": \"white\", \"startlinecolor\": \"#2a3f5f\"}, \"type\": \"carpet\"}], \"choropleth\": [{\"colorbar\": {\"outlinewidth\": 0, \"ticks\": \"\"}, \"type\": \"choropleth\"}], \"contour\": [{\"colorbar\": {\"outlinewidth\": 0, \"ticks\": \"\"}, \"colorscale\": [[0.0, \"#0d0887\"], [0.1111111111111111, \"#46039f\"], [0.2222222222222222, \"#7201a8\"], [0.3333333333333333, \"#9c179e\"], [0.4444444444444444, \"#bd3786\"], [0.5555555555555556, \"#d8576b\"], [0.6666666666666666, \"#ed7953\"], [0.7777777777777778, \"#fb9f3a\"], [0.8888888888888888, \"#fdca26\"], [1.0, \"#f0f921\"]], \"type\": \"contour\"}], \"contourcarpet\": [{\"colorbar\": {\"outlinewidth\": 0, \"ticks\": \"\"}, \"type\": \"contourcarpet\"}], \"heatmap\": [{\"colorbar\": {\"outlinewidth\": 0, \"ticks\": \"\"}, \"colorscale\": [[0.0, \"#0d0887\"], [0.1111111111111111, \"#46039f\"], [0.2222222222222222, \"#7201a8\"], [0.3333333333333333, \"#9c179e\"], [0.4444444444444444, \"#bd3786\"], [0.5555555555555556, \"#d8576b\"], [0.6666666666666666, \"#ed7953\"], [0.7777777777777778, \"#fb9f3a\"], [0.8888888888888888, \"#fdca26\"], [1.0, \"#f0f921\"]], \"type\": \"heatmap\"}], \"heatmapgl\": [{\"colorbar\": {\"outlinewidth\": 0, \"ticks\": \"\"}, \"colorscale\": [[0.0, \"#0d0887\"], [0.1111111111111111, \"#46039f\"], [0.2222222222222222, \"#7201a8\"], [0.3333333333333333, \"#9c179e\"], [0.4444444444444444, \"#bd3786\"], [0.5555555555555556, \"#d8576b\"], [0.6666666666666666, \"#ed7953\"], [0.7777777777777778, \"#fb9f3a\"], [0.8888888888888888, \"#fdca26\"], [1.0, \"#f0f921\"]], \"type\": \"heatmapgl\"}], \"histogram\": [{\"marker\": {\"colorbar\": {\"outlinewidth\": 0, \"ticks\": \"\"}}, \"type\": \"histogram\"}], \"histogram2d\": [{\"colorbar\": {\"outlinewidth\": 0, \"ticks\": \"\"}, \"colorscale\": [[0.0, \"#0d0887\"], [0.1111111111111111, \"#46039f\"], [0.2222222222222222, \"#7201a8\"], [0.3333333333333333, \"#9c179e\"], [0.4444444444444444, \"#bd3786\"], [0.5555555555555556, \"#d8576b\"], [0.6666666666666666, \"#ed7953\"], [0.7777777777777778, \"#fb9f3a\"], [0.8888888888888888, \"#fdca26\"], [1.0, \"#f0f921\"]], \"type\": \"histogram2d\"}], \"histogram2dcontour\": [{\"colorbar\": {\"outlinewidth\": 0, \"ticks\": \"\"}, \"colorscale\": [[0.0, \"#0d0887\"], [0.1111111111111111, \"#46039f\"], [0.2222222222222222, \"#7201a8\"], [0.3333333333333333, \"#9c179e\"], [0.4444444444444444, \"#bd3786\"], [0.5555555555555556, \"#d8576b\"], [0.6666666666666666, \"#ed7953\"], [0.7777777777777778, \"#fb9f3a\"], [0.8888888888888888, \"#fdca26\"], [1.0, \"#f0f921\"]], \"type\": \"histogram2dcontour\"}], \"mesh3d\": [{\"colorbar\": {\"outlinewidth\": 0, \"ticks\": \"\"}, \"type\": \"mesh3d\"}], \"parcoords\": [{\"line\": {\"colorbar\": {\"outlinewidth\": 0, \"ticks\": \"\"}}, \"type\": \"parcoords\"}], \"pie\": [{\"automargin\": true, \"type\": \"pie\"}], \"scatter\": [{\"marker\": {\"colorbar\": {\"outlinewidth\": 0, \"ticks\": \"\"}}, \"type\": \"scatter\"}], \"scatter3d\": [{\"line\": {\"colorbar\": {\"outlinewidth\": 0, \"ticks\": \"\"}}, \"marker\": {\"colorbar\": {\"outlinewidth\": 0, \"ticks\": \"\"}}, \"type\": \"scatter3d\"}], \"scattercarpet\": [{\"marker\": {\"colorbar\": {\"outlinewidth\": 0, \"ticks\": \"\"}}, \"type\": \"scattercarpet\"}], \"scattergeo\": [{\"marker\": {\"colorbar\": {\"outlinewidth\": 0, \"ticks\": \"\"}}, \"type\": \"scattergeo\"}], \"scattergl\": [{\"marker\": {\"colorbar\": {\"outlinewidth\": 0, \"ticks\": \"\"}}, \"type\": \"scattergl\"}], \"scattermapbox\": [{\"marker\": {\"colorbar\": {\"outlinewidth\": 0, \"ticks\": \"\"}}, \"type\": \"scattermapbox\"}], \"scatterpolar\": [{\"marker\": {\"colorbar\": {\"outlinewidth\": 0, \"ticks\": \"\"}}, \"type\": \"scatterpolar\"}], \"scatterpolargl\": [{\"marker\": {\"colorbar\": {\"outlinewidth\": 0, \"ticks\": \"\"}}, \"type\": \"scatterpolargl\"}], \"scatterternary\": [{\"marker\": {\"colorbar\": {\"outlinewidth\": 0, \"ticks\": \"\"}}, \"type\": \"scatterternary\"}], \"surface\": [{\"colorbar\": {\"outlinewidth\": 0, \"ticks\": \"\"}, \"colorscale\": [[0.0, \"#0d0887\"], [0.1111111111111111, \"#46039f\"], [0.2222222222222222, \"#7201a8\"], [0.3333333333333333, \"#9c179e\"], [0.4444444444444444, \"#bd3786\"], [0.5555555555555556, \"#d8576b\"], [0.6666666666666666, \"#ed7953\"], [0.7777777777777778, \"#fb9f3a\"], [0.8888888888888888, \"#fdca26\"], [1.0, \"#f0f921\"]], \"type\": \"surface\"}], \"table\": [{\"cells\": {\"fill\": {\"color\": \"#EBF0F8\"}, \"line\": {\"color\": \"white\"}}, \"header\": {\"fill\": {\"color\": \"#C8D4E3\"}, \"line\": {\"color\": \"white\"}}, \"type\": \"table\"}]}, \"layout\": {\"annotationdefaults\": {\"arrowcolor\": \"#2a3f5f\", \"arrowhead\": 0, \"arrowwidth\": 1}, \"autotypenumbers\": \"strict\", \"coloraxis\": {\"colorbar\": {\"outlinewidth\": 0, \"ticks\": \"\"}}, \"colorscale\": {\"diverging\": [[0, \"#8e0152\"], [0.1, \"#c51b7d\"], [0.2, \"#de77ae\"], [0.3, \"#f1b6da\"], [0.4, \"#fde0ef\"], [0.5, \"#f7f7f7\"], [0.6, \"#e6f5d0\"], [0.7, \"#b8e186\"], [0.8, \"#7fbc41\"], [0.9, \"#4d9221\"], [1, \"#276419\"]], \"sequential\": [[0.0, \"#0d0887\"], [0.1111111111111111, \"#46039f\"], [0.2222222222222222, \"#7201a8\"], [0.3333333333333333, \"#9c179e\"], [0.4444444444444444, \"#bd3786\"], [0.5555555555555556, \"#d8576b\"], [0.6666666666666666, \"#ed7953\"], [0.7777777777777778, \"#fb9f3a\"], [0.8888888888888888, \"#fdca26\"], [1.0, \"#f0f921\"]], \"sequentialminus\": [[0.0, \"#0d0887\"], [0.1111111111111111, \"#46039f\"], [0.2222222222222222, \"#7201a8\"], [0.3333333333333333, \"#9c179e\"], [0.4444444444444444, \"#bd3786\"], [0.5555555555555556, \"#d8576b\"], [0.6666666666666666, \"#ed7953\"], [0.7777777777777778, \"#fb9f3a\"], [0.8888888888888888, \"#fdca26\"], [1.0, \"#f0f921\"]]}, \"colorway\": [\"#636efa\", \"#EF553B\", \"#00cc96\", \"#ab63fa\", \"#FFA15A\", \"#19d3f3\", \"#FF6692\", \"#B6E880\", \"#FF97FF\", \"#FECB52\"], \"font\": {\"color\": \"#2a3f5f\"}, \"geo\": {\"bgcolor\": \"white\", \"lakecolor\": \"white\", \"landcolor\": \"#E5ECF6\", \"showlakes\": true, \"showland\": true, \"subunitcolor\": \"white\"}, \"hoverlabel\": {\"align\": \"left\"}, \"hovermode\": \"closest\", \"mapbox\": {\"style\": \"light\"}, \"paper_bgcolor\": \"white\", \"plot_bgcolor\": \"#E5ECF6\", \"polar\": {\"angularaxis\": {\"gridcolor\": \"white\", \"linecolor\": \"white\", \"ticks\": \"\"}, \"bgcolor\": \"#E5ECF6\", \"radialaxis\": {\"gridcolor\": \"white\", \"linecolor\": \"white\", \"ticks\": \"\"}}, \"scene\": {\"xaxis\": {\"backgroundcolor\": \"#E5ECF6\", \"gridcolor\": \"white\", \"gridwidth\": 2, \"linecolor\": \"white\", \"showbackground\": true, \"ticks\": \"\", \"zerolinecolor\": \"white\"}, \"yaxis\": {\"backgroundcolor\": \"#E5ECF6\", \"gridcolor\": \"white\", \"gridwidth\": 2, \"linecolor\": \"white\", \"showbackground\": true, \"ticks\": \"\", \"zerolinecolor\": \"white\"}, \"zaxis\": {\"backgroundcolor\": \"#E5ECF6\", \"gridcolor\": \"white\", \"gridwidth\": 2, \"linecolor\": \"white\", \"showbackground\": true, \"ticks\": \"\", \"zerolinecolor\": \"white\"}}, \"shapedefaults\": {\"line\": {\"color\": \"#2a3f5f\"}}, \"ternary\": {\"aaxis\": {\"gridcolor\": \"white\", \"linecolor\": \"white\", \"ticks\": \"\"}, \"baxis\": {\"gridcolor\": \"white\", \"linecolor\": \"white\", \"ticks\": \"\"}, \"bgcolor\": \"#E5ECF6\", \"caxis\": {\"gridcolor\": \"white\", \"linecolor\": \"white\", \"ticks\": \"\"}}, \"title\": {\"x\": 0.05}, \"xaxis\": {\"automargin\": true, \"gridcolor\": \"white\", \"linecolor\": \"white\", \"ticks\": \"\", \"title\": {\"standoff\": 15}, \"zerolinecolor\": \"white\", \"zerolinewidth\": 2}, \"yaxis\": {\"automargin\": true, \"gridcolor\": \"white\", \"linecolor\": \"white\", \"ticks\": \"\", \"title\": {\"standoff\": 15}, \"zerolinecolor\": \"white\", \"zerolinewidth\": 2}}}, \"title\": {\"text\": \"Plotting Relative Difference in MPPs\"}, \"xaxis\": {\"anchor\": \"y\", \"domain\": [0.0, 1.0], \"title\": {\"text\": \"Perturbations\"}}, \"yaxis\": {\"anchor\": \"x\", \"domain\": [0.0, 1.0], \"title\": {\"text\": \"Differences\"}}},                        {\"responsive\": true}                    ).then(function(){\n",
       "                            \n",
       "var gd = document.getElementById('aae41114-a596-4f1d-a150-3f2017cea394');\n",
       "var x = new MutationObserver(function (mutations, observer) {{\n",
       "        var display = window.getComputedStyle(gd).display;\n",
       "        if (!display || display === 'none') {{\n",
       "            console.log([gd, 'removed!']);\n",
       "            Plotly.purge(gd);\n",
       "            observer.disconnect();\n",
       "        }}\n",
       "}});\n",
       "\n",
       "// Listen for the removal of the full notebook cells\n",
       "var notebookContainer = gd.closest('#notebook-container');\n",
       "if (notebookContainer) {{\n",
       "    x.observe(notebookContainer, {childList: true});\n",
       "}}\n",
       "\n",
       "// Listen for the clearing of the current output cell\n",
       "var outputEl = gd.closest('.output');\n",
       "if (outputEl) {{\n",
       "    x.observe(outputEl, {childList: true});\n",
       "}}\n",
       "\n",
       "                        })                };                });            </script>        </div>"
      ]
     },
     "metadata": {},
     "output_type": "display_data"
    }
   ],
   "source": [
    "X_mpp = np.array([mpp1_mean, mpp2_mean, mpp3_mean, mpp4_mean, mpp5_mean, mpp6_mean])\n",
    "err_mpp = np.array([mpp1_var, mpp2_var, mpp3_var, mpp4_var, mpp5_var, mpp6_var])\n",
    "rows = [\"RemovePunctuation\", \"ReplacePunctuation\", \"RemoveDeterminers\", \"ReplaceDeterminers\", \"UPPERCASE\", \"lowercase\"]\n",
    "lang = []\n",
    "for i in range(len(X_mpp)):\n",
    "    lang.append(source_lang)\n",
    "\n",
    "dfplot = pd.DataFrame(dict(Perturbations=rows, Differences=X_mpp, error=err_mpp, Language=lang))\n",
    "\n",
    "fig = px.scatter(dfplot, title=\"Plotting Relative Difference in MPPs\", y=\"Differences\", x=\"Perturbations\", error_y=\"error\", color=\"Language\")\n",
    "fig.show()"
   ]
  },
  {
   "cell_type": "code",
   "execution_count": 93,
   "id": "65cd322b-8c38-4ef1-9136-20e0fa3b1803",
   "metadata": {},
   "outputs": [
    {
     "data": {
      "application/vnd.plotly.v1+json": {
       "config": {
        "plotlyServerURL": "https://plot.ly"
       },
       "data": [
        {
         "error_y": {
          "array": [
           0.00028581855710872934,
           0.0007828917818573243,
           0.0008150215357359078,
           0.0012980815721643799,
           0.0015586037520679298,
           0.002541462646496201,
           0.004316515706560726,
           0.005398244438069368
          ]
         },
         "hovertemplate": "Language=si<br>Perturbations=%{x}<br>Differences=%{y}<extra></extra>",
         "legendgroup": "si",
         "marker": {
          "color": "#636efa",
          "symbol": "circle"
         },
         "mode": "markers",
         "name": "si",
         "orientation": "v",
         "showlegend": true,
         "type": "scatter",
         "x": [
          "RemoveNegation",
          "RemoveWords",
          "DuplicateWords",
          "InsertWords",
          "ReplaceWords",
          "BERTSentenceReplace",
          "ReplaceWordsWithAntonyms",
          "SourceAsTarget"
         ],
         "xaxis": "x",
         "y": [
          0.016068892045454544,
          0.041453144337871284,
          0.04596874879138304,
          0.08363085454053218,
          0.09238755632155013,
          0.10857417040532177,
          0.10489521536597596,
          -0.027611458655631187
         ],
         "yaxis": "y"
        }
       ],
       "layout": {
        "autosize": true,
        "legend": {
         "title": {
          "text": "Language"
         },
         "tracegroupgap": 0
        },
        "template": {
         "data": {
          "bar": [
           {
            "error_x": {
             "color": "#2a3f5f"
            },
            "error_y": {
             "color": "#2a3f5f"
            },
            "marker": {
             "line": {
              "color": "#E5ECF6",
              "width": 0.5
             }
            },
            "type": "bar"
           }
          ],
          "barpolar": [
           {
            "marker": {
             "line": {
              "color": "#E5ECF6",
              "width": 0.5
             }
            },
            "type": "barpolar"
           }
          ],
          "carpet": [
           {
            "aaxis": {
             "endlinecolor": "#2a3f5f",
             "gridcolor": "white",
             "linecolor": "white",
             "minorgridcolor": "white",
             "startlinecolor": "#2a3f5f"
            },
            "baxis": {
             "endlinecolor": "#2a3f5f",
             "gridcolor": "white",
             "linecolor": "white",
             "minorgridcolor": "white",
             "startlinecolor": "#2a3f5f"
            },
            "type": "carpet"
           }
          ],
          "choropleth": [
           {
            "colorbar": {
             "outlinewidth": 0,
             "ticks": ""
            },
            "type": "choropleth"
           }
          ],
          "contour": [
           {
            "colorbar": {
             "outlinewidth": 0,
             "ticks": ""
            },
            "colorscale": [
             [
              0,
              "#0d0887"
             ],
             [
              0.1111111111111111,
              "#46039f"
             ],
             [
              0.2222222222222222,
              "#7201a8"
             ],
             [
              0.3333333333333333,
              "#9c179e"
             ],
             [
              0.4444444444444444,
              "#bd3786"
             ],
             [
              0.5555555555555556,
              "#d8576b"
             ],
             [
              0.6666666666666666,
              "#ed7953"
             ],
             [
              0.7777777777777778,
              "#fb9f3a"
             ],
             [
              0.8888888888888888,
              "#fdca26"
             ],
             [
              1,
              "#f0f921"
             ]
            ],
            "type": "contour"
           }
          ],
          "contourcarpet": [
           {
            "colorbar": {
             "outlinewidth": 0,
             "ticks": ""
            },
            "type": "contourcarpet"
           }
          ],
          "heatmap": [
           {
            "colorbar": {
             "outlinewidth": 0,
             "ticks": ""
            },
            "colorscale": [
             [
              0,
              "#0d0887"
             ],
             [
              0.1111111111111111,
              "#46039f"
             ],
             [
              0.2222222222222222,
              "#7201a8"
             ],
             [
              0.3333333333333333,
              "#9c179e"
             ],
             [
              0.4444444444444444,
              "#bd3786"
             ],
             [
              0.5555555555555556,
              "#d8576b"
             ],
             [
              0.6666666666666666,
              "#ed7953"
             ],
             [
              0.7777777777777778,
              "#fb9f3a"
             ],
             [
              0.8888888888888888,
              "#fdca26"
             ],
             [
              1,
              "#f0f921"
             ]
            ],
            "type": "heatmap"
           }
          ],
          "heatmapgl": [
           {
            "colorbar": {
             "outlinewidth": 0,
             "ticks": ""
            },
            "colorscale": [
             [
              0,
              "#0d0887"
             ],
             [
              0.1111111111111111,
              "#46039f"
             ],
             [
              0.2222222222222222,
              "#7201a8"
             ],
             [
              0.3333333333333333,
              "#9c179e"
             ],
             [
              0.4444444444444444,
              "#bd3786"
             ],
             [
              0.5555555555555556,
              "#d8576b"
             ],
             [
              0.6666666666666666,
              "#ed7953"
             ],
             [
              0.7777777777777778,
              "#fb9f3a"
             ],
             [
              0.8888888888888888,
              "#fdca26"
             ],
             [
              1,
              "#f0f921"
             ]
            ],
            "type": "heatmapgl"
           }
          ],
          "histogram": [
           {
            "marker": {
             "colorbar": {
              "outlinewidth": 0,
              "ticks": ""
             }
            },
            "type": "histogram"
           }
          ],
          "histogram2d": [
           {
            "colorbar": {
             "outlinewidth": 0,
             "ticks": ""
            },
            "colorscale": [
             [
              0,
              "#0d0887"
             ],
             [
              0.1111111111111111,
              "#46039f"
             ],
             [
              0.2222222222222222,
              "#7201a8"
             ],
             [
              0.3333333333333333,
              "#9c179e"
             ],
             [
              0.4444444444444444,
              "#bd3786"
             ],
             [
              0.5555555555555556,
              "#d8576b"
             ],
             [
              0.6666666666666666,
              "#ed7953"
             ],
             [
              0.7777777777777778,
              "#fb9f3a"
             ],
             [
              0.8888888888888888,
              "#fdca26"
             ],
             [
              1,
              "#f0f921"
             ]
            ],
            "type": "histogram2d"
           }
          ],
          "histogram2dcontour": [
           {
            "colorbar": {
             "outlinewidth": 0,
             "ticks": ""
            },
            "colorscale": [
             [
              0,
              "#0d0887"
             ],
             [
              0.1111111111111111,
              "#46039f"
             ],
             [
              0.2222222222222222,
              "#7201a8"
             ],
             [
              0.3333333333333333,
              "#9c179e"
             ],
             [
              0.4444444444444444,
              "#bd3786"
             ],
             [
              0.5555555555555556,
              "#d8576b"
             ],
             [
              0.6666666666666666,
              "#ed7953"
             ],
             [
              0.7777777777777778,
              "#fb9f3a"
             ],
             [
              0.8888888888888888,
              "#fdca26"
             ],
             [
              1,
              "#f0f921"
             ]
            ],
            "type": "histogram2dcontour"
           }
          ],
          "mesh3d": [
           {
            "colorbar": {
             "outlinewidth": 0,
             "ticks": ""
            },
            "type": "mesh3d"
           }
          ],
          "parcoords": [
           {
            "line": {
             "colorbar": {
              "outlinewidth": 0,
              "ticks": ""
             }
            },
            "type": "parcoords"
           }
          ],
          "pie": [
           {
            "automargin": true,
            "type": "pie"
           }
          ],
          "scatter": [
           {
            "marker": {
             "colorbar": {
              "outlinewidth": 0,
              "ticks": ""
             }
            },
            "type": "scatter"
           }
          ],
          "scatter3d": [
           {
            "line": {
             "colorbar": {
              "outlinewidth": 0,
              "ticks": ""
             }
            },
            "marker": {
             "colorbar": {
              "outlinewidth": 0,
              "ticks": ""
             }
            },
            "type": "scatter3d"
           }
          ],
          "scattercarpet": [
           {
            "marker": {
             "colorbar": {
              "outlinewidth": 0,
              "ticks": ""
             }
            },
            "type": "scattercarpet"
           }
          ],
          "scattergeo": [
           {
            "marker": {
             "colorbar": {
              "outlinewidth": 0,
              "ticks": ""
             }
            },
            "type": "scattergeo"
           }
          ],
          "scattergl": [
           {
            "marker": {
             "colorbar": {
              "outlinewidth": 0,
              "ticks": ""
             }
            },
            "type": "scattergl"
           }
          ],
          "scattermapbox": [
           {
            "marker": {
             "colorbar": {
              "outlinewidth": 0,
              "ticks": ""
             }
            },
            "type": "scattermapbox"
           }
          ],
          "scatterpolar": [
           {
            "marker": {
             "colorbar": {
              "outlinewidth": 0,
              "ticks": ""
             }
            },
            "type": "scatterpolar"
           }
          ],
          "scatterpolargl": [
           {
            "marker": {
             "colorbar": {
              "outlinewidth": 0,
              "ticks": ""
             }
            },
            "type": "scatterpolargl"
           }
          ],
          "scatterternary": [
           {
            "marker": {
             "colorbar": {
              "outlinewidth": 0,
              "ticks": ""
             }
            },
            "type": "scatterternary"
           }
          ],
          "surface": [
           {
            "colorbar": {
             "outlinewidth": 0,
             "ticks": ""
            },
            "colorscale": [
             [
              0,
              "#0d0887"
             ],
             [
              0.1111111111111111,
              "#46039f"
             ],
             [
              0.2222222222222222,
              "#7201a8"
             ],
             [
              0.3333333333333333,
              "#9c179e"
             ],
             [
              0.4444444444444444,
              "#bd3786"
             ],
             [
              0.5555555555555556,
              "#d8576b"
             ],
             [
              0.6666666666666666,
              "#ed7953"
             ],
             [
              0.7777777777777778,
              "#fb9f3a"
             ],
             [
              0.8888888888888888,
              "#fdca26"
             ],
             [
              1,
              "#f0f921"
             ]
            ],
            "type": "surface"
           }
          ],
          "table": [
           {
            "cells": {
             "fill": {
              "color": "#EBF0F8"
             },
             "line": {
              "color": "white"
             }
            },
            "header": {
             "fill": {
              "color": "#C8D4E3"
             },
             "line": {
              "color": "white"
             }
            },
            "type": "table"
           }
          ]
         },
         "layout": {
          "annotationdefaults": {
           "arrowcolor": "#2a3f5f",
           "arrowhead": 0,
           "arrowwidth": 1
          },
          "autotypenumbers": "strict",
          "coloraxis": {
           "colorbar": {
            "outlinewidth": 0,
            "ticks": ""
           }
          },
          "colorscale": {
           "diverging": [
            [
             0,
             "#8e0152"
            ],
            [
             0.1,
             "#c51b7d"
            ],
            [
             0.2,
             "#de77ae"
            ],
            [
             0.3,
             "#f1b6da"
            ],
            [
             0.4,
             "#fde0ef"
            ],
            [
             0.5,
             "#f7f7f7"
            ],
            [
             0.6,
             "#e6f5d0"
            ],
            [
             0.7,
             "#b8e186"
            ],
            [
             0.8,
             "#7fbc41"
            ],
            [
             0.9,
             "#4d9221"
            ],
            [
             1,
             "#276419"
            ]
           ],
           "sequential": [
            [
             0,
             "#0d0887"
            ],
            [
             0.1111111111111111,
             "#46039f"
            ],
            [
             0.2222222222222222,
             "#7201a8"
            ],
            [
             0.3333333333333333,
             "#9c179e"
            ],
            [
             0.4444444444444444,
             "#bd3786"
            ],
            [
             0.5555555555555556,
             "#d8576b"
            ],
            [
             0.6666666666666666,
             "#ed7953"
            ],
            [
             0.7777777777777778,
             "#fb9f3a"
            ],
            [
             0.8888888888888888,
             "#fdca26"
            ],
            [
             1,
             "#f0f921"
            ]
           ],
           "sequentialminus": [
            [
             0,
             "#0d0887"
            ],
            [
             0.1111111111111111,
             "#46039f"
            ],
            [
             0.2222222222222222,
             "#7201a8"
            ],
            [
             0.3333333333333333,
             "#9c179e"
            ],
            [
             0.4444444444444444,
             "#bd3786"
            ],
            [
             0.5555555555555556,
             "#d8576b"
            ],
            [
             0.6666666666666666,
             "#ed7953"
            ],
            [
             0.7777777777777778,
             "#fb9f3a"
            ],
            [
             0.8888888888888888,
             "#fdca26"
            ],
            [
             1,
             "#f0f921"
            ]
           ]
          },
          "colorway": [
           "#636efa",
           "#EF553B",
           "#00cc96",
           "#ab63fa",
           "#FFA15A",
           "#19d3f3",
           "#FF6692",
           "#B6E880",
           "#FF97FF",
           "#FECB52"
          ],
          "font": {
           "color": "#2a3f5f"
          },
          "geo": {
           "bgcolor": "white",
           "lakecolor": "white",
           "landcolor": "#E5ECF6",
           "showlakes": true,
           "showland": true,
           "subunitcolor": "white"
          },
          "hoverlabel": {
           "align": "left"
          },
          "hovermode": "closest",
          "mapbox": {
           "style": "light"
          },
          "paper_bgcolor": "white",
          "plot_bgcolor": "#E5ECF6",
          "polar": {
           "angularaxis": {
            "gridcolor": "white",
            "linecolor": "white",
            "ticks": ""
           },
           "bgcolor": "#E5ECF6",
           "radialaxis": {
            "gridcolor": "white",
            "linecolor": "white",
            "ticks": ""
           }
          },
          "scene": {
           "xaxis": {
            "backgroundcolor": "#E5ECF6",
            "gridcolor": "white",
            "gridwidth": 2,
            "linecolor": "white",
            "showbackground": true,
            "ticks": "",
            "zerolinecolor": "white"
           },
           "yaxis": {
            "backgroundcolor": "#E5ECF6",
            "gridcolor": "white",
            "gridwidth": 2,
            "linecolor": "white",
            "showbackground": true,
            "ticks": "",
            "zerolinecolor": "white"
           },
           "zaxis": {
            "backgroundcolor": "#E5ECF6",
            "gridcolor": "white",
            "gridwidth": 2,
            "linecolor": "white",
            "showbackground": true,
            "ticks": "",
            "zerolinecolor": "white"
           }
          },
          "shapedefaults": {
           "line": {
            "color": "#2a3f5f"
           }
          },
          "ternary": {
           "aaxis": {
            "gridcolor": "white",
            "linecolor": "white",
            "ticks": ""
           },
           "baxis": {
            "gridcolor": "white",
            "linecolor": "white",
            "ticks": ""
           },
           "bgcolor": "#E5ECF6",
           "caxis": {
            "gridcolor": "white",
            "linecolor": "white",
            "ticks": ""
           }
          },
          "title": {
           "x": 0.05
          },
          "xaxis": {
           "automargin": true,
           "gridcolor": "white",
           "linecolor": "white",
           "ticks": "",
           "title": {
            "standoff": 15
           },
           "zerolinecolor": "white",
           "zerolinewidth": 2
          },
          "yaxis": {
           "automargin": true,
           "gridcolor": "white",
           "linecolor": "white",
           "ticks": "",
           "title": {
            "standoff": 15
           },
           "zerolinecolor": "white",
           "zerolinewidth": 2
          }
         }
        },
        "title": {
         "text": "Plotting Relative Difference in MAPs"
        },
        "xaxis": {
         "anchor": "y",
         "autorange": true,
         "domain": [
          0,
          1
         ],
         "range": [
          -0.41884951206985105,
          7.418849512069851
         ],
         "title": {
          "text": "Perturbations"
         },
         "type": "category"
        },
        "yaxis": {
         "anchor": "x",
         "autorange": true,
         "domain": [
          0,
          1
         ],
         "range": [
          -0.04103393014400776,
          0.11945061086213628
         ],
         "title": {
          "text": "Differences"
         },
         "type": "linear"
        }
       }
      },
      "image/png": "[encoded data removed]",
      "text/html": [
       "<div>                            <div id=\"863394b9-7cee-4185-97a3-e8908a0d0932\" class=\"plotly-graph-div\" style=\"height:525px; width:100%;\"></div>            <script type=\"text/javascript\">                require([\"plotly\"], function(Plotly) {                    window.PLOTLYENV=window.PLOTLYENV || {};                                    if (document.getElementById(\"863394b9-7cee-4185-97a3-e8908a0d0932\")) {                    Plotly.newPlot(                        \"863394b9-7cee-4185-97a3-e8908a0d0932\",                        [{\"error_y\": {\"array\": [0.00028581855710872934, 0.0007828917818573243, 0.0008150215357359078, 0.0012980815721643799, 0.0015586037520679298, 0.002541462646496201, 0.004316515706560726, 0.005398244438069368]}, \"hovertemplate\": \"Language=si<br>Perturbations=%{x}<br>Differences=%{y}<extra></extra>\", \"legendgroup\": \"si\", \"marker\": {\"color\": \"#636efa\", \"symbol\": \"circle\"}, \"mode\": \"markers\", \"name\": \"si\", \"orientation\": \"v\", \"showlegend\": true, \"type\": \"scatter\", \"x\": [\"RemoveNegation\", \"RemoveWords\", \"DuplicateWords\", \"InsertWords\", \"ReplaceWords\", \"BERTSentenceReplace\", \"ReplaceWordsWithAntonyms\", \"SourceAsTarget\"], \"xaxis\": \"x\", \"y\": [0.016068892045454544, 0.041453144337871284, 0.04596874879138304, 0.08363085454053218, 0.09238755632155013, 0.10857417040532177, 0.10489521536597596, -0.027611458655631187], \"yaxis\": \"y\"}],                        {\"legend\": {\"title\": {\"text\": \"Language\"}, \"tracegroupgap\": 0}, \"template\": {\"data\": {\"bar\": [{\"error_x\": {\"color\": \"#2a3f5f\"}, \"error_y\": {\"color\": \"#2a3f5f\"}, \"marker\": {\"line\": {\"color\": \"#E5ECF6\", \"width\": 0.5}}, \"type\": \"bar\"}], \"barpolar\": [{\"marker\": {\"line\": {\"color\": \"#E5ECF6\", \"width\": 0.5}}, \"type\": \"barpolar\"}], \"carpet\": [{\"aaxis\": {\"endlinecolor\": \"#2a3f5f\", \"gridcolor\": \"white\", \"linecolor\": \"white\", \"minorgridcolor\": \"white\", \"startlinecolor\": \"#2a3f5f\"}, \"baxis\": {\"endlinecolor\": \"#2a3f5f\", \"gridcolor\": \"white\", \"linecolor\": \"white\", \"minorgridcolor\": \"white\", \"startlinecolor\": \"#2a3f5f\"}, \"type\": \"carpet\"}], \"choropleth\": [{\"colorbar\": {\"outlinewidth\": 0, \"ticks\": \"\"}, \"type\": \"choropleth\"}], \"contour\": [{\"colorbar\": {\"outlinewidth\": 0, \"ticks\": \"\"}, \"colorscale\": [[0.0, \"#0d0887\"], [0.1111111111111111, \"#46039f\"], [0.2222222222222222, \"#7201a8\"], [0.3333333333333333, \"#9c179e\"], [0.4444444444444444, \"#bd3786\"], [0.5555555555555556, \"#d8576b\"], [0.6666666666666666, \"#ed7953\"], [0.7777777777777778, \"#fb9f3a\"], [0.8888888888888888, \"#fdca26\"], [1.0, \"#f0f921\"]], \"type\": \"contour\"}], \"contourcarpet\": [{\"colorbar\": {\"outlinewidth\": 0, \"ticks\": \"\"}, \"type\": \"contourcarpet\"}], \"heatmap\": [{\"colorbar\": {\"outlinewidth\": 0, \"ticks\": \"\"}, \"colorscale\": [[0.0, \"#0d0887\"], [0.1111111111111111, \"#46039f\"], [0.2222222222222222, \"#7201a8\"], [0.3333333333333333, \"#9c179e\"], [0.4444444444444444, \"#bd3786\"], [0.5555555555555556, \"#d8576b\"], [0.6666666666666666, \"#ed7953\"], [0.7777777777777778, \"#fb9f3a\"], [0.8888888888888888, \"#fdca26\"], [1.0, \"#f0f921\"]], \"type\": \"heatmap\"}], \"heatmapgl\": [{\"colorbar\": {\"outlinewidth\": 0, \"ticks\": \"\"}, \"colorscale\": [[0.0, \"#0d0887\"], [0.1111111111111111, \"#46039f\"], [0.2222222222222222, \"#7201a8\"], [0.3333333333333333, \"#9c179e\"], [0.4444444444444444, \"#bd3786\"], [0.5555555555555556, \"#d8576b\"], [0.6666666666666666, \"#ed7953\"], [0.7777777777777778, \"#fb9f3a\"], [0.8888888888888888, \"#fdca26\"], [1.0, \"#f0f921\"]], \"type\": \"heatmapgl\"}], \"histogram\": [{\"marker\": {\"colorbar\": {\"outlinewidth\": 0, \"ticks\": \"\"}}, \"type\": \"histogram\"}], \"histogram2d\": [{\"colorbar\": {\"outlinewidth\": 0, \"ticks\": \"\"}, \"colorscale\": [[0.0, \"#0d0887\"], [0.1111111111111111, \"#46039f\"], [0.2222222222222222, \"#7201a8\"], [0.3333333333333333, \"#9c179e\"], [0.4444444444444444, \"#bd3786\"], [0.5555555555555556, \"#d8576b\"], [0.6666666666666666, \"#ed7953\"], [0.7777777777777778, \"#fb9f3a\"], [0.8888888888888888, \"#fdca26\"], [1.0, \"#f0f921\"]], \"type\": \"histogram2d\"}], \"histogram2dcontour\": [{\"colorbar\": {\"outlinewidth\": 0, \"ticks\": \"\"}, \"colorscale\": [[0.0, \"#0d0887\"], [0.1111111111111111, \"#46039f\"], [0.2222222222222222, \"#7201a8\"], [0.3333333333333333, \"#9c179e\"], [0.4444444444444444, \"#bd3786\"], [0.5555555555555556, \"#d8576b\"], [0.6666666666666666, \"#ed7953\"], [0.7777777777777778, \"#fb9f3a\"], [0.8888888888888888, \"#fdca26\"], [1.0, \"#f0f921\"]], \"type\": \"histogram2dcontour\"}], \"mesh3d\": [{\"colorbar\": {\"outlinewidth\": 0, \"ticks\": \"\"}, \"type\": \"mesh3d\"}], \"parcoords\": [{\"line\": {\"colorbar\": {\"outlinewidth\": 0, \"ticks\": \"\"}}, \"type\": \"parcoords\"}], \"pie\": [{\"automargin\": true, \"type\": \"pie\"}], \"scatter\": [{\"marker\": {\"colorbar\": {\"outlinewidth\": 0, \"ticks\": \"\"}}, \"type\": \"scatter\"}], \"scatter3d\": [{\"line\": {\"colorbar\": {\"outlinewidth\": 0, \"ticks\": \"\"}}, \"marker\": {\"colorbar\": {\"outlinewidth\": 0, \"ticks\": \"\"}}, \"type\": \"scatter3d\"}], \"scattercarpet\": [{\"marker\": {\"colorbar\": {\"outlinewidth\": 0, \"ticks\": \"\"}}, \"type\": \"scattercarpet\"}], \"scattergeo\": [{\"marker\": {\"colorbar\": {\"outlinewidth\": 0, \"ticks\": \"\"}}, \"type\": \"scattergeo\"}], \"scattergl\": [{\"marker\": {\"colorbar\": {\"outlinewidth\": 0, \"ticks\": \"\"}}, \"type\": \"scattergl\"}], \"scattermapbox\": [{\"marker\": {\"colorbar\": {\"outlinewidth\": 0, \"ticks\": \"\"}}, \"type\": \"scattermapbox\"}], \"scatterpolar\": [{\"marker\": {\"colorbar\": {\"outlinewidth\": 0, \"ticks\": \"\"}}, \"type\": \"scatterpolar\"}], \"scatterpolargl\": [{\"marker\": {\"colorbar\": {\"outlinewidth\": 0, \"ticks\": \"\"}}, \"type\": \"scatterpolargl\"}], \"scatterternary\": [{\"marker\": {\"colorbar\": {\"outlinewidth\": 0, \"ticks\": \"\"}}, \"type\": \"scatterternary\"}], \"surface\": [{\"colorbar\": {\"outlinewidth\": 0, \"ticks\": \"\"}, \"colorscale\": [[0.0, \"#0d0887\"], [0.1111111111111111, \"#46039f\"], [0.2222222222222222, \"#7201a8\"], [0.3333333333333333, \"#9c179e\"], [0.4444444444444444, \"#bd3786\"], [0.5555555555555556, \"#d8576b\"], [0.6666666666666666, \"#ed7953\"], [0.7777777777777778, \"#fb9f3a\"], [0.8888888888888888, \"#fdca26\"], [1.0, \"#f0f921\"]], \"type\": \"surface\"}], \"table\": [{\"cells\": {\"fill\": {\"color\": \"#EBF0F8\"}, \"line\": {\"color\": \"white\"}}, \"header\": {\"fill\": {\"color\": \"#C8D4E3\"}, \"line\": {\"color\": \"white\"}}, \"type\": \"table\"}]}, \"layout\": {\"annotationdefaults\": {\"arrowcolor\": \"#2a3f5f\", \"arrowhead\": 0, \"arrowwidth\": 1}, \"autotypenumbers\": \"strict\", \"coloraxis\": {\"colorbar\": {\"outlinewidth\": 0, \"ticks\": \"\"}}, \"colorscale\": {\"diverging\": [[0, \"#8e0152\"], [0.1, \"#c51b7d\"], [0.2, \"#de77ae\"], [0.3, \"#f1b6da\"], [0.4, \"#fde0ef\"], [0.5, \"#f7f7f7\"], [0.6, \"#e6f5d0\"], [0.7, \"#b8e186\"], [0.8, \"#7fbc41\"], [0.9, \"#4d9221\"], [1, \"#276419\"]], \"sequential\": [[0.0, \"#0d0887\"], [0.1111111111111111, \"#46039f\"], [0.2222222222222222, \"#7201a8\"], [0.3333333333333333, \"#9c179e\"], [0.4444444444444444, \"#bd3786\"], [0.5555555555555556, \"#d8576b\"], [0.6666666666666666, \"#ed7953\"], [0.7777777777777778, \"#fb9f3a\"], [0.8888888888888888, \"#fdca26\"], [1.0, \"#f0f921\"]], \"sequentialminus\": [[0.0, \"#0d0887\"], [0.1111111111111111, \"#46039f\"], [0.2222222222222222, \"#7201a8\"], [0.3333333333333333, \"#9c179e\"], [0.4444444444444444, \"#bd3786\"], [0.5555555555555556, \"#d8576b\"], [0.6666666666666666, \"#ed7953\"], [0.7777777777777778, \"#fb9f3a\"], [0.8888888888888888, \"#fdca26\"], [1.0, \"#f0f921\"]]}, \"colorway\": [\"#636efa\", \"#EF553B\", \"#00cc96\", \"#ab63fa\", \"#FFA15A\", \"#19d3f3\", \"#FF6692\", \"#B6E880\", \"#FF97FF\", \"#FECB52\"], \"font\": {\"color\": \"#2a3f5f\"}, \"geo\": {\"bgcolor\": \"white\", \"lakecolor\": \"white\", \"landcolor\": \"#E5ECF6\", \"showlakes\": true, \"showland\": true, \"subunitcolor\": \"white\"}, \"hoverlabel\": {\"align\": \"left\"}, \"hovermode\": \"closest\", \"mapbox\": {\"style\": \"light\"}, \"paper_bgcolor\": \"white\", \"plot_bgcolor\": \"#E5ECF6\", \"polar\": {\"angularaxis\": {\"gridcolor\": \"white\", \"linecolor\": \"white\", \"ticks\": \"\"}, \"bgcolor\": \"#E5ECF6\", \"radialaxis\": {\"gridcolor\": \"white\", \"linecolor\": \"white\", \"ticks\": \"\"}}, \"scene\": {\"xaxis\": {\"backgroundcolor\": \"#E5ECF6\", \"gridcolor\": \"white\", \"gridwidth\": 2, \"linecolor\": \"white\", \"showbackground\": true, \"ticks\": \"\", \"zerolinecolor\": \"white\"}, \"yaxis\": {\"backgroundcolor\": \"#E5ECF6\", \"gridcolor\": \"white\", \"gridwidth\": 2, \"linecolor\": \"white\", \"showbackground\": true, \"ticks\": \"\", \"zerolinecolor\": \"white\"}, \"zaxis\": {\"backgroundcolor\": \"#E5ECF6\", \"gridcolor\": \"white\", \"gridwidth\": 2, \"linecolor\": \"white\", \"showbackground\": true, \"ticks\": \"\", \"zerolinecolor\": \"white\"}}, \"shapedefaults\": {\"line\": {\"color\": \"#2a3f5f\"}}, \"ternary\": {\"aaxis\": {\"gridcolor\": \"white\", \"linecolor\": \"white\", \"ticks\": \"\"}, \"baxis\": {\"gridcolor\": \"white\", \"linecolor\": \"white\", \"ticks\": \"\"}, \"bgcolor\": \"#E5ECF6\", \"caxis\": {\"gridcolor\": \"white\", \"linecolor\": \"white\", \"ticks\": \"\"}}, \"title\": {\"x\": 0.05}, \"xaxis\": {\"automargin\": true, \"gridcolor\": \"white\", \"linecolor\": \"white\", \"ticks\": \"\", \"title\": {\"standoff\": 15}, \"zerolinecolor\": \"white\", \"zerolinewidth\": 2}, \"yaxis\": {\"automargin\": true, \"gridcolor\": \"white\", \"linecolor\": \"white\", \"ticks\": \"\", \"title\": {\"standoff\": 15}, \"zerolinecolor\": \"white\", \"zerolinewidth\": 2}}}, \"title\": {\"text\": \"Plotting Relative Difference in MAPs\"}, \"xaxis\": {\"anchor\": \"y\", \"domain\": [0.0, 1.0], \"title\": {\"text\": \"Perturbations\"}}, \"yaxis\": {\"anchor\": \"x\", \"domain\": [0.0, 1.0], \"title\": {\"text\": \"Differences\"}}},                        {\"responsive\": true}                    ).then(function(){\n",
       "                            \n",
       "var gd = document.getElementById('863394b9-7cee-4185-97a3-e8908a0d0932');\n",
       "var x = new MutationObserver(function (mutations, observer) {{\n",
       "        var display = window.getComputedStyle(gd).display;\n",
       "        if (!display || display === 'none') {{\n",
       "            console.log([gd, 'removed!']);\n",
       "            Plotly.purge(gd);\n",
       "            observer.disconnect();\n",
       "        }}\n",
       "}});\n",
       "\n",
       "// Listen for the removal of the full notebook cells\n",
       "var notebookContainer = gd.closest('#notebook-container');\n",
       "if (notebookContainer) {{\n",
       "    x.observe(notebookContainer, {childList: true});\n",
       "}}\n",
       "\n",
       "// Listen for the clearing of the current output cell\n",
       "var outputEl = gd.closest('.output');\n",
       "if (outputEl) {{\n",
       "    x.observe(outputEl, {childList: true});\n",
       "}}\n",
       "\n",
       "                        })                };                });            </script>        </div>"
      ]
     },
     "metadata": {},
     "output_type": "display_data"
    }
   ],
   "source": [
    "X_map = np.array([map1_mean, map2_mean, map3_mean, map4_mean, map5_mean, map6_mean, map7_mean, map8_mean])\n",
    "err_map = np.array([map1_var, map2_var, map3_var, map4_var, map5_var, map6_var, map7_var, map8_var])\n",
    "rows = [\"RemoveNegation\", \"RemoveWords\", \"DuplicateWords\", \"InsertWords\", \"ReplaceWords\", \"BERTSentenceReplace\", \"ReplaceWordsWithAntonyms\", \"SourceAsTarget\"]\n",
    "lang = []\n",
    "for i in range(len(X_map)):\n",
    "    lang.append(source_lang)\n",
    "\n",
    "dfplot = pd.DataFrame(dict(Perturbations=rows, Differences=X_map, error=err_map, Language=lang))\n",
    "\n",
    "fig = px.scatter(dfplot, title=\"Plotting Relative Difference in MAPs\", y=\"Differences\", x=\"Perturbations\", error_y=\"error\", color=\"Language\")\n",
    "fig.show()"
   ]
  },
  {
   "cell_type": "code",
   "execution_count": 95,
   "id": "b99c831f-ca83-48ed-b154-0475a3f018ec",
   "metadata": {},
   "outputs": [
    {
     "data": {
      "application/vnd.plotly.v1+json": {
       "config": {
        "plotlyServerURL": "https://plot.ly"
       },
       "data": [
        {
         "error_y": {
          "array": [
           0.00031960161132399287,
           0.000309930162242475,
           0.0009732747311927071,
           0.001995457137326997,
           0.0008624427672265594,
           0.00015349535773751194,
           0.00028581855710872934,
           0.0007828917818573243,
           0.0008150215357359078,
           0.0012980815721643799,
           0.0015586037520679298,
           0.002541462646496201,
           0.004316515706560726,
           0.005398244438069368
          ]
         },
         "hovertemplate": "Language=si<br>Perturbations=%{x}<br>Differences=%{y}<extra></extra>",
         "legendgroup": "si",
         "marker": {
          "color": "#636efa",
          "symbol": "circle"
         },
         "mode": "markers",
         "name": "si",
         "orientation": "v",
         "showlegend": true,
         "type": "scatter",
         "x": [
          "RemovePunctuation",
          "ReplacePunctuation",
          "RemoveDeterminers",
          "ReplaceDeterminers",
          "UPPERCASE",
          "lowercase",
          "RemoveNegation",
          "RemoveWords",
          "DuplicateWords",
          "InsertWords",
          "ReplaceWords",
          "BERTSentenceReplace",
          "ReplaceWordsWithAntonyms",
          "SourceAsTarget"
         ],
         "xaxis": "x",
         "y": [
          0.009861105739480198,
          0.023959411016785268,
          0.02423650568181818,
          0.05562171652062656,
          0.03127791905167079,
          0.00553845698290532,
          0.016068892045454544,
          0.041453144337871284,
          0.04596874879138304,
          0.08363085454053218,
          0.09238755632155013,
          0.10857417040532177,
          0.10489521536597596,
          -0.027611458655631187
         ],
         "yaxis": "y"
        }
       ],
       "layout": {
        "autosize": true,
        "legend": {
         "title": {
          "text": "Language"
         },
         "tracegroupgap": 0
        },
        "template": {
         "data": {
          "bar": [
           {
            "error_x": {
             "color": "#2a3f5f"
            },
            "error_y": {
             "color": "#2a3f5f"
            },
            "marker": {
             "line": {
              "color": "#E5ECF6",
              "width": 0.5
             }
            },
            "type": "bar"
           }
          ],
          "barpolar": [
           {
            "marker": {
             "line": {
              "color": "#E5ECF6",
              "width": 0.5
             }
            },
            "type": "barpolar"
           }
          ],
          "carpet": [
           {
            "aaxis": {
             "endlinecolor": "#2a3f5f",
             "gridcolor": "white",
             "linecolor": "white",
             "minorgridcolor": "white",
             "startlinecolor": "#2a3f5f"
            },
            "baxis": {
             "endlinecolor": "#2a3f5f",
             "gridcolor": "white",
             "linecolor": "white",
             "minorgridcolor": "white",
             "startlinecolor": "#2a3f5f"
            },
            "type": "carpet"
           }
          ],
          "choropleth": [
           {
            "colorbar": {
             "outlinewidth": 0,
             "ticks": ""
            },
            "type": "choropleth"
           }
          ],
          "contour": [
           {
            "colorbar": {
             "outlinewidth": 0,
             "ticks": ""
            },
            "colorscale": [
             [
              0,
              "#0d0887"
             ],
             [
              0.1111111111111111,
              "#46039f"
             ],
             [
              0.2222222222222222,
              "#7201a8"
             ],
             [
              0.3333333333333333,
              "#9c179e"
             ],
             [
              0.4444444444444444,
              "#bd3786"
             ],
             [
              0.5555555555555556,
              "#d8576b"
             ],
             [
              0.6666666666666666,
              "#ed7953"
             ],
             [
              0.7777777777777778,
              "#fb9f3a"
             ],
             [
              0.8888888888888888,
              "#fdca26"
             ],
             [
              1,
              "#f0f921"
             ]
            ],
            "type": "contour"
           }
          ],
          "contourcarpet": [
           {
            "colorbar": {
             "outlinewidth": 0,
             "ticks": ""
            },
            "type": "contourcarpet"
           }
          ],
          "heatmap": [
           {
            "colorbar": {
             "outlinewidth": 0,
             "ticks": ""
            },
            "colorscale": [
             [
              0,
              "#0d0887"
             ],
             [
              0.1111111111111111,
              "#46039f"
             ],
             [
              0.2222222222222222,
              "#7201a8"
             ],
             [
              0.3333333333333333,
              "#9c179e"
             ],
             [
              0.4444444444444444,
              "#bd3786"
             ],
             [
              0.5555555555555556,
              "#d8576b"
             ],
             [
              0.6666666666666666,
              "#ed7953"
             ],
             [
              0.7777777777777778,
              "#fb9f3a"
             ],
             [
              0.8888888888888888,
              "#fdca26"
             ],
             [
              1,
              "#f0f921"
             ]
            ],
            "type": "heatmap"
           }
          ],
          "heatmapgl": [
           {
            "colorbar": {
             "outlinewidth": 0,
             "ticks": ""
            },
            "colorscale": [
             [
              0,
              "#0d0887"
             ],
             [
              0.1111111111111111,
              "#46039f"
             ],
             [
              0.2222222222222222,
              "#7201a8"
             ],
             [
              0.3333333333333333,
              "#9c179e"
             ],
             [
              0.4444444444444444,
              "#bd3786"
             ],
             [
              0.5555555555555556,
              "#d8576b"
             ],
             [
              0.6666666666666666,
              "#ed7953"
             ],
             [
              0.7777777777777778,
              "#fb9f3a"
             ],
             [
              0.8888888888888888,
              "#fdca26"
             ],
             [
              1,
              "#f0f921"
             ]
            ],
            "type": "heatmapgl"
           }
          ],
          "histogram": [
           {
            "marker": {
             "colorbar": {
              "outlinewidth": 0,
              "ticks": ""
             }
            },
            "type": "histogram"
           }
          ],
          "histogram2d": [
           {
            "colorbar": {
             "outlinewidth": 0,
             "ticks": ""
            },
            "colorscale": [
             [
              0,
              "#0d0887"
             ],
             [
              0.1111111111111111,
              "#46039f"
             ],
             [
              0.2222222222222222,
              "#7201a8"
             ],
             [
              0.3333333333333333,
              "#9c179e"
             ],
             [
              0.4444444444444444,
              "#bd3786"
             ],
             [
              0.5555555555555556,
              "#d8576b"
             ],
             [
              0.6666666666666666,
              "#ed7953"
             ],
             [
              0.7777777777777778,
              "#fb9f3a"
             ],
             [
              0.8888888888888888,
              "#fdca26"
             ],
             [
              1,
              "#f0f921"
             ]
            ],
            "type": "histogram2d"
           }
          ],
          "histogram2dcontour": [
           {
            "colorbar": {
             "outlinewidth": 0,
             "ticks": ""
            },
            "colorscale": [
             [
              0,
              "#0d0887"
             ],
             [
              0.1111111111111111,
              "#46039f"
             ],
             [
              0.2222222222222222,
              "#7201a8"
             ],
             [
              0.3333333333333333,
              "#9c179e"
             ],
             [
              0.4444444444444444,
              "#bd3786"
             ],
             [
              0.5555555555555556,
              "#d8576b"
             ],
             [
              0.6666666666666666,
              "#ed7953"
             ],
             [
              0.7777777777777778,
              "#fb9f3a"
             ],
             [
              0.8888888888888888,
              "#fdca26"
             ],
             [
              1,
              "#f0f921"
             ]
            ],
            "type": "histogram2dcontour"
           }
          ],
          "mesh3d": [
           {
            "colorbar": {
             "outlinewidth": 0,
             "ticks": ""
            },
            "type": "mesh3d"
           }
          ],
          "parcoords": [
           {
            "line": {
             "colorbar": {
              "outlinewidth": 0,
              "ticks": ""
             }
            },
            "type": "parcoords"
           }
          ],
          "pie": [
           {
            "automargin": true,
            "type": "pie"
           }
          ],
          "scatter": [
           {
            "marker": {
             "colorbar": {
              "outlinewidth": 0,
              "ticks": ""
             }
            },
            "type": "scatter"
           }
          ],
          "scatter3d": [
           {
            "line": {
             "colorbar": {
              "outlinewidth": 0,
              "ticks": ""
             }
            },
            "marker": {
             "colorbar": {
              "outlinewidth": 0,
              "ticks": ""
             }
            },
            "type": "scatter3d"
           }
          ],
          "scattercarpet": [
           {
            "marker": {
             "colorbar": {
              "outlinewidth": 0,
              "ticks": ""
             }
            },
            "type": "scattercarpet"
           }
          ],
          "scattergeo": [
           {
            "marker": {
             "colorbar": {
              "outlinewidth": 0,
              "ticks": ""
             }
            },
            "type": "scattergeo"
           }
          ],
          "scattergl": [
           {
            "marker": {
             "colorbar": {
              "outlinewidth": 0,
              "ticks": ""
             }
            },
            "type": "scattergl"
           }
          ],
          "scattermapbox": [
           {
            "marker": {
             "colorbar": {
              "outlinewidth": 0,
              "ticks": ""
             }
            },
            "type": "scattermapbox"
           }
          ],
          "scatterpolar": [
           {
            "marker": {
             "colorbar": {
              "outlinewidth": 0,
              "ticks": ""
             }
            },
            "type": "scatterpolar"
           }
          ],
          "scatterpolargl": [
           {
            "marker": {
             "colorbar": {
              "outlinewidth": 0,
              "ticks": ""
             }
            },
            "type": "scatterpolargl"
           }
          ],
          "scatterternary": [
           {
            "marker": {
             "colorbar": {
              "outlinewidth": 0,
              "ticks": ""
             }
            },
            "type": "scatterternary"
           }
          ],
          "surface": [
           {
            "colorbar": {
             "outlinewidth": 0,
             "ticks": ""
            },
            "colorscale": [
             [
              0,
              "#0d0887"
             ],
             [
              0.1111111111111111,
              "#46039f"
             ],
             [
              0.2222222222222222,
              "#7201a8"
             ],
             [
              0.3333333333333333,
              "#9c179e"
             ],
             [
              0.4444444444444444,
              "#bd3786"
             ],
             [
              0.5555555555555556,
              "#d8576b"
             ],
             [
              0.6666666666666666,
              "#ed7953"
             ],
             [
              0.7777777777777778,
              "#fb9f3a"
             ],
             [
              0.8888888888888888,
              "#fdca26"
             ],
             [
              1,
              "#f0f921"
             ]
            ],
            "type": "surface"
           }
          ],
          "table": [
           {
            "cells": {
             "fill": {
              "color": "#EBF0F8"
             },
             "line": {
              "color": "white"
             }
            },
            "header": {
             "fill": {
              "color": "#C8D4E3"
             },
             "line": {
              "color": "white"
             }
            },
            "type": "table"
           }
          ]
         },
         "layout": {
          "annotationdefaults": {
           "arrowcolor": "#2a3f5f",
           "arrowhead": 0,
           "arrowwidth": 1
          },
          "autotypenumbers": "strict",
          "coloraxis": {
           "colorbar": {
            "outlinewidth": 0,
            "ticks": ""
           }
          },
          "colorscale": {
           "diverging": [
            [
             0,
             "#8e0152"
            ],
            [
             0.1,
             "#c51b7d"
            ],
            [
             0.2,
             "#de77ae"
            ],
            [
             0.3,
             "#f1b6da"
            ],
            [
             0.4,
             "#fde0ef"
            ],
            [
             0.5,
             "#f7f7f7"
            ],
            [
             0.6,
             "#e6f5d0"
            ],
            [
             0.7,
             "#b8e186"
            ],
            [
             0.8,
             "#7fbc41"
            ],
            [
             0.9,
             "#4d9221"
            ],
            [
             1,
             "#276419"
            ]
           ],
           "sequential": [
            [
             0,
             "#0d0887"
            ],
            [
             0.1111111111111111,
             "#46039f"
            ],
            [
             0.2222222222222222,
             "#7201a8"
            ],
            [
             0.3333333333333333,
             "#9c179e"
            ],
            [
             0.4444444444444444,
             "#bd3786"
            ],
            [
             0.5555555555555556,
             "#d8576b"
            ],
            [
             0.6666666666666666,
             "#ed7953"
            ],
            [
             0.7777777777777778,
             "#fb9f3a"
            ],
            [
             0.8888888888888888,
             "#fdca26"
            ],
            [
             1,
             "#f0f921"
            ]
           ],
           "sequentialminus": [
            [
             0,
             "#0d0887"
            ],
            [
             0.1111111111111111,
             "#46039f"
            ],
            [
             0.2222222222222222,
             "#7201a8"
            ],
            [
             0.3333333333333333,
             "#9c179e"
            ],
            [
             0.4444444444444444,
             "#bd3786"
            ],
            [
             0.5555555555555556,
             "#d8576b"
            ],
            [
             0.6666666666666666,
             "#ed7953"
            ],
            [
             0.7777777777777778,
             "#fb9f3a"
            ],
            [
             0.8888888888888888,
             "#fdca26"
            ],
            [
             1,
             "#f0f921"
            ]
           ]
          },
          "colorway": [
           "#636efa",
           "#EF553B",
           "#00cc96",
           "#ab63fa",
           "#FFA15A",
           "#19d3f3",
           "#FF6692",
           "#B6E880",
           "#FF97FF",
           "#FECB52"
          ],
          "font": {
           "color": "#2a3f5f"
          },
          "geo": {
           "bgcolor": "white",
           "lakecolor": "white",
           "landcolor": "#E5ECF6",
           "showlakes": true,
           "showland": true,
           "subunitcolor": "white"
          },
          "hoverlabel": {
           "align": "left"
          },
          "hovermode": "closest",
          "mapbox": {
           "style": "light"
          },
          "paper_bgcolor": "white",
          "plot_bgcolor": "#E5ECF6",
          "polar": {
           "angularaxis": {
            "gridcolor": "white",
            "linecolor": "white",
            "ticks": ""
           },
           "bgcolor": "#E5ECF6",
           "radialaxis": {
            "gridcolor": "white",
            "linecolor": "white",
            "ticks": ""
           }
          },
          "scene": {
           "xaxis": {
            "backgroundcolor": "#E5ECF6",
            "gridcolor": "white",
            "gridwidth": 2,
            "linecolor": "white",
            "showbackground": true,
            "ticks": "",
            "zerolinecolor": "white"
           },
           "yaxis": {
            "backgroundcolor": "#E5ECF6",
            "gridcolor": "white",
            "gridwidth": 2,
            "linecolor": "white",
            "showbackground": true,
            "ticks": "",
            "zerolinecolor": "white"
           },
           "zaxis": {
            "backgroundcolor": "#E5ECF6",
            "gridcolor": "white",
            "gridwidth": 2,
            "linecolor": "white",
            "showbackground": true,
            "ticks": "",
            "zerolinecolor": "white"
           }
          },
          "shapedefaults": {
           "line": {
            "color": "#2a3f5f"
           }
          },
          "ternary": {
           "aaxis": {
            "gridcolor": "white",
            "linecolor": "white",
            "ticks": ""
           },
           "baxis": {
            "gridcolor": "white",
            "linecolor": "white",
            "ticks": ""
           },
           "bgcolor": "#E5ECF6",
           "caxis": {
            "gridcolor": "white",
            "linecolor": "white",
            "ticks": ""
           }
          },
          "title": {
           "x": 0.05
          },
          "xaxis": {
           "automargin": true,
           "gridcolor": "white",
           "linecolor": "white",
           "ticks": "",
           "title": {
            "standoff": 15
           },
           "zerolinecolor": "white",
           "zerolinewidth": 2
          },
          "yaxis": {
           "automargin": true,
           "gridcolor": "white",
           "linecolor": "white",
           "ticks": "",
           "title": {
            "standoff": 15
           },
           "zerolinecolor": "white",
           "zerolinewidth": 2
          }
         }
        },
        "title": {
         "text": "Plotting Relative Difference in MPPs and MAPs"
        },
        "xaxis": {
         "anchor": "y",
         "autorange": true,
         "domain": [
          0,
          1
         ],
         "range": [
          -0.7778633795582948,
          13.777863379558294
         ],
         "title": {
          "text": "Perturbations"
         },
         "type": "category"
        },
        "yaxis": {
         "anchor": "x",
         "autorange": true,
         "domain": [
          0,
          1
         ],
         "range": [
          -0.04103393014400776,
          0.11945061086213628
         ],
         "title": {
          "text": "Differences"
         },
         "type": "linear"
        }
       }
      },
      "image/png": "[encoded data removed]",
      "text/html": [
       "<div>                            <div id=\"a9bd7c0f-e8dc-4659-93ae-8d6b8c8c6257\" class=\"plotly-graph-div\" style=\"height:525px; width:100%;\"></div>            <script type=\"text/javascript\">                require([\"plotly\"], function(Plotly) {                    window.PLOTLYENV=window.PLOTLYENV || {};                                    if (document.getElementById(\"a9bd7c0f-e8dc-4659-93ae-8d6b8c8c6257\")) {                    Plotly.newPlot(                        \"a9bd7c0f-e8dc-4659-93ae-8d6b8c8c6257\",                        [{\"error_y\": {\"array\": [0.00031960161132399287, 0.000309930162242475, 0.0009732747311927071, 0.001995457137326997, 0.0008624427672265594, 0.00015349535773751194, 0.00028581855710872934, 0.0007828917818573243, 0.0008150215357359078, 0.0012980815721643799, 0.0015586037520679298, 0.002541462646496201, 0.004316515706560726, 0.005398244438069368]}, \"hovertemplate\": \"Language=si<br>Perturbations=%{x}<br>Differences=%{y}<extra></extra>\", \"legendgroup\": \"si\", \"marker\": {\"color\": \"#636efa\", \"symbol\": \"circle\"}, \"mode\": \"markers\", \"name\": \"si\", \"orientation\": \"v\", \"showlegend\": true, \"type\": \"scatter\", \"x\": [\"RemovePunctuation\", \"ReplacePunctuation\", \"RemoveDeterminers\", \"ReplaceDeterminers\", \"UPPERCASE\", \"lowercase\", \"RemoveNegation\", \"RemoveWords\", \"DuplicateWords\", \"InsertWords\", \"ReplaceWords\", \"BERTSentenceReplace\", \"ReplaceWordsWithAntonyms\", \"SourceAsTarget\"], \"xaxis\": \"x\", \"y\": [0.009861105739480198, 0.023959411016785268, 0.02423650568181818, 0.05562171652062656, 0.03127791905167079, 0.00553845698290532, 0.016068892045454544, 0.041453144337871284, 0.04596874879138304, 0.08363085454053218, 0.09238755632155013, 0.10857417040532177, 0.10489521536597596, -0.027611458655631187], \"yaxis\": \"y\"}],                        {\"legend\": {\"title\": {\"text\": \"Language\"}, \"tracegroupgap\": 0}, \"template\": {\"data\": {\"bar\": [{\"error_x\": {\"color\": \"#2a3f5f\"}, \"error_y\": {\"color\": \"#2a3f5f\"}, \"marker\": {\"line\": {\"color\": \"#E5ECF6\", \"width\": 0.5}}, \"type\": \"bar\"}], \"barpolar\": [{\"marker\": {\"line\": {\"color\": \"#E5ECF6\", \"width\": 0.5}}, \"type\": \"barpolar\"}], \"carpet\": [{\"aaxis\": {\"endlinecolor\": \"#2a3f5f\", \"gridcolor\": \"white\", \"linecolor\": \"white\", \"minorgridcolor\": \"white\", \"startlinecolor\": \"#2a3f5f\"}, \"baxis\": {\"endlinecolor\": \"#2a3f5f\", \"gridcolor\": \"white\", \"linecolor\": \"white\", \"minorgridcolor\": \"white\", \"startlinecolor\": \"#2a3f5f\"}, \"type\": \"carpet\"}], \"choropleth\": [{\"colorbar\": {\"outlinewidth\": 0, \"ticks\": \"\"}, \"type\": \"choropleth\"}], \"contour\": [{\"colorbar\": {\"outlinewidth\": 0, \"ticks\": \"\"}, \"colorscale\": [[0.0, \"#0d0887\"], [0.1111111111111111, \"#46039f\"], [0.2222222222222222, \"#7201a8\"], [0.3333333333333333, \"#9c179e\"], [0.4444444444444444, \"#bd3786\"], [0.5555555555555556, \"#d8576b\"], [0.6666666666666666, \"#ed7953\"], [0.7777777777777778, \"#fb9f3a\"], [0.8888888888888888, \"#fdca26\"], [1.0, \"#f0f921\"]], \"type\": \"contour\"}], \"contourcarpet\": [{\"colorbar\": {\"outlinewidth\": 0, \"ticks\": \"\"}, \"type\": \"contourcarpet\"}], \"heatmap\": [{\"colorbar\": {\"outlinewidth\": 0, \"ticks\": \"\"}, \"colorscale\": [[0.0, \"#0d0887\"], [0.1111111111111111, \"#46039f\"], [0.2222222222222222, \"#7201a8\"], [0.3333333333333333, \"#9c179e\"], [0.4444444444444444, \"#bd3786\"], [0.5555555555555556, \"#d8576b\"], [0.6666666666666666, \"#ed7953\"], [0.7777777777777778, \"#fb9f3a\"], [0.8888888888888888, \"#fdca26\"], [1.0, \"#f0f921\"]], \"type\": \"heatmap\"}], \"heatmapgl\": [{\"colorbar\": {\"outlinewidth\": 0, \"ticks\": \"\"}, \"colorscale\": [[0.0, \"#0d0887\"], [0.1111111111111111, \"#46039f\"], [0.2222222222222222, \"#7201a8\"], [0.3333333333333333, \"#9c179e\"], [0.4444444444444444, \"#bd3786\"], [0.5555555555555556, \"#d8576b\"], [0.6666666666666666, \"#ed7953\"], [0.7777777777777778, \"#fb9f3a\"], [0.8888888888888888, \"#fdca26\"], [1.0, \"#f0f921\"]], \"type\": \"heatmapgl\"}], \"histogram\": [{\"marker\": {\"colorbar\": {\"outlinewidth\": 0, \"ticks\": \"\"}}, \"type\": \"histogram\"}], \"histogram2d\": [{\"colorbar\": {\"outlinewidth\": 0, \"ticks\": \"\"}, \"colorscale\": [[0.0, \"#0d0887\"], [0.1111111111111111, \"#46039f\"], [0.2222222222222222, \"#7201a8\"], [0.3333333333333333, \"#9c179e\"], [0.4444444444444444, \"#bd3786\"], [0.5555555555555556, \"#d8576b\"], [0.6666666666666666, \"#ed7953\"], [0.7777777777777778, \"#fb9f3a\"], [0.8888888888888888, \"#fdca26\"], [1.0, \"#f0f921\"]], \"type\": \"histogram2d\"}], \"histogram2dcontour\": [{\"colorbar\": {\"outlinewidth\": 0, \"ticks\": \"\"}, \"colorscale\": [[0.0, \"#0d0887\"], [0.1111111111111111, \"#46039f\"], [0.2222222222222222, \"#7201a8\"], [0.3333333333333333, \"#9c179e\"], [0.4444444444444444, \"#bd3786\"], [0.5555555555555556, \"#d8576b\"], [0.6666666666666666, \"#ed7953\"], [0.7777777777777778, \"#fb9f3a\"], [0.8888888888888888, \"#fdca26\"], [1.0, \"#f0f921\"]], \"type\": \"histogram2dcontour\"}], \"mesh3d\": [{\"colorbar\": {\"outlinewidth\": 0, \"ticks\": \"\"}, \"type\": \"mesh3d\"}], \"parcoords\": [{\"line\": {\"colorbar\": {\"outlinewidth\": 0, \"ticks\": \"\"}}, \"type\": \"parcoords\"}], \"pie\": [{\"automargin\": true, \"type\": \"pie\"}], \"scatter\": [{\"marker\": {\"colorbar\": {\"outlinewidth\": 0, \"ticks\": \"\"}}, \"type\": \"scatter\"}], \"scatter3d\": [{\"line\": {\"colorbar\": {\"outlinewidth\": 0, \"ticks\": \"\"}}, \"marker\": {\"colorbar\": {\"outlinewidth\": 0, \"ticks\": \"\"}}, \"type\": \"scatter3d\"}], \"scattercarpet\": [{\"marker\": {\"colorbar\": {\"outlinewidth\": 0, \"ticks\": \"\"}}, \"type\": \"scattercarpet\"}], \"scattergeo\": [{\"marker\": {\"colorbar\": {\"outlinewidth\": 0, \"ticks\": \"\"}}, \"type\": \"scattergeo\"}], \"scattergl\": [{\"marker\": {\"colorbar\": {\"outlinewidth\": 0, \"ticks\": \"\"}}, \"type\": \"scattergl\"}], \"scattermapbox\": [{\"marker\": {\"colorbar\": {\"outlinewidth\": 0, \"ticks\": \"\"}}, \"type\": \"scattermapbox\"}], \"scatterpolar\": [{\"marker\": {\"colorbar\": {\"outlinewidth\": 0, \"ticks\": \"\"}}, \"type\": \"scatterpolar\"}], \"scatterpolargl\": [{\"marker\": {\"colorbar\": {\"outlinewidth\": 0, \"ticks\": \"\"}}, \"type\": \"scatterpolargl\"}], \"scatterternary\": [{\"marker\": {\"colorbar\": {\"outlinewidth\": 0, \"ticks\": \"\"}}, \"type\": \"scatterternary\"}], \"surface\": [{\"colorbar\": {\"outlinewidth\": 0, \"ticks\": \"\"}, \"colorscale\": [[0.0, \"#0d0887\"], [0.1111111111111111, \"#46039f\"], [0.2222222222222222, \"#7201a8\"], [0.3333333333333333, \"#9c179e\"], [0.4444444444444444, \"#bd3786\"], [0.5555555555555556, \"#d8576b\"], [0.6666666666666666, \"#ed7953\"], [0.7777777777777778, \"#fb9f3a\"], [0.8888888888888888, \"#fdca26\"], [1.0, \"#f0f921\"]], \"type\": \"surface\"}], \"table\": [{\"cells\": {\"fill\": {\"color\": \"#EBF0F8\"}, \"line\": {\"color\": \"white\"}}, \"header\": {\"fill\": {\"color\": \"#C8D4E3\"}, \"line\": {\"color\": \"white\"}}, \"type\": \"table\"}]}, \"layout\": {\"annotationdefaults\": {\"arrowcolor\": \"#2a3f5f\", \"arrowhead\": 0, \"arrowwidth\": 1}, \"autotypenumbers\": \"strict\", \"coloraxis\": {\"colorbar\": {\"outlinewidth\": 0, \"ticks\": \"\"}}, \"colorscale\": {\"diverging\": [[0, \"#8e0152\"], [0.1, \"#c51b7d\"], [0.2, \"#de77ae\"], [0.3, \"#f1b6da\"], [0.4, \"#fde0ef\"], [0.5, \"#f7f7f7\"], [0.6, \"#e6f5d0\"], [0.7, \"#b8e186\"], [0.8, \"#7fbc41\"], [0.9, \"#4d9221\"], [1, \"#276419\"]], \"sequential\": [[0.0, \"#0d0887\"], [0.1111111111111111, \"#46039f\"], [0.2222222222222222, \"#7201a8\"], [0.3333333333333333, \"#9c179e\"], [0.4444444444444444, \"#bd3786\"], [0.5555555555555556, \"#d8576b\"], [0.6666666666666666, \"#ed7953\"], [0.7777777777777778, \"#fb9f3a\"], [0.8888888888888888, \"#fdca26\"], [1.0, \"#f0f921\"]], \"sequentialminus\": [[0.0, \"#0d0887\"], [0.1111111111111111, \"#46039f\"], [0.2222222222222222, \"#7201a8\"], [0.3333333333333333, \"#9c179e\"], [0.4444444444444444, \"#bd3786\"], [0.5555555555555556, \"#d8576b\"], [0.6666666666666666, \"#ed7953\"], [0.7777777777777778, \"#fb9f3a\"], [0.8888888888888888, \"#fdca26\"], [1.0, \"#f0f921\"]]}, \"colorway\": [\"#636efa\", \"#EF553B\", \"#00cc96\", \"#ab63fa\", \"#FFA15A\", \"#19d3f3\", \"#FF6692\", \"#B6E880\", \"#FF97FF\", \"#FECB52\"], \"font\": {\"color\": \"#2a3f5f\"}, \"geo\": {\"bgcolor\": \"white\", \"lakecolor\": \"white\", \"landcolor\": \"#E5ECF6\", \"showlakes\": true, \"showland\": true, \"subunitcolor\": \"white\"}, \"hoverlabel\": {\"align\": \"left\"}, \"hovermode\": \"closest\", \"mapbox\": {\"style\": \"light\"}, \"paper_bgcolor\": \"white\", \"plot_bgcolor\": \"#E5ECF6\", \"polar\": {\"angularaxis\": {\"gridcolor\": \"white\", \"linecolor\": \"white\", \"ticks\": \"\"}, \"bgcolor\": \"#E5ECF6\", \"radialaxis\": {\"gridcolor\": \"white\", \"linecolor\": \"white\", \"ticks\": \"\"}}, \"scene\": {\"xaxis\": {\"backgroundcolor\": \"#E5ECF6\", \"gridcolor\": \"white\", \"gridwidth\": 2, \"linecolor\": \"white\", \"showbackground\": true, \"ticks\": \"\", \"zerolinecolor\": \"white\"}, \"yaxis\": {\"backgroundcolor\": \"#E5ECF6\", \"gridcolor\": \"white\", \"gridwidth\": 2, \"linecolor\": \"white\", \"showbackground\": true, \"ticks\": \"\", \"zerolinecolor\": \"white\"}, \"zaxis\": {\"backgroundcolor\": \"#E5ECF6\", \"gridcolor\": \"white\", \"gridwidth\": 2, \"linecolor\": \"white\", \"showbackground\": true, \"ticks\": \"\", \"zerolinecolor\": \"white\"}}, \"shapedefaults\": {\"line\": {\"color\": \"#2a3f5f\"}}, \"ternary\": {\"aaxis\": {\"gridcolor\": \"white\", \"linecolor\": \"white\", \"ticks\": \"\"}, \"baxis\": {\"gridcolor\": \"white\", \"linecolor\": \"white\", \"ticks\": \"\"}, \"bgcolor\": \"#E5ECF6\", \"caxis\": {\"gridcolor\": \"white\", \"linecolor\": \"white\", \"ticks\": \"\"}}, \"title\": {\"x\": 0.05}, \"xaxis\": {\"automargin\": true, \"gridcolor\": \"white\", \"linecolor\": \"white\", \"ticks\": \"\", \"title\": {\"standoff\": 15}, \"zerolinecolor\": \"white\", \"zerolinewidth\": 2}, \"yaxis\": {\"automargin\": true, \"gridcolor\": \"white\", \"linecolor\": \"white\", \"ticks\": \"\", \"title\": {\"standoff\": 15}, \"zerolinecolor\": \"white\", \"zerolinewidth\": 2}}}, \"title\": {\"text\": \"Plotting Relative Difference in MPPs and MAPs\"}, \"xaxis\": {\"anchor\": \"y\", \"domain\": [0.0, 1.0], \"title\": {\"text\": \"Perturbations\"}}, \"yaxis\": {\"anchor\": \"x\", \"domain\": [0.0, 1.0], \"title\": {\"text\": \"Differences\"}}},                        {\"responsive\": true}                    ).then(function(){\n",
       "                            \n",
       "var gd = document.getElementById('a9bd7c0f-e8dc-4659-93ae-8d6b8c8c6257');\n",
       "var x = new MutationObserver(function (mutations, observer) {{\n",
       "        var display = window.getComputedStyle(gd).display;\n",
       "        if (!display || display === 'none') {{\n",
       "            console.log([gd, 'removed!']);\n",
       "            Plotly.purge(gd);\n",
       "            observer.disconnect();\n",
       "        }}\n",
       "}});\n",
       "\n",
       "// Listen for the removal of the full notebook cells\n",
       "var notebookContainer = gd.closest('#notebook-container');\n",
       "if (notebookContainer) {{\n",
       "    x.observe(notebookContainer, {childList: true});\n",
       "}}\n",
       "\n",
       "// Listen for the clearing of the current output cell\n",
       "var outputEl = gd.closest('.output');\n",
       "if (outputEl) {{\n",
       "    x.observe(outputEl, {childList: true});\n",
       "}}\n",
       "\n",
       "                        })                };                });            </script>        </div>"
      ]
     },
     "metadata": {},
     "output_type": "display_data"
    }
   ],
   "source": [
    "X_both = np.array([mpp1_mean, mpp2_mean, mpp3_mean, mpp4_mean, mpp5_mean, mpp6_mean, map1_mean, map2_mean, map3_mean, map4_mean, map5_mean, map6_mean, map7_mean, map8_mean])\n",
    "err_both = np.array([mpp1_var, mpp2_var, mpp3_var, mpp4_var, mpp5_var, mpp6_var, map1_var, map2_var, map3_var, map4_var, map5_var, map6_var, map7_var, map8_var])\n",
    "rows = [\"RemovePunctuation\", \"ReplacePunctuation\", \"RemoveDeterminers\", \"ReplaceDeterminers\", \"UPPERCASE\", \"lowercase\", \n",
    "        \"RemoveNegation\", \"RemoveWords\", \"DuplicateWords\", \"InsertWords\", \"ReplaceWords\", \"BERTSentenceReplace\", \"ReplaceWordsWithAntonyms\", \"SourceAsTarget\"]\n",
    "lang = []\n",
    "for i in range(len(X_both)):\n",
    "    lang.append(source_lang)\n",
    "    \n",
    "dfplot = pd.DataFrame(dict(Perturbations=rows, Differences=X_both, error=err_both, Language=lang))\n",
    "\n",
    "fig = px.scatter(dfplot, title=\"Plotting Relative Difference in MPPs and MAPs\", y=\"Differences\", x=\"Perturbations\", error_y=\"error\", color=\"Language\")\n",
    "fig.show()"
   ]
  },
  {
   "cell_type": "code",
   "execution_count": 98,
   "id": "1e9387b0-55cf-4b77-a5f5-55a5d8303c89",
   "metadata": {},
   "outputs": [],
   "source": [
    "np.save(\"commonResults/\"+source_lang+\"Means\"+tqmodel+\".csv\", X_both)\n",
    "np.save(\"commonResults/\"+source_lang+\"Errs\"+tqmodel+\".csv\", err_both)"
   ]
  },
  {
   "cell_type": "code",
   "execution_count": 99,
   "id": "585dae9b-65dd-4e0f-aa74-278102eb0510",
   "metadata": {},
   "outputs": [],
   "source": [
    "## From here onwards, you have dumped the relative differences for all the perturbations in terms of mean values and variances. \n",
    "## You can move to getGraphs.ipynb to generate a single graph for all the language pairs after you have done the same for all the languages for a model."
   ]
  },
  {
   "cell_type": "code",
   "execution_count": null,
   "id": "6f445522-5d40-476a-b7e5-7eeb59108419",
   "metadata": {},
   "outputs": [],
   "source": []
  }
 ],
 "metadata": {
  "kernelspec": {
   "display_name": "Python 3 (ipykernel)",
   "language": "python",
   "name": "python3"
  },
  "language_info": {
   "codemirror_mode": {
    "name": "ipython",
    "version": 3
   },
   "file_extension": ".py",
   "mimetype": "text/x-python",
   "name": "python",
   "nbconvert_exporter": "python",
   "pygments_lexer": "ipython3",
   "version": "3.8.11"
  }
 },
 "nbformat": 4,
 "nbformat_minor": 5
}
